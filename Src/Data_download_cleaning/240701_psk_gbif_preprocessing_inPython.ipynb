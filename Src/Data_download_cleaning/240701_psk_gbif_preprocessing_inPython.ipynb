{
 "cells": [
  {
   "cell_type": "code",
   "execution_count": 1,
   "id": "3fbf163c",
   "metadata": {},
   "outputs": [],
   "source": [
    "import os\n",
    "from matplotlib import pyplot as plt\n",
    "import rasterio\n",
    "from shapely.geometry import Point\n",
    "import geopandas as gpd\n",
    "import numpy as np\n",
    "import pandas as pd\n",
    "from random import sample\n",
    "from fiona.crs import from_string\n",
    "from functools import partial"
   ]
  },
  {
   "cell_type": "code",
   "execution_count": 2,
   "id": "1273d20f",
   "metadata": {},
   "outputs": [],
   "source": [
    "os.chdir(\"/Users/pranavkulkarni/SDM/Climate_Models_Arenaviruses\")"
   ]
  },
  {
   "cell_type": "code",
   "execution_count": 3,
   "id": "5bf6d6f5",
   "metadata": {},
   "outputs": [
    {
     "data": {
      "text/plain": [
       "BoundingBox(left=-84.75, bottom=-4.375, right=-47.25, top=14.375)"
      ]
     },
     "execution_count": 3,
     "metadata": {},
     "output_type": "execute_result"
    }
   ],
   "source": [
    "ref_rast = rasterio.open(\"./Data/Input/Processed/Resampled/guan/bclim_01.tif\")\n",
    "e = ref_rast.bounds\n",
    "e"
   ]
  },
  {
   "cell_type": "code",
   "execution_count": 4,
   "id": "337ab949",
   "metadata": {
    "scrolled": false
   },
   "outputs": [
    {
     "name": "stdout",
     "output_type": "stream",
     "text": [
      "<class 'pandas.core.frame.DataFrame'>\n",
      "RangeIndex: 326 entries, 0 to 325\n",
      "Columns: 144 entries, acceptedScientificName to downloadDate\n",
      "dtypes: bool(2), float64(16), int64(12), object(114)\n",
      "memory usage: 362.4+ KB\n"
     ]
    }
   ],
   "source": [
    "gbif_raw = pd.read_csv(\"./Data/Input/raw/GBIF/gbif_sig01.csv\")\n",
    "gbif_raw.info()"
   ]
  },
  {
   "cell_type": "code",
   "execution_count": 5,
   "id": "198fe8eb",
   "metadata": {},
   "outputs": [],
   "source": [
    "def random_points(mask, n):\n",
    "    bounds = mask.bounds\n",
    "    minx, miny, maxx, maxy = bounds.left, bounds.bottom, bounds.right, bounds.top\n",
    "    \n",
    "    x = []\n",
    "    y = []\n",
    "    for i in range(n):\n",
    "\n",
    "        xi = np.random.uniform(minx, maxx)\n",
    "\n",
    "        yi = np.random.uniform(miny, maxy)\n",
    "\n",
    "        x.append(xi)\n",
    "        y.append(yi)\n",
    "\n",
    "    points = pd.DataFrame({'lon':x, 'lat':y})\n",
    "    return(points)"
   ]
  },
  {
   "cell_type": "code",
   "execution_count": 13,
   "id": "39202e3d",
   "metadata": {},
   "outputs": [],
   "source": [
    "\n",
    "def process_train(gbif_data, coord_ref, pseudo_abs_f, path_write, layer_name, driver_write):\n",
    "    gbif = pd.DataFrame({'lon':gbif_data.lon, 'lat':gbif_data.lat})\n",
    "    gbif.drop_duplicates(inplace = True)\n",
    "    gbif.dropna(inplace = True)\n",
    "    bounds = coord_ref.bounds\n",
    "    minx, miny, maxx, maxy = bounds.left, bounds.bottom, bounds.right, bounds.top\n",
    "    e = [minx, maxx, miny, maxy] \n",
    "    gbif = gbif[(gbif['lon'] >= e[0]) & (gbif['lon'] <= e[1])]\n",
    "    gbif = gbif[(gbif['lat'] >= e[2]) & (gbif['lat'] <= e[3])]\n",
    "    presences = gbif.shape[0]\n",
    "    bg = random_points(coord_ref, presences * pseudo_abs_f)\n",
    "    train = pd.concat([gbif, bg], ignore_index=True)\n",
    "    pa_train = np.concatenate([np.ones(len(gbif)), np.zeros(len(bg))])\n",
    "    train = pd.DataFrame({'CLASS': pa_train, 'lon': train['lon'], 'lat': train['lat']})\n",
    "    class_pa = pd.DataFrame({'CLASS': train['CLASS']})\n",
    "    crs = from_string(ref_rast.crs.to_string())\n",
    "    geometry = [Point(xy) for xy in zip(train['lon'], train['lat'])]\n",
    "    data_map_gbif = gpd.GeoDataFrame(class_pa, crs=crs, geometry=geometry)\n",
    "\n",
    "    data_map_gbif.to_file(path_write, layer=layer_name, driver=driver_write, index=False)\n",
    "    \n",
    "    return {'bg': bg, 'train': train, 'crs': crs, 'dataMap_gbif': data_map_gbif}"
   ]
  },
  {
   "cell_type": "code",
   "execution_count": 14,
   "id": "8ed9df59",
   "metadata": {},
   "outputs": [
    {
     "name": "stderr",
     "output_type": "stream",
     "text": [
      "/var/folders/rt/5fcqh0ys1bl5412hpn8q4htc0000gn/T/ipykernel_22500/2782828497.py:1: FionaDeprecationWarning: This function will be removed in version 2.0. Please use CRS.from_string() instead.\n",
      "  process_list = process_train(gbif_raw, ref_rast, 1, \"./Data\", \"test\", \"ESRI Shapefile\")\n"
     ]
    }
   ],
   "source": [
    "process_list = process_train(gbif_raw, ref_rast, 1, \"./Data\", \"test\", \"ESRI Shapefile\")"
   ]
  }
 ],
 "metadata": {
  "kernelspec": {
   "display_name": "Python 3 (ipykernel)",
   "language": "python",
   "name": "python3"
  },
  "language_info": {
   "codemirror_mode": {
    "name": "ipython",
    "version": 3
   },
   "file_extension": ".py",
   "mimetype": "text/x-python",
   "name": "python",
   "nbconvert_exporter": "python",
   "pygments_lexer": "ipython3",
   "version": "3.11.5"
  }
 },
 "nbformat": 4,
 "nbformat_minor": 5
}
