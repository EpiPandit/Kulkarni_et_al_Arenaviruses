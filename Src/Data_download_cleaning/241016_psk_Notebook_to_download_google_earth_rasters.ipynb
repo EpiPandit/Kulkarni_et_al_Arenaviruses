{
 "cells": [
  {
   "cell_type": "markdown",
   "id": "765cefb0",
   "metadata": {},
   "source": [
    "# Python code to calculate and download NDVI data\n",
    "This script can be used to download any and all maps available on [Google Earth Engine](https://developers.google.com/earth-engine/datasets/catalog). \n",
    "\n",
    "To start, you will need a free Earth Explorer and Google cloud account which can be setup as directed [here](https://developers.google.com/earth-engine/guides/python_install) or alternatively, watch the youtube video embedded below.  \n",
    "\n",
    "Once this installation is done, import `ee` and `geemap` libraries and `ee.Initialize()`"
   ]
  },
  {
   "cell_type": "code",
   "execution_count": null,
   "id": "0c380d27",
   "metadata": {},
   "outputs": [],
   "source": [
    "#!pip install ee\n",
    "#!pip install geemap"
   ]
  },
  {
   "cell_type": "code",
   "execution_count": null,
   "id": "759094e6",
   "metadata": {},
   "outputs": [],
   "source": [
    "import ee\n",
    "import geemap\n",
    "import pandas as pd\n",
    "import geopandas as gpd\n",
    "import os\n",
    "import numpy as np\n",
    "import rasterio\n",
    "import rioxarray"
   ]
  },
  {
   "cell_type": "code",
   "execution_count": null,
   "id": "e52f7df3",
   "metadata": {},
   "outputs": [],
   "source": [
    "ee.Authenticate()"
   ]
  },
  {
   "cell_type": "code",
   "execution_count": null,
   "id": "22b69a2f",
   "metadata": {},
   "outputs": [],
   "source": [
    "ee.Initialize()"
   ]
  },
  {
   "cell_type": "markdown",
   "id": "26aa236e",
   "metadata": {},
   "source": [
    "## Steps to download rasters after initializing\n",
    " - Download a shapefile that represents the extent of the area you are downloading rasters for\n",
    " - **OR**\n",
    " - Alternatively, construct your own area from the extents\n",
    " \n",
    " - convert that to google readable format: `ee.Feature`\n",
    " - access google earth and query the satellite image you are looking for\n",
    " - reduce it to the shapefile region\n",
    " - check on google map\n",
    " - download the file or upload it to your google drive\n",
    " - check the local file if it is working"
   ]
  },
  {
   "cell_type": "code",
   "execution_count": null,
   "id": "b83c0a6a",
   "metadata": {},
   "outputs": [],
   "source": [
    "gp_df = gpd.GeoDataFrame(\"put your shapefile of borders of countries here\")\n",
    "data_image = geemap.geopandas_to_ee(gp_df)\n",
    "data_image.geometry().getInfo()\n",
    "    #OR\n",
    "ROI = [[-81,12.5],[-81,-2.5],[-51,-2.5],[-51,12.5],[-81,12.5]] # your extent here\n",
    "gp_df = ee.Algorithms.GeometryConstructors.MultiPolygon(coordinates = ROI, \n",
    "                                                      crs = \"EPSG:4326\", \n",
    "                                                      geodesic = False, \n",
    "                                                      maxError = 0, \n",
    "                                                      evenOdd = True)\n",
    "type(gp_df)"
   ]
  },
  {
   "cell_type": "code",
   "execution_count": null,
   "id": "528dc5ec",
   "metadata": {},
   "outputs": [],
   "source": [
    "image_left = ee.ImageCollection(\"MODIS/061/MOD13A3\").filterBounds(gp_df).filterDate('2000-01-01', '2000-12-31')\n",
    "ndvi_ven = image_left.select('NDVI').median()\n"
   ]
  },
  {
   "cell_type": "code",
   "execution_count": null,
   "id": "cc0e2a77",
   "metadata": {},
   "outputs": [],
   "source": [
    "ndvi_clipped = ndvi_ven.clip(gp_df)"
   ]
  },
  {
   "cell_type": "code",
   "execution_count": null,
   "id": "1b1b32a9",
   "metadata": {},
   "outputs": [],
   "source": [
    "display_ven = {\n",
    "    \"min\":0,\n",
    "    \"max\":10000,\n",
    "    \"palette\":['blue','yellow','green','darkgreen','black']\n",
    "}\n",
    "\n",
    "Map = geemap.Map()\n",
    "Map.setCenter(-66,7,5)\n",
    "Map.addLayer(ndvi_ven, display_ven)\n",
    "\n",
    "Map"
   ]
  },
  {
   "cell_type": "code",
   "execution_count": null,
   "id": "3c685a19",
   "metadata": {},
   "outputs": [],
   "source": [
    "task = ee.batch.Export.image.toDrive(\n",
    "    image=ndvi_clipped,\n",
    "    description='NDVI_2020',\n",
    "    folder='new_env_code',\n",
    "    region=roi,\n",
    "    scale = 2500,\n",
    "    maxPixels= 1e13,\n",
    "    #crs ='ESPG:4326',\n",
    ")\n",
    "task.start()"
   ]
  },
  {
   "cell_type": "code",
   "execution_count": null,
   "id": "640cdfd2",
   "metadata": {},
   "outputs": [],
   "source": [
    "ndvi_rast = rioxarray.open_rasterio(\"NDVI_demo.tif\")\n",
    "ndvi_dat = ndvi_rast.to_dataframe(\"ndvi_dat\").reset_index()\n",
    "ndvi_dat[-ndvi_dat.ndvi_dat].head()"
   ]
  },
  {
   "cell_type": "markdown",
   "id": "7b8bc183",
   "metadata": {},
   "source": [
    "## For other rasters\n",
    "Repeat the steps above and replace the `ee.ImageCollection(\"MODIS/061/MOD13A3\")` with the following"
   ]
  },
  {
   "cell_type": "code",
   "execution_count": null,
   "id": "e2540865",
   "metadata": {},
   "outputs": [],
   "source": [
    "dem = ee.Image(\"CGIAR/SRTM90_V4\").select(\"elevation\")\n",
    "dem_clipped = dem.clip(gp_df)\n",
    "task = ee.batch.Export.image.toDrive(\n",
    "    image=dem_clipped,\n",
    "    description='dem_srtm_demo',\n",
    "    folder='new_env_code',\n",
    "    region=geometry,\n",
    "    #scale = 30000,\n",
    "    maxPixels= 1e13,\n",
    "    #crs ='ESPG:4326',\n",
    ")\n",
    "task.start()"
   ]
  },
  {
   "cell_type": "code",
   "execution_count": null,
   "id": "22e17adb",
   "metadata": {},
   "outputs": [],
   "source": []
  }
 ],
 "metadata": {
  "kernelspec": {
   "display_name": "Python 3 (ipykernel)",
   "language": "python",
   "name": "python3"
  },
  "language_info": {
   "codemirror_mode": {
    "name": "ipython",
    "version": 3
   },
   "file_extension": ".py",
   "mimetype": "text/x-python",
   "name": "python",
   "nbconvert_exporter": "python",
   "pygments_lexer": "ipython3",
   "version": "3.11.5"
  }
 },
 "nbformat": 4,
 "nbformat_minor": 5
}
