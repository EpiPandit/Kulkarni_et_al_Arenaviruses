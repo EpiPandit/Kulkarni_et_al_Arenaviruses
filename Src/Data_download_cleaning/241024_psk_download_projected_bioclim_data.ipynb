{
 "cells": [
  {
   "cell_type": "markdown",
   "id": "07ca7b16-9d14-4b74-80f0-82e015a4e3ff",
   "metadata": {
    "slideshow": {
     "slide_type": "slide"
    },
    "tags": []
   },
   "source": [
    "## Code to download CMIP6 bioclim\n",
    "\n",
    "Download SSP2 and SSP 5 pathways.\n",
    "\n",
    "Adapted from code: ./src/Data cleaning/240522_psk_GBIF_bolivia.R"
   ]
  },
  {
   "cell_type": "code",
   "execution_count": null,
   "id": "0713ba52-49a2-4ad7-a050-a99698a93e58",
   "metadata": {},
   "outputs": [],
   "source": [
    "library(raster)\n",
    "library(dismo)\n",
    "library(maps)\n",
    "library(sf)"
   ]
  },
  {
   "cell_type": "markdown",
   "id": "00984c9d-e19d-4a3b-9026-53d91a5af98e",
   "metadata": {},
   "source": [
    "## Define function"
   ]
  },
  {
   "cell_type": "code",
   "execution_count": null,
   "id": "1c071e30",
   "metadata": {},
   "outputs": [],
   "source": [
    "process_cmip6 <- function(path_raw, variables, resolution, ssp_input, model_input, year_input, path_write) {\n",
    "  bioclim_proj <- geodata::cmip6_world(model = model_input,\n",
    "                                       var = variables,\n",
    "                                       res = resolution,\n",
    "                                       ssp = ssp_input,\n",
    "                                       time = as.character(year_input),\n",
    "                                       path = path_raw)\n",
    "  if (exists(\"e\")) {\n",
    "    bioclim_proj <- crop(bioclim_proj, e*1.25)  # crop to bg point extent\n",
    "  }\n",
    "  else message(\"extent missing, data not trimmed\")\n",
    "  # write rasters to /data folder\n",
    "  writeRaster(bioclim_proj,\n",
    "              filename = paste0(path_write, \"_bioclim_proj\", names(bioclim_proj), \".tif\"), \n",
    "              filetype = \"GTiff\", overwrite = TRUE)\n",
    "  \n",
    "  return(bioclim_proj)\n",
    "}\n"
   ]
  },
  {
   "cell_type": "code",
   "execution_count": null,
   "id": "525af6cf",
   "metadata": {},
   "outputs": [],
   "source": [
    "ls()"
   ]
  },
  {
   "cell_type": "markdown",
   "id": "f8bdfe26-7ea4-4632-beb4-b68391afacfc",
   "metadata": {},
   "source": [
    "## Set directory to your path"
   ]
  },
  {
   "cell_type": "code",
   "execution_count": null,
   "id": "e7a65c1e",
   "metadata": {},
   "outputs": [],
   "source": [
    "setwd(\"Your directory path\")\n",
    "getwd()"
   ]
  },
  {
   "cell_type": "markdown",
   "id": "d701db96-c60e-48d5-9169-c4f689ee2712",
   "metadata": {},
   "source": [
    "## Run process_cmip6 to download raw data"
   ]
  },
  {
   "cell_type": "code",
   "execution_count": null,
   "id": "b32e26c4",
   "metadata": {},
   "outputs": [],
   "source": [
    "ssp5 <- process_cmip6(path_raw = tempdir(),\n",
    "                            variables = \"bioc\",\n",
    "                            resolution = 2.5,\n",
    "                            year_input = \"2041-2060\",\n",
    "                            model_input = \"IPSL-CM6A-LR\",\n",
    "                            path_write = \"./Data/Input/Raw/CMIP6_raw/ssp5\",\n",
    "                            ssp_input = \"585\")"
   ]
  },
  {
   "cell_type": "code",
   "execution_count": null,
   "id": "c7efa98f",
   "metadata": {},
   "outputs": [],
   "source": [
    "tempdir()"
   ]
  },
  {
   "cell_type": "code",
   "execution_count": null,
   "id": "a260d016",
   "metadata": {},
   "outputs": [],
   "source": [
    "ssp2 <- process_cmip6(path_raw = tempdir(),\n",
    "                            variables = \"bioc\",\n",
    "                            resolution = 2.5,\n",
    "                            year_input = \"2041-2060\",\n",
    "                            model_input = \"IPSL-CM6A-LR\",\n",
    "                            path_write = \"./Data/Input/Raw/CMIP6_raw/ssp2\",\n",
    "                            ssp_input = \"245\")"
   ]
  },
  {
   "cell_type": "code",
   "execution_count": null,
   "id": "f496f330",
   "metadata": {},
   "outputs": [],
   "source": [
    "ssp2\n",
    "ssp5"
   ]
  },
  {
   "cell_type": "markdown",
   "id": "1a25a09a-fdad-4b4e-a101-81cf4ab83f8c",
   "metadata": {},
   "source": [
    "## Clip/ crop rasters to the same size as current data\n",
    "\n",
    "Use a reference raster or a shapefile"
   ]
  },
  {
   "cell_type": "code",
   "execution_count": null,
   "id": "63bd865c-9545-440b-a399-858265fb046b",
   "metadata": {},
   "outputs": [],
   "source": [
    "reference_raster <- raster(\"any one of current bioclim rasters\")\n",
    "extent <- extent(reference_raster)\n",
    "ssp2_cropped <- crop(ssp2, extent)\n",
    "ssp5_cropped <- crop(ssp5, extent)"
   ]
  },
  {
   "cell_type": "markdown",
   "id": "db7b4f23-7c9d-420f-baa1-e1237b518c9e",
   "metadata": {},
   "source": [
    "## Save the cropped rasters in a new folder in input data\n",
    "**NOTE: Make sure you have the new empty folders `/processed` and `/processed/projected/` created first before running this code**"
   ]
  },
  {
   "cell_type": "code",
   "execution_count": null,
   "id": "dff2256f-d494-484e-a329-14ded0aa051e",
   "metadata": {},
   "outputs": [],
   "source": [
    "write_path = \"./Data/Input/Processed/Projected/\"\n",
    "writeRaster(ss2_cropped, filename = paste0(write_path, names(ssp2_cropped), \".tif\"), bylayer = T, overwrite = T)\n",
    "writeRaster(ss5_cropped, filename = paste0(write_path, names(ssp5_cropped), \".tif\"), bylayer = T, overwrite = T)\n"
   ]
  }
 ],
 "metadata": {
  "kernelspec": {
   "display_name": "R-native",
   "language": "R",
   "name": "ir_native"
  },
  "language_info": {
   "codemirror_mode": "r",
   "file_extension": ".r",
   "mimetype": "text/x-r-source",
   "name": "R",
   "pygments_lexer": "r",
   "version": "4.4.0"
  }
 },
 "nbformat": 4,
 "nbformat_minor": 5
}
