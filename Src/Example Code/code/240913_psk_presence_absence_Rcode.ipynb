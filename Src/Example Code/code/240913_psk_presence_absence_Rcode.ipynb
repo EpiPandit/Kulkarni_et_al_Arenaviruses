{
 "cells": [
  {
   "cell_type": "markdown",
   "id": "aa980df3",
   "metadata": {},
   "source": [
    "# Code for generating presence absence from presence-only data\n",
    "\n",
    "`paSampling` performs a two-step procedure for uniformly sampling pseudo-absences within the environmental space. \n",
    "  1. Subset environmental rasters and collect them in a single dimension (sort of like principal component analysis)\n",
    "  2. Match suitable environmental indicators for presences and use the opposite to predict absences\n",
    " \n",
    " More info on [R-vignette](https://rdrr.io/github/danddr/UEsampling/f/README.md)\n",
    " "
   ]
  },
  {
   "cell_type": "markdown",
   "id": "1dd6dbf5",
   "metadata": {},
   "source": [
    "This is the example code for generating pseudo absences for Z. brevicauda species using this [GBIF data](https://www.gbif.org/species/2439344)\n",
    "\n",
    "Steps\n",
    "1. Read environmental raster data\n",
    "2. read presence only data and convert it to a lat-lon point data frame\n",
    "3. run the paSampling grid search\n",
    "4. save the new dataframe as an ESRI shapefile that can be plotted as a map"
   ]
  },
  {
   "cell_type": "code",
   "execution_count": null,
   "id": "1cb5119e",
   "metadata": {},
   "outputs": [],
   "source": [
    "setwd(\"path of your root folder\")\n",
    "getwd()"
   ]
  },
  {
   "cell_type": "code",
   "execution_count": null,
   "id": "da27e3e1",
   "metadata": {},
   "outputs": [],
   "source": [
    "library(USE) #devtools::install_github(\"danddr/USE\")\n",
    "library(terra)\n",
    "library(raster)\n",
    "library(sf)\n",
    "#library(tidyverse) #for data wrangling and plotting"
   ]
  },
  {
   "cell_type": "code",
   "execution_count": null,
   "id": "bd67b44b",
   "metadata": {},
   "outputs": [],
   "source": [
    "envdata <- do.call(brick, lapply(list.files(\n",
    "  path = \"./Data/Input/Processed/Resampled/guan\", \n",
    "  pattern = \"*.tif\", full.names = T),raster))\n",
    "#reads all the tif files in a folder called /guan/\n",
    "\n",
    "e <- extent(envdata)\n",
    "#get the lat-lon range or extent of all your rasters"
   ]
  },
  {
   "cell_type": "code",
   "execution_count": null,
   "id": "c7f7fe8f",
   "metadata": {},
   "outputs": [],
   "source": [
    "zyg_pres <- read.csv(\"./Data/Input/Raw/GBIF/gbif_zyg_brev01.csv\")\n",
    "process_gbif <- function(presence_data, e, name_longitude, name_latitude, date){\n",
    "  gbif <- data.frame(lon = rep(NA, nrow(presence_data), \n",
    "                               lat = rep(NA, nrow(presence_data))))\n",
    "  gbif$lon <- presence_data[,name_longitude]\n",
    "  gbif$lat <- presence_data[,name_latitude]\n",
    "  gbif <- unique(gbif)\n",
    "  gbif <- gbif[which(gbif$lon>=e[1] & gbif$lon<=e[2]),]\n",
    "  gbif <- gbif[which(gbif$lat>=e[3] & gbif$lat<=e[4]),]\n",
    "  return(gbif)\n",
    "}\n",
    "zyg_pres <- zyg_pres %>% dplyr::select(lon, lat) %>% dplyr::mutate(CLASS = rep(1, nrow(.)))\n",
    "\n",
    "zyg_pres <- process_gbif(zyg_pres, e = e, \"lon\", \"lat\", NA)\n",
    "\n",
    "myPres <- st_as_sf(zyg_pres, coords=c(\"lon\", \"lat\"), crs=4326)"
   ]
  },
  {
   "cell_type": "code",
   "execution_count": null,
   "id": "f0014d6d",
   "metadata": {},
   "outputs": [],
   "source": [
    "zyg.psAbs <- USE::paSampling(env.rast=envdata,\n",
    "                                pres=myPres,\n",
    "                                thres=0.75,\n",
    "                                H=NULL,\n",
    "                                grid.res=1,\n",
    "                                n.tr = as.numeric(nrow(myPres)),\n",
    "                                prev=NULL,\n",
    "                                sub.ts=F,\n",
    "                                n.ts=NULL,\n",
    "                                plot_proc=F,\n",
    "                                verbose=T)\n",
    "\n",
    "# from R-vignette\n",
    "# env.rast\t\n",
    "# A RasterStack, RasterBrick or a SpatRaster object comprising the variables \n",
    "# describing the environmental space.\n",
    "\n",
    "# pres\t\n",
    "# A SpatialPointsDataframe, a SpatVector or an sf object including the presence-only \n",
    "# observations of the species of interest.\n",
    "\n",
    "# thres\t\n",
    "# (double) This value identifies the quantile value used to specify the boundary of \n",
    "# the kernel density estimate (default thres=0.75 ). Thus, probability values higher \n",
    "# than the threshold should indicate portions of the multivariate space likely associated \n",
    "# with presence points.\n",
    "\n",
    "# H\t\n",
    "# The kernel bandwidth (i.e., the width of the kernel density function that defines \n",
    "#                       its shape) excluding the portion of the environmental space \n",
    "# associated with environmental conditions likely suitable for the species. It can be \n",
    "# either defined by the user or automatically estimated by paSampling via ks::Hpi.\n",
    "\n",
    "# grid.res\t\n",
    "# (integer) resolution of the sampling grid. The resolution can be arbitrarily selected \n",
    "# or defined using the optimRes function.\n",
    "\n",
    "# n.tr\t\n",
    "# (integer) number of pseudo-absences for the training dataset to sample in each cell \n",
    "# of the sampling grid\n",
    "\n",
    "# sub.ts\t\n",
    "# (logical) sample the validation pseudo-absences\n",
    "\n",
    "# n.ts\t\n",
    "# (integer; optional) number of pseudo-absences for the testing dataset to sample in \n",
    "# each cell of the sampling grid. sub.ts argument must be TRUE.\n",
    "\n",
    "# prev\t\n",
    "# (double) prevalence value to be specified instead of n.tr and n.ts\n",
    "\n",
    "# plot_proc\t\n",
    "# (logical) plot progress of the sampling, default FALSE\n",
    "\n",
    "# verbose\t\n",
    "# (logical) Print verbose\n",
    "\n"
   ]
  },
  {
   "cell_type": "code",
   "execution_count": null,
   "id": "74a56177",
   "metadata": {},
   "outputs": [],
   "source": [
    "## functions to process presence-absence\n",
    "process_absences <- function(abs_df, pres_df, e_df, coord_ref, \n",
    "                             path_write, layer_name, driver_write) {\n",
    "  abs_df <- abs_df %>% select(lon = x,lat = y)\n",
    "  abs_df <- as.data.frame(abs_df[,1:2])\n",
    "  abs_df$geometry <- NULL\n",
    "  pres_df <- pres_df %>% select(\"lon\", \"lat\")\n",
    "  pres_df <- process_gbif(pres_df, e = e_df, \"lon\", \"lat\", NA)\n",
    "  train <- rbind(pres_df, abs_df)\n",
    "  pa_train <- c(rep(1, nrow(pres_df)), rep(0, nrow(abs_df)))\n",
    "  train <- data.frame(cbind(CLASS=pa_train, train)) \n",
    "  crs <- crs(coord_ref)\n",
    "  train <- train[sample(nrow(train)),]\n",
    "  class.pa <- data.frame(train[,1])\n",
    "  colnames(class.pa) <- 'CLASS'\n",
    "  dataMap.gbif  <- SpatialPointsDataFrame(train[,c(2,3)], class.pa,\n",
    "                                          proj4string =crs)\n",
    "  st_write(as(dataMap.gbif, \"sf\"), \n",
    "           path_write,layer_name, \n",
    "           driver = driver_write, append = F)\n",
    "  return(dataMap.gbif)\n",
    "}"
   ]
  },
  {
   "cell_type": "code",
   "execution_count": null,
   "id": "a21dc852",
   "metadata": {},
   "outputs": [],
   "source": [
    "zyg_gbif <- process_absences(abs_df = zyg.psABs,\n",
    "                             pres_df = zyg_pres,\n",
    "                             e_df = e,\n",
    "                             coord_ref = envdata,\n",
    "                             path_write = \"./Data/Input/Processed/GBIF/paSampling\",\n",
    "                             layer_name = \"zyg_pa\",\n",
    "                             driver_write = \"ESRI Shapefile\")"
   ]
  },
  {
   "cell_type": "code",
   "execution_count": null,
   "id": "90d670a8",
   "metadata": {},
   "outputs": [],
   "source": [
    "ggplot(st_as_sf(zyg_gbif), aes(color = factor(CLASS))) + geom_sf() + theme_linedraw()"
   ]
  }
 ],
 "metadata": {
  "kernelspec": {
   "display_name": "R-native",
   "language": "R",
   "name": "ir_native"
  },
  "language_info": {
   "codemirror_mode": "r",
   "file_extension": ".r",
   "mimetype": "text/x-r-source",
   "name": "R",
   "pygments_lexer": "r",
   "version": "4.4.0"
  }
 },
 "nbformat": 4,
 "nbformat_minor": 5
}
