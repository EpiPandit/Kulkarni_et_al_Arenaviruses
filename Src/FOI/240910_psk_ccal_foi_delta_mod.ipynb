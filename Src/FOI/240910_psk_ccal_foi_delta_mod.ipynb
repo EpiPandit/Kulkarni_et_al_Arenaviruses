{
 "cells": [
  {
   "cell_type": "code",
   "execution_count": 1,
   "id": "15a34ba9",
   "metadata": {},
   "outputs": [
    {
     "name": "stderr",
     "output_type": "stream",
     "text": [
      "Loading required package: sp\n",
      "\n",
      "terra 1.7.78\n",
      "\n",
      "── \u001b[1mAttaching core tidyverse packages\u001b[22m ────────────────────────────────────────────────────────────────────────────────────────────────────────────────────────────────────────────────────────────── tidyverse 2.0.0 ──\n",
      "\u001b[32m✔\u001b[39m \u001b[34mdplyr    \u001b[39m 1.1.4     \u001b[32m✔\u001b[39m \u001b[34mreadr    \u001b[39m 2.1.5\n",
      "\u001b[32m✔\u001b[39m \u001b[34mforcats  \u001b[39m 1.0.0     \u001b[32m✔\u001b[39m \u001b[34mstringr  \u001b[39m 1.5.1\n",
      "\u001b[32m✔\u001b[39m \u001b[34mggplot2  \u001b[39m 3.5.1     \u001b[32m✔\u001b[39m \u001b[34mtibble   \u001b[39m 3.2.1\n",
      "\u001b[32m✔\u001b[39m \u001b[34mlubridate\u001b[39m 1.9.3     \u001b[32m✔\u001b[39m \u001b[34mtidyr    \u001b[39m 1.3.1\n",
      "\u001b[32m✔\u001b[39m \u001b[34mpurrr    \u001b[39m 1.0.2     \n",
      "── \u001b[1mConflicts\u001b[22m ──────────────────────────────────────────────────────────────────────────────────────────────────────────────────────────────────────────────────────────────────────────────── tidyverse_conflicts() ──\n",
      "\u001b[31m✖\u001b[39m \u001b[34mtidyr\u001b[39m::\u001b[32mextract()\u001b[39m masks \u001b[34mterra\u001b[39m::extract(), \u001b[34mraster\u001b[39m::extract()\n",
      "\u001b[31m✖\u001b[39m \u001b[34mdplyr\u001b[39m::\u001b[32mfilter()\u001b[39m  masks \u001b[34mstats\u001b[39m::filter()\n",
      "\u001b[31m✖\u001b[39m \u001b[34mdplyr\u001b[39m::\u001b[32mlag()\u001b[39m     masks \u001b[34mstats\u001b[39m::lag()\n",
      "\u001b[31m✖\u001b[39m \u001b[34mdplyr\u001b[39m::\u001b[32mselect()\u001b[39m  masks \u001b[34mraster\u001b[39m::select()\n",
      "\u001b[36mℹ\u001b[39m Use the conflicted package (\u001b[3m\u001b[34m<http://conflicted.r-lib.org/>\u001b[39m\u001b[23m) to force all conflicts to become errors\n"
     ]
    }
   ],
   "source": [
    "setwd(\"/Users/pranavkulkarni/SDM/Climate_Models_Arenaviruses/\")\n",
    "library(raster)\n",
    "library(terra)\n",
    "library(tidyverse)"
   ]
  },
  {
   "cell_type": "code",
   "execution_count": 2,
   "id": "ec42908c",
   "metadata": {},
   "outputs": [],
   "source": [
    "curr_bclims <- rast(list.files(path = \"./Data/Input/Processed/Resampled/machu\",\n",
    "                     full.names =  T))\n",
    "\n",
    "ssp2_bclims <- rast(list.files(path = \"./Data/Input/Processed/Projected/machu/SSP2\",\n",
    "                     full.names =  T))\n",
    "\n",
    "ssp5_bclims <- rast(list.files(path = \"./Data/Input/Processed/Projected/machu/SSP5\",\n",
    "                     full.names =  T))"
   ]
  },
  {
   "cell_type": "code",
   "execution_count": 3,
   "id": "fd3afce3",
   "metadata": {},
   "outputs": [],
   "source": [
    "curr_foi <- rast(\"./Data/Output/iterations/C_callosus/current/foi.tif\")\n",
    "ssp2_foi <- rast(\"./Data/Output/iterations/C_callosus/ssp2/foi_ssp2.tif\")\n",
    "ssp5_foi <- rast(\"./Data/Output/iterations/C_callosus/ssp5/foi_ssp5.tif\")"
   ]
  },
  {
   "cell_type": "code",
   "execution_count": 4,
   "id": "c193a289",
   "metadata": {},
   "outputs": [],
   "source": [
    "delta_ssp2_bclims <- ssp2_bclims - curr_bclims\n",
    "delta_ssp5_bclims <- ssp5_bclims - curr_bclims\n",
    "\n",
    "\n",
    "delta_ssp2_foi <- ssp2_foi - curr_foi\n",
    "delta_ssp5_foi <- ssp5_foi - curr_foi"
   ]
  },
  {
   "cell_type": "markdown",
   "id": "ad8ce812",
   "metadata": {},
   "source": [
    "## SSP2"
   ]
  },
  {
   "cell_type": "code",
   "execution_count": 5,
   "id": "a540b7fe",
   "metadata": {},
   "outputs": [],
   "source": [
    "mat_delta_ssp2_foi <- as.matrix(values(delta_ssp2_foi))\n",
    "mat_delta_ssp2_bioclims <- as.matrix(values(delta_ssp2_bclims))\n",
    "delta_ssp2_mod_df <- as.data.frame(cbind(mat_delta_ssp2_foi, mat_delta_ssp2_bioclims))\n",
    "delta_ssp2_mod_df <- delta_ssp2_mod_df %>% \n",
    "  select(-c(ndvi, dem)) %>% \n",
    "  mutate(foi = floor(gpw_v4_2000*1000)) %>% \n",
    "  select(-gpw_v4_2000) %>%\n",
    "  drop_na(.)\n",
    "\n",
    "rm(mat_delta_ssp2_bioclims,mat_delta_ssp2_foi)"
   ]
  },
  {
   "cell_type": "code",
   "execution_count": 6,
   "id": "5c937bca",
   "metadata": {},
   "outputs": [],
   "source": [
    "if (!dir.exists(file.path(\"./Data/Output/Iterations/C_callosus/ssp2/foi_mod_plots\"))) {dir.create(\"./Data/Output/Iterations/C_callosus/ssp2/foi_mod_plots\")}"
   ]
  },
  {
   "cell_type": "code",
   "execution_count": 7,
   "id": "0c357b27",
   "metadata": {},
   "outputs": [
    {
     "data": {
      "text/plain": [
       "\n",
       "Call:\n",
       "lm(formula = foi ~ ., data = delta_ssp2_mod_df)\n",
       "\n",
       "Residuals:\n",
       "    Min      1Q  Median      3Q     Max \n",
       "-34.908  -1.144  -0.053   0.824  30.746 \n",
       "\n",
       "Coefficients:\n",
       "                           Estimate Std. Error t value Pr(>|t|)    \n",
       "(Intercept)              -6.412e+00  1.595e-01 -40.194  < 2e-16 ***\n",
       "bclim_01                  2.647e+00  1.209e-01  21.896  < 2e-16 ***\n",
       "bclim_02                  7.495e+00  1.274e-01  58.850  < 2e-16 ***\n",
       "bclim_03                  1.230e-01  1.876e-02   6.555 5.56e-11 ***\n",
       "bclim_04                 -2.876e-03  2.296e-03  -1.253 0.210245    \n",
       "bclim_05                 -8.793e+03  5.599e+03  -1.570 0.116316    \n",
       "bclim_06                  8.795e+03  5.599e+03   1.571 0.116240    \n",
       "bclim_07                  8.793e+03  5.599e+03   1.570 0.116301    \n",
       "bclim_08                  5.511e-01  2.936e-02  18.769  < 2e-16 ***\n",
       "bclim_09                 -1.623e-01  1.686e-02  -9.624  < 2e-16 ***\n",
       "bclim_10                  2.418e-01  8.557e-02   2.825 0.004722 ** \n",
       "bclim_11                 -1.508e+00  1.204e-01 -12.522  < 2e-16 ***\n",
       "bclim_12                  1.795e-02  5.048e-04  35.560  < 2e-16 ***\n",
       "bclim_13                 -5.489e-02  2.647e-03 -20.738  < 2e-16 ***\n",
       "bclim_14                 -4.574e-02  9.325e-03  -4.906 9.32e-07 ***\n",
       "bclim_15                 -2.282e-01  8.935e-03 -25.544  < 2e-16 ***\n",
       "bclim_16                  1.073e-03  1.186e-03   0.905 0.365364    \n",
       "bclim_17                  4.202e-02  2.934e-03  14.325  < 2e-16 ***\n",
       "bclim_18                 -8.614e-04  8.923e-05  -9.653  < 2e-16 ***\n",
       "bclim_19                  6.316e-04  9.182e-05   6.879 6.06e-12 ***\n",
       "`ssp2_lu_crop_2040-2060` -1.746e+00  9.062e-02 -19.268  < 2e-16 ***\n",
       "`ssp2_lu_othr_2040-2060` -9.784e-01  4.258e-02 -22.976  < 2e-16 ***\n",
       "`ssp2_lu_past_2040-2060`  5.479e-02  4.489e-02   1.221 0.222260    \n",
       "`ssp2_lu_secd_2040-2060` -1.066e+00  4.734e-02 -22.511  < 2e-16 ***\n",
       "`ssp2_lu_urbn_2040-2060` -5.930e+00  1.754e+00  -3.381 0.000721 ***\n",
       "---\n",
       "Signif. codes:  0 ‘***’ 0.001 ‘**’ 0.01 ‘*’ 0.05 ‘.’ 0.1 ‘ ’ 1\n",
       "\n",
       "Residual standard error: 2.962 on 169224 degrees of freedom\n",
       "Multiple R-squared:   0.14,\tAdjusted R-squared:  0.1399 \n",
       "F-statistic:  1148 on 24 and 169224 DF,  p-value: < 2.2e-16\n"
      ]
     },
     "metadata": {},
     "output_type": "display_data"
    }
   ],
   "source": [
    "model_delta_ssp2 <- lm(foi ~., data = delta_ssp2_mod_df)\n",
    "\n",
    "summary(model_delta_ssp2)\n"
   ]
  },
  {
   "cell_type": "code",
   "execution_count": 8,
   "id": "6f1aaf5d",
   "metadata": {},
   "outputs": [
    {
     "name": "stderr",
     "output_type": "stream",
     "text": [
      "\u001b[1m\u001b[22m`geom_smooth()` using formula = 'y ~ x'\n",
      "\u001b[1m\u001b[22m`geom_smooth()` using method = 'gam' and formula = 'y ~ s(x, bs = \"cs\")'\n",
      "\u001b[1m\u001b[22m`geom_smooth()` using formula = 'y ~ x'\n",
      "\u001b[1m\u001b[22m`geom_smooth()` using method = 'gam' and formula = 'y ~ s(x, bs = \"cs\")'\n",
      "\u001b[1m\u001b[22m`geom_smooth()` using formula = 'y ~ x'\n",
      "\u001b[1m\u001b[22m`geom_smooth()` using method = 'gam' and formula = 'y ~ s(x, bs = \"cs\")'\n",
      "\u001b[1m\u001b[22m`geom_smooth()` using formula = 'y ~ x'\n",
      "\u001b[1m\u001b[22m`geom_smooth()` using method = 'gam' and formula = 'y ~ s(x, bs = \"cs\")'\n",
      "\u001b[1m\u001b[22m`geom_smooth()` using formula = 'y ~ x'\n",
      "\u001b[1m\u001b[22m`geom_smooth()` using method = 'gam' and formula = 'y ~ s(x, bs = \"cs\")'\n",
      "\u001b[1m\u001b[22m`geom_smooth()` using formula = 'y ~ x'\n",
      "\u001b[1m\u001b[22m`geom_smooth()` using method = 'gam' and formula = 'y ~ s(x, bs = \"cs\")'\n",
      "\u001b[1m\u001b[22m`geom_smooth()` using formula = 'y ~ x'\n",
      "\u001b[1m\u001b[22m`geom_smooth()` using method = 'gam' and formula = 'y ~ s(x, bs = \"cs\")'\n",
      "\u001b[1m\u001b[22m`geom_smooth()` using formula = 'y ~ x'\n",
      "\u001b[1m\u001b[22m`geom_smooth()` using method = 'gam' and formula = 'y ~ s(x, bs = \"cs\")'\n",
      "\u001b[1m\u001b[22m`geom_smooth()` using formula = 'y ~ x'\n",
      "\u001b[1m\u001b[22m`geom_smooth()` using method = 'gam' and formula = 'y ~ s(x, bs = \"cs\")'\n",
      "\u001b[1m\u001b[22m`geom_smooth()` using formula = 'y ~ x'\n",
      "\u001b[1m\u001b[22m`geom_smooth()` using method = 'gam' and formula = 'y ~ s(x, bs = \"cs\")'\n",
      "\u001b[1m\u001b[22m`geom_smooth()` using formula = 'y ~ x'\n",
      "\u001b[1m\u001b[22m`geom_smooth()` using method = 'gam' and formula = 'y ~ s(x, bs = \"cs\")'\n",
      "\u001b[1m\u001b[22m`geom_smooth()` using formula = 'y ~ x'\n",
      "\u001b[1m\u001b[22m`geom_smooth()` using method = 'gam' and formula = 'y ~ s(x, bs = \"cs\")'\n",
      "\u001b[1m\u001b[22m`geom_smooth()` using formula = 'y ~ x'\n",
      "\u001b[1m\u001b[22m`geom_smooth()` using method = 'gam' and formula = 'y ~ s(x, bs = \"cs\")'\n",
      "\u001b[1m\u001b[22m`geom_smooth()` using formula = 'y ~ x'\n",
      "\u001b[1m\u001b[22m`geom_smooth()` using method = 'gam' and formula = 'y ~ s(x, bs = \"cs\")'\n",
      "\u001b[1m\u001b[22m`geom_smooth()` using formula = 'y ~ x'\n",
      "\u001b[1m\u001b[22m`geom_smooth()` using method = 'gam' and formula = 'y ~ s(x, bs = \"cs\")'\n",
      "\u001b[1m\u001b[22m`geom_smooth()` using formula = 'y ~ x'\n",
      "\u001b[1m\u001b[22m`geom_smooth()` using method = 'gam' and formula = 'y ~ s(x, bs = \"cs\")'\n",
      "\u001b[1m\u001b[22m`geom_smooth()` using formula = 'y ~ x'\n",
      "\u001b[1m\u001b[22m`geom_smooth()` using method = 'gam' and formula = 'y ~ s(x, bs = \"cs\")'\n",
      "\u001b[1m\u001b[22m`geom_smooth()` using formula = 'y ~ x'\n",
      "\u001b[1m\u001b[22m`geom_smooth()` using method = 'gam' and formula = 'y ~ s(x, bs = \"cs\")'\n",
      "\u001b[1m\u001b[22m`geom_smooth()` using formula = 'y ~ x'\n",
      "\u001b[1m\u001b[22m`geom_smooth()` using method = 'gam' and formula = 'y ~ s(x, bs = \"cs\")'\n",
      "\u001b[1m\u001b[22m`geom_smooth()` using formula = 'y ~ x'\n",
      "\u001b[1m\u001b[22m`geom_smooth()` using method = 'gam' and formula = 'y ~ s(x, bs = \"cs\")'\n",
      "\u001b[1m\u001b[22m`geom_smooth()` using formula = 'y ~ x'\n",
      "\u001b[1m\u001b[22m`geom_smooth()` using method = 'gam' and formula = 'y ~ s(x, bs = \"cs\")'\n",
      "\u001b[1m\u001b[22m`geom_smooth()` using formula = 'y ~ x'\n",
      "\u001b[1m\u001b[22m`geom_smooth()` using method = 'gam' and formula = 'y ~ s(x, bs = \"cs\")'\n",
      "\u001b[1m\u001b[22m`geom_smooth()` using formula = 'y ~ x'\n",
      "\u001b[1m\u001b[22m`geom_smooth()` using method = 'gam' and formula = 'y ~ s(x, bs = \"cs\")'\n",
      "\u001b[1m\u001b[22m`geom_smooth()` using formula = 'y ~ x'\n",
      "\u001b[1m\u001b[22m`geom_smooth()` using method = 'gam' and formula = 'y ~ s(x, bs = \"cs\")'\n"
     ]
    }
   ],
   "source": [
    "for (i in 1:24) {\n",
    "  \n",
    "  pl <- ggplot(delta_ssp2_mod_df, aes(x = delta_ssp2_mod_df[,i], y = delta_ssp2_mod_df[,25])) + \n",
    "    geom_point(alpha = 0.3) +\n",
    "    labs(x = names(delta_ssp2_mod_df)[i], y = \"FOI x 1000\", subtitle = \"red: lm, green: binomial, blue: gam\") +\n",
    "    stat_smooth(method = \"lm\", col = \"red\", se = T) +\n",
    "    stat_smooth(method = \"auto\", col = \"blue\", se = T) +\n",
    "    theme_classic()\n",
    "  ggsave(filename = paste0(\"./Data/Output/Iterations/C_callosus/ssp2/foi_mod_plots/foi_mod_\", i, \".png\"), \n",
    "         plot = pl, device = \"png\",\n",
    "         width = 11, height = 8.5, units = \"in\")\n",
    "  \n",
    "}"
   ]
  },
  {
   "cell_type": "markdown",
   "id": "7f982e01",
   "metadata": {},
   "source": [
    "## SSP5"
   ]
  },
  {
   "cell_type": "code",
   "execution_count": 9,
   "id": "f27ac633",
   "metadata": {},
   "outputs": [],
   "source": [
    "mat_delta_ssp5_foi <- as.matrix(values(delta_ssp5_foi))\n",
    "mat_delta_ssp5_bioclims <- as.matrix(values(delta_ssp5_bclims))\n",
    "delta_ssp5_mod_df <- as.data.frame(cbind(mat_delta_ssp5_foi, mat_delta_ssp5_bioclims))\n",
    "delta_ssp5_mod_df <- delta_ssp5_mod_df %>% \n",
    "  select(-c(ndvi, dem)) %>% \n",
    "  mutate(foi = floor(gpw_v4_2000*1000)) %>% \n",
    "  select(-gpw_v4_2000) %>%\n",
    "  drop_na(.)\n",
    "\n",
    "rm(mat_delta_ssp5_bioclims,mat_delta_ssp5_foi)"
   ]
  },
  {
   "cell_type": "code",
   "execution_count": 10,
   "id": "9b3c41f6",
   "metadata": {},
   "outputs": [],
   "source": [
    "if (!dir.exists(file.path(\"./Data/Output/Iterations/C_callosus/ssp5/foi_mod_plots\"))) {dir.create(\"./Data/Output/Iterations/C_callosus/ssp5/foi_mod_plots\")}"
   ]
  },
  {
   "cell_type": "code",
   "execution_count": 11,
   "id": "ca23e6f6",
   "metadata": {},
   "outputs": [
    {
     "data": {
      "text/plain": [
       "\n",
       "Call:\n",
       "lm(formula = foi ~ ., data = delta_ssp5_mod_df)\n",
       "\n",
       "Residuals:\n",
       "    Min      1Q  Median      3Q     Max \n",
       "-29.027  -1.177  -0.056   0.832  32.697 \n",
       "\n",
       "Coefficients:\n",
       "                           Estimate Std. Error t value Pr(>|t|)    \n",
       "(Intercept)              -6.863e+00  1.769e-01 -38.808  < 2e-16 ***\n",
       "bclim_01                  2.846e+00  1.025e-01  27.776  < 2e-16 ***\n",
       "bclim_02                  6.447e+00  1.041e-01  61.940  < 2e-16 ***\n",
       "bclim_03                  4.651e-02  1.700e-02   2.737  0.00621 ** \n",
       "bclim_04                 -1.556e-02  2.031e-03  -7.661 1.85e-14 ***\n",
       "bclim_05                 -4.343e+03  5.582e+03  -0.778  0.43649    \n",
       "bclim_06                  4.345e+03  5.582e+03   0.778  0.43635    \n",
       "bclim_07                  4.343e+03  5.582e+03   0.778  0.43653    \n",
       "bclim_08                  6.876e-01  2.766e-02  24.864  < 2e-16 ***\n",
       "bclim_09                 -2.627e-01  1.595e-02 -16.471  < 2e-16 ***\n",
       "bclim_10                  3.570e-01  7.970e-02   4.479 7.51e-06 ***\n",
       "bclim_11                 -1.947e+00  1.118e-01 -17.420  < 2e-16 ***\n",
       "bclim_12                  6.581e-03  3.613e-04  18.213  < 2e-16 ***\n",
       "bclim_13                 -4.638e-02  2.090e-03 -22.185  < 2e-16 ***\n",
       "bclim_14                  4.330e-02  1.057e-02   4.098 4.17e-05 ***\n",
       "bclim_15                 -2.809e-01  8.331e-03 -33.723  < 2e-16 ***\n",
       "bclim_16                  1.605e-02  8.915e-04  17.999  < 2e-16 ***\n",
       "bclim_17                  2.700e-02  3.084e-03   8.756  < 2e-16 ***\n",
       "bclim_18                 -8.757e-04  8.931e-05  -9.805  < 2e-16 ***\n",
       "bclim_19                  3.616e-04  7.463e-05   4.845 1.27e-06 ***\n",
       "`ssp5_lu_crop_2040-2060` -5.622e-01  7.640e-02  -7.359 1.86e-13 ***\n",
       "`ssp5_lu_othr_2040-2060` -1.188e+00  4.122e-02 -28.814  < 2e-16 ***\n",
       "`ssp5_lu_past_2040-2060` -2.514e-01  4.782e-02  -5.257 1.47e-07 ***\n",
       "`ssp5_lu_secd_2040-2060` -1.565e+00  4.727e-02 -33.116  < 2e-16 ***\n",
       "`ssp5_lu_urbn_2040-2060` -2.446e+00  1.805e+00  -1.355  0.17554    \n",
       "---\n",
       "Signif. codes:  0 ‘***’ 0.001 ‘**’ 0.01 ‘*’ 0.05 ‘.’ 0.1 ‘ ’ 1\n",
       "\n",
       "Residual standard error: 2.972 on 169233 degrees of freedom\n",
       "Multiple R-squared:  0.1475,\tAdjusted R-squared:  0.1474 \n",
       "F-statistic:  1220 on 24 and 169233 DF,  p-value: < 2.2e-16\n"
      ]
     },
     "metadata": {},
     "output_type": "display_data"
    }
   ],
   "source": [
    "model_delta_ssp5 <- lm(foi ~., data = delta_ssp5_mod_df)\n",
    "\n",
    "summary(model_delta_ssp5)\n"
   ]
  },
  {
   "cell_type": "code",
   "execution_count": 12,
   "id": "5875af8a",
   "metadata": {},
   "outputs": [
    {
     "name": "stderr",
     "output_type": "stream",
     "text": [
      "\u001b[1m\u001b[22m`geom_smooth()` using formula = 'y ~ x'\n",
      "\u001b[1m\u001b[22m`geom_smooth()` using method = 'gam' and formula = 'y ~ s(x, bs = \"cs\")'\n",
      "\u001b[1m\u001b[22m`geom_smooth()` using formula = 'y ~ x'\n",
      "\u001b[1m\u001b[22m`geom_smooth()` using method = 'gam' and formula = 'y ~ s(x, bs = \"cs\")'\n",
      "\u001b[1m\u001b[22m`geom_smooth()` using formula = 'y ~ x'\n",
      "\u001b[1m\u001b[22m`geom_smooth()` using method = 'gam' and formula = 'y ~ s(x, bs = \"cs\")'\n",
      "\u001b[1m\u001b[22m`geom_smooth()` using formula = 'y ~ x'\n",
      "\u001b[1m\u001b[22m`geom_smooth()` using method = 'gam' and formula = 'y ~ s(x, bs = \"cs\")'\n",
      "\u001b[1m\u001b[22m`geom_smooth()` using formula = 'y ~ x'\n",
      "\u001b[1m\u001b[22m`geom_smooth()` using method = 'gam' and formula = 'y ~ s(x, bs = \"cs\")'\n",
      "\u001b[1m\u001b[22m`geom_smooth()` using formula = 'y ~ x'\n",
      "\u001b[1m\u001b[22m`geom_smooth()` using method = 'gam' and formula = 'y ~ s(x, bs = \"cs\")'\n",
      "\u001b[1m\u001b[22m`geom_smooth()` using formula = 'y ~ x'\n",
      "\u001b[1m\u001b[22m`geom_smooth()` using method = 'gam' and formula = 'y ~ s(x, bs = \"cs\")'\n",
      "\u001b[1m\u001b[22m`geom_smooth()` using formula = 'y ~ x'\n",
      "\u001b[1m\u001b[22m`geom_smooth()` using method = 'gam' and formula = 'y ~ s(x, bs = \"cs\")'\n",
      "\u001b[1m\u001b[22m`geom_smooth()` using formula = 'y ~ x'\n",
      "\u001b[1m\u001b[22m`geom_smooth()` using method = 'gam' and formula = 'y ~ s(x, bs = \"cs\")'\n",
      "\u001b[1m\u001b[22m`geom_smooth()` using formula = 'y ~ x'\n",
      "\u001b[1m\u001b[22m`geom_smooth()` using method = 'gam' and formula = 'y ~ s(x, bs = \"cs\")'\n",
      "\u001b[1m\u001b[22m`geom_smooth()` using formula = 'y ~ x'\n",
      "\u001b[1m\u001b[22m`geom_smooth()` using method = 'gam' and formula = 'y ~ s(x, bs = \"cs\")'\n",
      "\u001b[1m\u001b[22m`geom_smooth()` using formula = 'y ~ x'\n",
      "\u001b[1m\u001b[22m`geom_smooth()` using method = 'gam' and formula = 'y ~ s(x, bs = \"cs\")'\n",
      "\u001b[1m\u001b[22m`geom_smooth()` using formula = 'y ~ x'\n",
      "\u001b[1m\u001b[22m`geom_smooth()` using method = 'gam' and formula = 'y ~ s(x, bs = \"cs\")'\n",
      "\u001b[1m\u001b[22m`geom_smooth()` using formula = 'y ~ x'\n",
      "\u001b[1m\u001b[22m`geom_smooth()` using method = 'gam' and formula = 'y ~ s(x, bs = \"cs\")'\n",
      "\u001b[1m\u001b[22m`geom_smooth()` using formula = 'y ~ x'\n",
      "\u001b[1m\u001b[22m`geom_smooth()` using method = 'gam' and formula = 'y ~ s(x, bs = \"cs\")'\n",
      "\u001b[1m\u001b[22m`geom_smooth()` using formula = 'y ~ x'\n",
      "\u001b[1m\u001b[22m`geom_smooth()` using method = 'gam' and formula = 'y ~ s(x, bs = \"cs\")'\n",
      "\u001b[1m\u001b[22m`geom_smooth()` using formula = 'y ~ x'\n",
      "\u001b[1m\u001b[22m`geom_smooth()` using method = 'gam' and formula = 'y ~ s(x, bs = \"cs\")'\n",
      "\u001b[1m\u001b[22m`geom_smooth()` using formula = 'y ~ x'\n",
      "\u001b[1m\u001b[22m`geom_smooth()` using method = 'gam' and formula = 'y ~ s(x, bs = \"cs\")'\n",
      "\u001b[1m\u001b[22m`geom_smooth()` using formula = 'y ~ x'\n",
      "\u001b[1m\u001b[22m`geom_smooth()` using method = 'gam' and formula = 'y ~ s(x, bs = \"cs\")'\n",
      "\u001b[1m\u001b[22m`geom_smooth()` using formula = 'y ~ x'\n",
      "\u001b[1m\u001b[22m`geom_smooth()` using method = 'gam' and formula = 'y ~ s(x, bs = \"cs\")'\n",
      "\u001b[1m\u001b[22m`geom_smooth()` using formula = 'y ~ x'\n",
      "\u001b[1m\u001b[22m`geom_smooth()` using method = 'gam' and formula = 'y ~ s(x, bs = \"cs\")'\n",
      "\u001b[1m\u001b[22m`geom_smooth()` using formula = 'y ~ x'\n",
      "\u001b[1m\u001b[22m`geom_smooth()` using method = 'gam' and formula = 'y ~ s(x, bs = \"cs\")'\n",
      "\u001b[1m\u001b[22m`geom_smooth()` using formula = 'y ~ x'\n",
      "\u001b[1m\u001b[22m`geom_smooth()` using method = 'gam' and formula = 'y ~ s(x, bs = \"cs\")'\n",
      "\u001b[1m\u001b[22m`geom_smooth()` using formula = 'y ~ x'\n",
      "\u001b[1m\u001b[22m`geom_smooth()` using method = 'gam' and formula = 'y ~ s(x, bs = \"cs\")'\n"
     ]
    }
   ],
   "source": [
    "\n",
    "for (i in 1:24) {\n",
    "  \n",
    "  pl <- ggplot(delta_ssp5_mod_df, aes(x = delta_ssp5_mod_df[,i], y = delta_ssp5_mod_df[,25])) + \n",
    "    geom_point(alpha = 0.3) +\n",
    "    labs(x = names(delta_ssp5_mod_df)[i], y = \"FOI x 1000\", subtitle = \"red: lm, green: binomial, blue: gam\") +\n",
    "    stat_smooth(method = \"lm\", col = \"red\", se = T) +\n",
    "    stat_smooth(method = \"auto\", col = \"blue\", se = T) +\n",
    "    theme_classic()\n",
    "  ggsave(filename = paste0(\"./Data/Output/Iterations/C_callosus/ssp5/foi_mod_plots/foi_mod_\", i, \".png\"), \n",
    "         plot = pl, device = \"png\",\n",
    "         width = 11, height = 8.5, units = \"in\")\n",
    "  \n",
    "}"
   ]
  }
 ],
 "metadata": {
  "kernelspec": {
   "display_name": "R-native",
   "language": "R",
   "name": "ir_native"
  },
  "language_info": {
   "codemirror_mode": "r",
   "file_extension": ".r",
   "mimetype": "text/x-r-source",
   "name": "R",
   "pygments_lexer": "r",
   "version": "4.4.0"
  }
 },
 "nbformat": 4,
 "nbformat_minor": 5
}
