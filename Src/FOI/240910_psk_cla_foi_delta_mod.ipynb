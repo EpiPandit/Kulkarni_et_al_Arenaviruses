{
 "cells": [
  {
   "cell_type": "code",
   "execution_count": 1,
   "id": "15a34ba9",
   "metadata": {},
   "outputs": [
    {
     "name": "stderr",
     "output_type": "stream",
     "text": [
      "Loading required package: sp\n",
      "\n",
      "terra 1.7.78\n",
      "\n",
      "── \u001b[1mAttaching core tidyverse packages\u001b[22m ────────────────────────────────────────────────────────────────────────────────────────────────────────────────────────────────────────────────────────────── tidyverse 2.0.0 ──\n",
      "\u001b[32m✔\u001b[39m \u001b[34mdplyr    \u001b[39m 1.1.4     \u001b[32m✔\u001b[39m \u001b[34mreadr    \u001b[39m 2.1.5\n",
      "\u001b[32m✔\u001b[39m \u001b[34mforcats  \u001b[39m 1.0.0     \u001b[32m✔\u001b[39m \u001b[34mstringr  \u001b[39m 1.5.1\n",
      "\u001b[32m✔\u001b[39m \u001b[34mggplot2  \u001b[39m 3.5.1     \u001b[32m✔\u001b[39m \u001b[34mtibble   \u001b[39m 3.2.1\n",
      "\u001b[32m✔\u001b[39m \u001b[34mlubridate\u001b[39m 1.9.3     \u001b[32m✔\u001b[39m \u001b[34mtidyr    \u001b[39m 1.3.1\n",
      "\u001b[32m✔\u001b[39m \u001b[34mpurrr    \u001b[39m 1.0.2     \n",
      "── \u001b[1mConflicts\u001b[22m ──────────────────────────────────────────────────────────────────────────────────────────────────────────────────────────────────────────────────────────────────────────────── tidyverse_conflicts() ──\n",
      "\u001b[31m✖\u001b[39m \u001b[34mtidyr\u001b[39m::\u001b[32mextract()\u001b[39m masks \u001b[34mterra\u001b[39m::extract(), \u001b[34mraster\u001b[39m::extract()\n",
      "\u001b[31m✖\u001b[39m \u001b[34mdplyr\u001b[39m::\u001b[32mfilter()\u001b[39m  masks \u001b[34mstats\u001b[39m::filter()\n",
      "\u001b[31m✖\u001b[39m \u001b[34mdplyr\u001b[39m::\u001b[32mlag()\u001b[39m     masks \u001b[34mstats\u001b[39m::lag()\n",
      "\u001b[31m✖\u001b[39m \u001b[34mdplyr\u001b[39m::\u001b[32mselect()\u001b[39m  masks \u001b[34mraster\u001b[39m::select()\n",
      "\u001b[36mℹ\u001b[39m Use the conflicted package (\u001b[3m\u001b[34m<http://conflicted.r-lib.org/>\u001b[39m\u001b[23m) to force all conflicts to become errors\n"
     ]
    }
   ],
   "source": [
    "setwd(\"/Users/pranavkulkarni/SDM/Climate_Models_Arenaviruses/\")\n",
    "library(raster)\n",
    "library(terra)\n",
    "library(tidyverse)"
   ]
  },
  {
   "cell_type": "code",
   "execution_count": 2,
   "id": "ec42908c",
   "metadata": {},
   "outputs": [],
   "source": [
    "curr_bclims <- rast(list.files(path = \"./Data/Input/Processed/Resampled/junin\",\n",
    "                     full.names =  T))\n",
    "\n",
    "ssp2_bclims <- rast(list.files(path = \"./Data/Input/Processed/Projected/junin/SSP2\",\n",
    "                     full.names =  T))\n",
    "\n",
    "ssp5_bclims <- rast(list.files(path = \"./Data/Input/Processed/Projected/junin/SSP5\",\n",
    "                     full.names =  T))"
   ]
  },
  {
   "cell_type": "code",
   "execution_count": 3,
   "id": "fd3afce3",
   "metadata": {},
   "outputs": [],
   "source": [
    "curr_foi <- rast(\"./Data/Output/iterations/C_laucha/current/foi.tif\")\n",
    "ssp2_foi <- rast(\"./Data/Output/iterations/C_laucha/ssp2/foi_ssp2.tif\")\n",
    "ssp5_foi <- rast(\"./Data/Output/iterations/C_laucha/ssp5/foi_ssp5.tif\")"
   ]
  },
  {
   "cell_type": "code",
   "execution_count": 4,
   "id": "c193a289",
   "metadata": {},
   "outputs": [],
   "source": [
    "delta_ssp2_bclims <- ssp2_bclims - curr_bclims\n",
    "delta_ssp5_bclims <- ssp5_bclims - curr_bclims\n",
    "\n",
    "\n",
    "delta_ssp2_foi <- ssp2_foi - curr_foi\n",
    "delta_ssp5_foi <- ssp5_foi - curr_foi"
   ]
  },
  {
   "cell_type": "markdown",
   "id": "ad8ce812",
   "metadata": {},
   "source": [
    "## SSP2"
   ]
  },
  {
   "cell_type": "code",
   "execution_count": 5,
   "id": "a540b7fe",
   "metadata": {},
   "outputs": [],
   "source": [
    "mat_delta_ssp2_foi <- as.matrix(values(delta_ssp2_foi))\n",
    "mat_delta_ssp2_bioclims <- as.matrix(values(delta_ssp2_bclims))\n",
    "delta_ssp2_mod_df <- as.data.frame(cbind(mat_delta_ssp2_foi, mat_delta_ssp2_bioclims))\n",
    "delta_ssp2_mod_df <- delta_ssp2_mod_df %>% \n",
    "  mutate(foi = floor(gpw_v4_2000*1000)) %>% \n",
    "  select(-gpw_v4_2000) %>%\n",
    "  drop_na(.)\n",
    "\n",
    "rm(mat_delta_ssp2_bioclims,mat_delta_ssp2_foi)"
   ]
  },
  {
   "cell_type": "code",
   "execution_count": 6,
   "id": "5c937bca",
   "metadata": {},
   "outputs": [],
   "source": [
    "if (!dir.exists(file.path(\"./Data/Output/Iterations/C_laucha/ssp2/foi_mod_plots\"))) {dir.create(\"./Data/Output/Iterations/C_laucha/ssp2/foi_mod_plots\")}"
   ]
  },
  {
   "cell_type": "code",
   "execution_count": 7,
   "id": "0c357b27",
   "metadata": {},
   "outputs": [
    {
     "data": {
      "text/plain": [
       "\n",
       "Call:\n",
       "lm(formula = foi ~ ., data = delta_ssp2_mod_df)\n",
       "\n",
       "Residuals:\n",
       "    Min      1Q  Median      3Q     Max \n",
       "-37.715  -1.478  -0.074   0.990  36.645 \n",
       "\n",
       "Coefficients:\n",
       "                           Estimate Std. Error t value Pr(>|t|)    \n",
       "(Intercept)               2.040e+00  7.379e-02  27.646  < 2e-16 ***\n",
       "bclim_01                 -2.500e+00  1.080e-01 -23.154  < 2e-16 ***\n",
       "bclim_02                  5.625e+00  1.633e-01  34.444  < 2e-16 ***\n",
       "bclim_03                 -4.034e-01  2.728e-02 -14.787  < 2e-16 ***\n",
       "bclim_04                  5.391e-02  3.376e-03  15.968  < 2e-16 ***\n",
       "bclim_05                 -2.387e+03  6.981e+03  -0.342 0.732444    \n",
       "bclim_06                  2.388e+03  6.981e+03   0.342 0.732349    \n",
       "bclim_07                  2.385e+03  6.981e+03   0.342 0.732656    \n",
       "bclim_08                 -1.265e-01  5.757e-03 -21.973  < 2e-16 ***\n",
       "bclim_09                  2.349e-02  5.855e-03   4.012 6.01e-05 ***\n",
       "bclim_10                  4.036e-01  1.351e-01   2.987 0.002818 ** \n",
       "bclim_11                  8.562e-01  1.717e-01   4.986 6.16e-07 ***\n",
       "bclim_12                  3.578e-03  7.118e-04   5.027 5.00e-07 ***\n",
       "bclim_13                  1.687e-02  2.499e-03   6.751 1.48e-11 ***\n",
       "bclim_14                 -1.984e-02  5.272e-03  -3.763 0.000168 ***\n",
       "bclim_15                 -1.899e-01  5.897e-03 -32.205  < 2e-16 ***\n",
       "bclim_16                 -7.710e-03  1.596e-03  -4.831 1.36e-06 ***\n",
       "bclim_17                 -1.474e-03  2.061e-03  -0.715 0.474591    \n",
       "bclim_18                 -4.882e-05  3.917e-04  -0.125 0.900821    \n",
       "bclim_19                 -1.989e-02  7.364e-04 -27.009  < 2e-16 ***\n",
       "`ssp2_lu_crop_2040-2060`  9.030e-01  7.553e-02  11.955  < 2e-16 ***\n",
       "`ssp2_lu_othr_2040-2060`  4.995e-01  3.740e-02  13.354  < 2e-16 ***\n",
       "`ssp2_lu_past_2040-2060`  6.937e-01  4.470e-02  15.519  < 2e-16 ***\n",
       "`ssp2_lu_secd_2040-2060`  6.452e-01  5.842e-02  11.043  < 2e-16 ***\n",
       "`ssp2_lu_urbn_2040-2060`  3.544e+00  9.909e-01   3.576 0.000349 ***\n",
       "---\n",
       "Signif. codes:  0 ‘***’ 0.001 ‘**’ 0.01 ‘*’ 0.05 ‘.’ 0.1 ‘ ’ 1\n",
       "\n",
       "Residual standard error: 4.654 on 302518 degrees of freedom\n",
       "Multiple R-squared:  0.03862,\tAdjusted R-squared:  0.03855 \n",
       "F-statistic: 506.4 on 24 and 302518 DF,  p-value: < 2.2e-16\n"
      ]
     },
     "metadata": {},
     "output_type": "display_data"
    }
   ],
   "source": [
    "model_delta_ssp2 <- lm(foi ~., data = delta_ssp2_mod_df)\n",
    "\n",
    "summary(model_delta_ssp2)\n"
   ]
  },
  {
   "cell_type": "code",
   "execution_count": 8,
   "id": "6f1aaf5d",
   "metadata": {},
   "outputs": [
    {
     "name": "stderr",
     "output_type": "stream",
     "text": [
      "\u001b[1m\u001b[22m`geom_smooth()` using formula = 'y ~ x'\n",
      "\u001b[1m\u001b[22m`geom_smooth()` using method = 'gam' and formula = 'y ~ s(x, bs = \"cs\")'\n",
      "\u001b[1m\u001b[22m`geom_smooth()` using formula = 'y ~ x'\n",
      "\u001b[1m\u001b[22m`geom_smooth()` using method = 'gam' and formula = 'y ~ s(x, bs = \"cs\")'\n",
      "\u001b[1m\u001b[22m`geom_smooth()` using formula = 'y ~ x'\n",
      "\u001b[1m\u001b[22m`geom_smooth()` using method = 'gam' and formula = 'y ~ s(x, bs = \"cs\")'\n",
      "\u001b[1m\u001b[22m`geom_smooth()` using formula = 'y ~ x'\n",
      "\u001b[1m\u001b[22m`geom_smooth()` using method = 'gam' and formula = 'y ~ s(x, bs = \"cs\")'\n",
      "\u001b[1m\u001b[22m`geom_smooth()` using formula = 'y ~ x'\n",
      "\u001b[1m\u001b[22m`geom_smooth()` using method = 'gam' and formula = 'y ~ s(x, bs = \"cs\")'\n",
      "\u001b[1m\u001b[22m`geom_smooth()` using formula = 'y ~ x'\n",
      "\u001b[1m\u001b[22m`geom_smooth()` using method = 'gam' and formula = 'y ~ s(x, bs = \"cs\")'\n",
      "\u001b[1m\u001b[22m`geom_smooth()` using formula = 'y ~ x'\n",
      "\u001b[1m\u001b[22m`geom_smooth()` using method = 'gam' and formula = 'y ~ s(x, bs = \"cs\")'\n",
      "\u001b[1m\u001b[22m`geom_smooth()` using formula = 'y ~ x'\n",
      "\u001b[1m\u001b[22m`geom_smooth()` using method = 'gam' and formula = 'y ~ s(x, bs = \"cs\")'\n",
      "\u001b[1m\u001b[22m`geom_smooth()` using formula = 'y ~ x'\n",
      "\u001b[1m\u001b[22m`geom_smooth()` using method = 'gam' and formula = 'y ~ s(x, bs = \"cs\")'\n",
      "\u001b[1m\u001b[22m`geom_smooth()` using formula = 'y ~ x'\n",
      "\u001b[1m\u001b[22m`geom_smooth()` using method = 'gam' and formula = 'y ~ s(x, bs = \"cs\")'\n",
      "\u001b[1m\u001b[22m`geom_smooth()` using formula = 'y ~ x'\n",
      "\u001b[1m\u001b[22m`geom_smooth()` using method = 'gam' and formula = 'y ~ s(x, bs = \"cs\")'\n",
      "\u001b[1m\u001b[22m`geom_smooth()` using formula = 'y ~ x'\n",
      "\u001b[1m\u001b[22m`geom_smooth()` using method = 'gam' and formula = 'y ~ s(x, bs = \"cs\")'\n",
      "\u001b[1m\u001b[22m`geom_smooth()` using formula = 'y ~ x'\n",
      "\u001b[1m\u001b[22m`geom_smooth()` using method = 'gam' and formula = 'y ~ s(x, bs = \"cs\")'\n",
      "\u001b[1m\u001b[22m`geom_smooth()` using formula = 'y ~ x'\n",
      "\u001b[1m\u001b[22m`geom_smooth()` using method = 'gam' and formula = 'y ~ s(x, bs = \"cs\")'\n",
      "\u001b[1m\u001b[22m`geom_smooth()` using formula = 'y ~ x'\n",
      "\u001b[1m\u001b[22m`geom_smooth()` using method = 'gam' and formula = 'y ~ s(x, bs = \"cs\")'\n",
      "\u001b[1m\u001b[22m`geom_smooth()` using formula = 'y ~ x'\n",
      "\u001b[1m\u001b[22m`geom_smooth()` using method = 'gam' and formula = 'y ~ s(x, bs = \"cs\")'\n",
      "\u001b[1m\u001b[22m`geom_smooth()` using formula = 'y ~ x'\n",
      "\u001b[1m\u001b[22m`geom_smooth()` using method = 'gam' and formula = 'y ~ s(x, bs = \"cs\")'\n",
      "\u001b[1m\u001b[22m`geom_smooth()` using formula = 'y ~ x'\n",
      "\u001b[1m\u001b[22m`geom_smooth()` using method = 'gam' and formula = 'y ~ s(x, bs = \"cs\")'\n",
      "\u001b[1m\u001b[22m`geom_smooth()` using formula = 'y ~ x'\n",
      "\u001b[1m\u001b[22m`geom_smooth()` using method = 'gam' and formula = 'y ~ s(x, bs = \"cs\")'\n",
      "\u001b[1m\u001b[22m`geom_smooth()` using formula = 'y ~ x'\n",
      "\u001b[1m\u001b[22m`geom_smooth()` using method = 'gam' and formula = 'y ~ s(x, bs = \"cs\")'\n",
      "\u001b[1m\u001b[22m`geom_smooth()` using formula = 'y ~ x'\n",
      "\u001b[1m\u001b[22m`geom_smooth()` using method = 'gam' and formula = 'y ~ s(x, bs = \"cs\")'\n",
      "\u001b[1m\u001b[22m`geom_smooth()` using formula = 'y ~ x'\n",
      "\u001b[1m\u001b[22m`geom_smooth()` using method = 'gam' and formula = 'y ~ s(x, bs = \"cs\")'\n",
      "\u001b[1m\u001b[22m`geom_smooth()` using formula = 'y ~ x'\n",
      "\u001b[1m\u001b[22m`geom_smooth()` using method = 'gam' and formula = 'y ~ s(x, bs = \"cs\")'\n",
      "\u001b[1m\u001b[22m`geom_smooth()` using formula = 'y ~ x'\n",
      "\u001b[1m\u001b[22m`geom_smooth()` using method = 'gam' and formula = 'y ~ s(x, bs = \"cs\")'\n"
     ]
    }
   ],
   "source": [
    "for (i in 1:24) {\n",
    "  \n",
    "  pl <- ggplot(delta_ssp2_mod_df, aes(x = delta_ssp2_mod_df[,i], y = delta_ssp2_mod_df[,25])) + \n",
    "    geom_point(alpha = 0.3) +\n",
    "    labs(x = names(delta_ssp2_mod_df)[i], y = \"FOI x 1000\", subtitle = \"red: lm, green: binomial, blue: gam\") +\n",
    "    stat_smooth(method = \"lm\", col = \"red\", se = T) +\n",
    "    stat_smooth(method = \"auto\", col = \"blue\", se = T) +\n",
    "    theme_classic()\n",
    "  ggsave(filename = paste0(\"./Data/Output/Iterations/C_laucha/ssp2/foi_mod_plots/foi_mod_\", i, \".png\"), \n",
    "         plot = pl, device = \"png\",\n",
    "         width = 11, height = 8.5, units = \"in\")\n",
    "  \n",
    "}"
   ]
  },
  {
   "cell_type": "markdown",
   "id": "7f982e01",
   "metadata": {},
   "source": [
    "## SSP5"
   ]
  },
  {
   "cell_type": "code",
   "execution_count": 9,
   "id": "f27ac633",
   "metadata": {},
   "outputs": [],
   "source": [
    "mat_delta_ssp5_foi <- as.matrix(values(delta_ssp5_foi))\n",
    "mat_delta_ssp5_bioclims <- as.matrix(values(delta_ssp5_bclims))\n",
    "delta_ssp5_mod_df <- as.data.frame(cbind(mat_delta_ssp5_foi, mat_delta_ssp5_bioclims))\n",
    "delta_ssp5_mod_df <- delta_ssp5_mod_df %>%  \n",
    "  mutate(foi = floor(gpw_v4_2000*1000)) %>% \n",
    "  select(-gpw_v4_2000) %>%\n",
    "  drop_na(.)\n",
    "\n",
    "rm(mat_delta_ssp5_bioclims,mat_delta_ssp5_foi)"
   ]
  },
  {
   "cell_type": "code",
   "execution_count": 10,
   "id": "9b3c41f6",
   "metadata": {},
   "outputs": [],
   "source": [
    "if (!dir.exists(file.path(\"./Data/Output/Iterations/C_laucha/ssp5/foi_mod_plots\"))) {dir.create(\"./Data/Output/Iterations/C_laucha/ssp5/foi_mod_plots\")}"
   ]
  },
  {
   "cell_type": "code",
   "execution_count": 11,
   "id": "ca23e6f6",
   "metadata": {},
   "outputs": [
    {
     "data": {
      "text/plain": [
       "\n",
       "Call:\n",
       "lm(formula = foi ~ ., data = delta_ssp5_mod_df)\n",
       "\n",
       "Residuals:\n",
       "    Min      1Q  Median      3Q     Max \n",
       "-37.472  -1.216   0.018   0.968  38.637 \n",
       "\n",
       "Coefficients:\n",
       "                           Estimate Std. Error t value Pr(>|t|)    \n",
       "(Intercept)               1.793e+00  6.656e-02  26.934  < 2e-16 ***\n",
       "bclim_01                 -1.499e-01  1.066e-01  -1.406  0.15969    \n",
       "bclim_02                  4.988e+00  1.516e-01  32.902  < 2e-16 ***\n",
       "bclim_03                 -5.046e-01  2.589e-02 -19.492  < 2e-16 ***\n",
       "bclim_04                 -2.700e-03  3.239e-03  -0.833  0.40461    \n",
       "bclim_05                 -1.135e+04  6.997e+03  -1.622  0.10470    \n",
       "bclim_06                  1.135e+04  6.997e+03   1.622  0.10472    \n",
       "bclim_07                  1.135e+04  6.997e+03   1.622  0.10477    \n",
       "bclim_08                 -8.628e-02  5.652e-03 -15.265  < 2e-16 ***\n",
       "bclim_09                  2.198e-02  5.619e-03   3.912 9.14e-05 ***\n",
       "bclim_10                  1.368e+00  1.265e-01  10.818  < 2e-16 ***\n",
       "bclim_11                 -1.139e+00  1.723e-01  -6.609 3.89e-11 ***\n",
       "bclim_12                  1.926e-03  6.221e-04   3.095  0.00197 ** \n",
       "bclim_13                  3.985e-03  2.419e-03   1.648  0.09944 .  \n",
       "bclim_14                 -1.176e-03  4.836e-03  -0.243  0.80792    \n",
       "bclim_15                 -1.479e-01  5.276e-03 -28.031  < 2e-16 ***\n",
       "bclim_16                  2.218e-03  1.435e-03   1.546  0.12221    \n",
       "bclim_17                 -3.460e-03  1.946e-03  -1.778  0.07547 .  \n",
       "bclim_18                  1.030e-03  3.701e-04   2.783  0.00538 ** \n",
       "bclim_19                 -1.127e-02  5.959e-04 -18.913  < 2e-16 ***\n",
       "`ssp5_lu_crop_2040-2060`  5.668e-01  6.648e-02   8.525  < 2e-16 ***\n",
       "`ssp5_lu_othr_2040-2060`  5.508e-01  3.775e-02  14.589  < 2e-16 ***\n",
       "`ssp5_lu_past_2040-2060`  5.558e-01  4.446e-02  12.501  < 2e-16 ***\n",
       "`ssp5_lu_secd_2040-2060`  9.134e-01  5.721e-02  15.966  < 2e-16 ***\n",
       "`ssp5_lu_urbn_2040-2060`  6.635e-01  9.743e-01   0.681  0.49584    \n",
       "---\n",
       "Signif. codes:  0 ‘***’ 0.001 ‘**’ 0.01 ‘*’ 0.05 ‘.’ 0.1 ‘ ’ 1\n",
       "\n",
       "Residual standard error: 4.683 on 302499 degrees of freedom\n",
       "Multiple R-squared:  0.02585,\tAdjusted R-squared:  0.02577 \n",
       "F-statistic: 334.4 on 24 and 302499 DF,  p-value: < 2.2e-16\n"
      ]
     },
     "metadata": {},
     "output_type": "display_data"
    }
   ],
   "source": [
    "model_delta_ssp5 <- lm(foi ~., data = delta_ssp5_mod_df)\n",
    "\n",
    "summary(model_delta_ssp5)\n"
   ]
  },
  {
   "cell_type": "code",
   "execution_count": 12,
   "id": "5875af8a",
   "metadata": {},
   "outputs": [
    {
     "name": "stderr",
     "output_type": "stream",
     "text": [
      "\u001b[1m\u001b[22m`geom_smooth()` using formula = 'y ~ x'\n",
      "\u001b[1m\u001b[22m`geom_smooth()` using method = 'gam' and formula = 'y ~ s(x, bs = \"cs\")'\n",
      "\u001b[1m\u001b[22m`geom_smooth()` using formula = 'y ~ x'\n",
      "\u001b[1m\u001b[22m`geom_smooth()` using method = 'gam' and formula = 'y ~ s(x, bs = \"cs\")'\n",
      "\u001b[1m\u001b[22m`geom_smooth()` using formula = 'y ~ x'\n",
      "\u001b[1m\u001b[22m`geom_smooth()` using method = 'gam' and formula = 'y ~ s(x, bs = \"cs\")'\n",
      "\u001b[1m\u001b[22m`geom_smooth()` using formula = 'y ~ x'\n",
      "\u001b[1m\u001b[22m`geom_smooth()` using method = 'gam' and formula = 'y ~ s(x, bs = \"cs\")'\n",
      "\u001b[1m\u001b[22m`geom_smooth()` using formula = 'y ~ x'\n",
      "\u001b[1m\u001b[22m`geom_smooth()` using method = 'gam' and formula = 'y ~ s(x, bs = \"cs\")'\n",
      "\u001b[1m\u001b[22m`geom_smooth()` using formula = 'y ~ x'\n",
      "\u001b[1m\u001b[22m`geom_smooth()` using method = 'gam' and formula = 'y ~ s(x, bs = \"cs\")'\n",
      "\u001b[1m\u001b[22m`geom_smooth()` using formula = 'y ~ x'\n",
      "\u001b[1m\u001b[22m`geom_smooth()` using method = 'gam' and formula = 'y ~ s(x, bs = \"cs\")'\n",
      "\u001b[1m\u001b[22m`geom_smooth()` using formula = 'y ~ x'\n",
      "\u001b[1m\u001b[22m`geom_smooth()` using method = 'gam' and formula = 'y ~ s(x, bs = \"cs\")'\n",
      "\u001b[1m\u001b[22m`geom_smooth()` using formula = 'y ~ x'\n",
      "\u001b[1m\u001b[22m`geom_smooth()` using method = 'gam' and formula = 'y ~ s(x, bs = \"cs\")'\n",
      "\u001b[1m\u001b[22m`geom_smooth()` using formula = 'y ~ x'\n",
      "\u001b[1m\u001b[22m`geom_smooth()` using method = 'gam' and formula = 'y ~ s(x, bs = \"cs\")'\n",
      "\u001b[1m\u001b[22m`geom_smooth()` using formula = 'y ~ x'\n",
      "\u001b[1m\u001b[22m`geom_smooth()` using method = 'gam' and formula = 'y ~ s(x, bs = \"cs\")'\n",
      "\u001b[1m\u001b[22m`geom_smooth()` using formula = 'y ~ x'\n",
      "\u001b[1m\u001b[22m`geom_smooth()` using method = 'gam' and formula = 'y ~ s(x, bs = \"cs\")'\n",
      "\u001b[1m\u001b[22m`geom_smooth()` using formula = 'y ~ x'\n",
      "\u001b[1m\u001b[22m`geom_smooth()` using method = 'gam' and formula = 'y ~ s(x, bs = \"cs\")'\n",
      "\u001b[1m\u001b[22m`geom_smooth()` using formula = 'y ~ x'\n",
      "\u001b[1m\u001b[22m`geom_smooth()` using method = 'gam' and formula = 'y ~ s(x, bs = \"cs\")'\n",
      "\u001b[1m\u001b[22m`geom_smooth()` using formula = 'y ~ x'\n",
      "\u001b[1m\u001b[22m`geom_smooth()` using method = 'gam' and formula = 'y ~ s(x, bs = \"cs\")'\n",
      "\u001b[1m\u001b[22m`geom_smooth()` using formula = 'y ~ x'\n",
      "\u001b[1m\u001b[22m`geom_smooth()` using method = 'gam' and formula = 'y ~ s(x, bs = \"cs\")'\n",
      "\u001b[1m\u001b[22m`geom_smooth()` using formula = 'y ~ x'\n",
      "\u001b[1m\u001b[22m`geom_smooth()` using method = 'gam' and formula = 'y ~ s(x, bs = \"cs\")'\n",
      "\u001b[1m\u001b[22m`geom_smooth()` using formula = 'y ~ x'\n",
      "\u001b[1m\u001b[22m`geom_smooth()` using method = 'gam' and formula = 'y ~ s(x, bs = \"cs\")'\n",
      "\u001b[1m\u001b[22m`geom_smooth()` using formula = 'y ~ x'\n",
      "\u001b[1m\u001b[22m`geom_smooth()` using method = 'gam' and formula = 'y ~ s(x, bs = \"cs\")'\n",
      "\u001b[1m\u001b[22m`geom_smooth()` using formula = 'y ~ x'\n",
      "\u001b[1m\u001b[22m`geom_smooth()` using method = 'gam' and formula = 'y ~ s(x, bs = \"cs\")'\n",
      "\u001b[1m\u001b[22m`geom_smooth()` using formula = 'y ~ x'\n",
      "\u001b[1m\u001b[22m`geom_smooth()` using method = 'gam' and formula = 'y ~ s(x, bs = \"cs\")'\n",
      "\u001b[1m\u001b[22m`geom_smooth()` using formula = 'y ~ x'\n",
      "\u001b[1m\u001b[22m`geom_smooth()` using method = 'gam' and formula = 'y ~ s(x, bs = \"cs\")'\n",
      "\u001b[1m\u001b[22m`geom_smooth()` using formula = 'y ~ x'\n",
      "\u001b[1m\u001b[22m`geom_smooth()` using method = 'gam' and formula = 'y ~ s(x, bs = \"cs\")'\n",
      "\u001b[1m\u001b[22m`geom_smooth()` using formula = 'y ~ x'\n",
      "\u001b[1m\u001b[22m`geom_smooth()` using method = 'gam' and formula = 'y ~ s(x, bs = \"cs\")'\n"
     ]
    }
   ],
   "source": [
    "\n",
    "for (i in 1:24) {\n",
    "  \n",
    "  pl <- ggplot(delta_ssp5_mod_df, aes(x = delta_ssp5_mod_df[,i], y = delta_ssp5_mod_df[,25])) + \n",
    "    geom_point(alpha = 0.3) +\n",
    "    labs(x = names(delta_ssp5_mod_df)[i], y = \"FOI x 1000\", subtitle = \"red: lm, green: binomial, blue: gam\") +\n",
    "    stat_smooth(method = \"lm\", col = \"red\", se = T) +\n",
    "    stat_smooth(method = \"auto\", col = \"blue\", se = T) +\n",
    "    theme_classic()\n",
    "  ggsave(filename = paste0(\"./Data/Output/Iterations/C_laucha/ssp5/foi_mod_plots/foi_mod_\", i, \".png\"), \n",
    "         plot = pl, device = \"png\",\n",
    "         width = 11, height = 8.5, units = \"in\")\n",
    "  \n",
    "}"
   ]
  }
 ],
 "metadata": {
  "kernelspec": {
   "display_name": "R-native",
   "language": "R",
   "name": "ir_native"
  },
  "language_info": {
   "codemirror_mode": "r",
   "file_extension": ".r",
   "mimetype": "text/x-r-source",
   "name": "R",
   "pygments_lexer": "r",
   "version": "4.4.0"
  }
 },
 "nbformat": 4,
 "nbformat_minor": 5
}
