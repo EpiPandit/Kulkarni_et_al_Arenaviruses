{
 "cells": [
  {
   "cell_type": "code",
   "execution_count": 1,
   "id": "15a34ba9",
   "metadata": {},
   "outputs": [
    {
     "name": "stderr",
     "output_type": "stream",
     "text": [
      "Loading required package: sp\n",
      "\n",
      "terra 1.7.78\n",
      "\n",
      "── \u001b[1mAttaching core tidyverse packages\u001b[22m ────────────────────────────────────────────────────────────────────────────────────────────────────────────────────────────────────────────────────────────── tidyverse 2.0.0 ──\n",
      "\u001b[32m✔\u001b[39m \u001b[34mdplyr    \u001b[39m 1.1.4     \u001b[32m✔\u001b[39m \u001b[34mreadr    \u001b[39m 2.1.5\n",
      "\u001b[32m✔\u001b[39m \u001b[34mforcats  \u001b[39m 1.0.0     \u001b[32m✔\u001b[39m \u001b[34mstringr  \u001b[39m 1.5.1\n",
      "\u001b[32m✔\u001b[39m \u001b[34mggplot2  \u001b[39m 3.5.1     \u001b[32m✔\u001b[39m \u001b[34mtibble   \u001b[39m 3.2.1\n",
      "\u001b[32m✔\u001b[39m \u001b[34mlubridate\u001b[39m 1.9.3     \u001b[32m✔\u001b[39m \u001b[34mtidyr    \u001b[39m 1.3.1\n",
      "\u001b[32m✔\u001b[39m \u001b[34mpurrr    \u001b[39m 1.0.2     \n",
      "── \u001b[1mConflicts\u001b[22m ──────────────────────────────────────────────────────────────────────────────────────────────────────────────────────────────────────────────────────────────────────────────── tidyverse_conflicts() ──\n",
      "\u001b[31m✖\u001b[39m \u001b[34mtidyr\u001b[39m::\u001b[32mextract()\u001b[39m masks \u001b[34mterra\u001b[39m::extract(), \u001b[34mraster\u001b[39m::extract()\n",
      "\u001b[31m✖\u001b[39m \u001b[34mdplyr\u001b[39m::\u001b[32mfilter()\u001b[39m  masks \u001b[34mstats\u001b[39m::filter()\n",
      "\u001b[31m✖\u001b[39m \u001b[34mdplyr\u001b[39m::\u001b[32mlag()\u001b[39m     masks \u001b[34mstats\u001b[39m::lag()\n",
      "\u001b[31m✖\u001b[39m \u001b[34mdplyr\u001b[39m::\u001b[32mselect()\u001b[39m  masks \u001b[34mraster\u001b[39m::select()\n",
      "\u001b[36mℹ\u001b[39m Use the conflicted package (\u001b[3m\u001b[34m<http://conflicted.r-lib.org/>\u001b[39m\u001b[23m) to force all conflicts to become errors\n"
     ]
    }
   ],
   "source": [
    "setwd(\"/Users/pranavkulkarni/SDM/Climate_Models_Arenaviruses/\")\n",
    "library(raster)\n",
    "library(terra)\n",
    "library(tidyverse)"
   ]
  },
  {
   "cell_type": "code",
   "execution_count": 2,
   "id": "ec42908c",
   "metadata": {},
   "outputs": [],
   "source": [
    "curr_bclims <- rast(list.files(path = \"./Data/Input/Processed/Resampled/junin\",\n",
    "                     full.names =  T))\n",
    "\n",
    "ssp2_bclims <- rast(list.files(path = \"./Data/Input/Processed/Projected/junin/SSP2\",\n",
    "                     full.names =  T))\n",
    "\n",
    "ssp5_bclims <- rast(list.files(path = \"./Data/Input/Processed/Projected/junin/SSP5\",\n",
    "                     full.names =  T))"
   ]
  },
  {
   "cell_type": "code",
   "execution_count": 3,
   "id": "fd3afce3",
   "metadata": {},
   "outputs": [],
   "source": [
    "curr_foi <- rast(\"./Data/Output/iterations/C_musculinus/current/foi.tif\")\n",
    "ssp2_foi <- rast(\"./Data/Output/iterations/C_musculinus/ssp2/foi_ssp2.tif\")\n",
    "ssp5_foi <- rast(\"./Data/Output/iterations/C_musculinus/ssp5/foi_ssp5.tif\")"
   ]
  },
  {
   "cell_type": "code",
   "execution_count": 4,
   "id": "c193a289",
   "metadata": {},
   "outputs": [],
   "source": [
    "delta_ssp2_bclims <- ssp2_bclims - curr_bclims\n",
    "delta_ssp5_bclims <- ssp5_bclims - curr_bclims\n",
    "\n",
    "\n",
    "delta_ssp2_foi <- ssp2_foi - curr_foi\n",
    "delta_ssp5_foi <- ssp5_foi - curr_foi"
   ]
  },
  {
   "cell_type": "markdown",
   "id": "ad8ce812",
   "metadata": {},
   "source": [
    "## SSP2"
   ]
  },
  {
   "cell_type": "code",
   "execution_count": 5,
   "id": "a540b7fe",
   "metadata": {},
   "outputs": [],
   "source": [
    "mat_delta_ssp2_foi <- as.matrix(values(delta_ssp2_foi))\n",
    "mat_delta_ssp2_bioclims <- as.matrix(values(delta_ssp2_bclims))\n",
    "delta_ssp2_mod_df <- as.data.frame(cbind(mat_delta_ssp2_foi, mat_delta_ssp2_bioclims))\n",
    "delta_ssp2_mod_df <- delta_ssp2_mod_df %>% \n",
    "  mutate(foi = floor(gpw_v4_2000*1000)) %>% \n",
    "  select(-gpw_v4_2000) %>%\n",
    "  drop_na(.)\n",
    "\n",
    "rm(mat_delta_ssp2_bioclims,mat_delta_ssp2_foi)"
   ]
  },
  {
   "cell_type": "code",
   "execution_count": 6,
   "id": "5c937bca",
   "metadata": {},
   "outputs": [],
   "source": [
    "if (!dir.exists(file.path(\"./Data/Output/Iterations/C_musculinus/ssp2/foi_mod_plots\"))) {dir.create(\"./Data/Output/Iterations/C_musculinus/ssp2/foi_mod_plots\")}"
   ]
  },
  {
   "cell_type": "code",
   "execution_count": 7,
   "id": "0c357b27",
   "metadata": {},
   "outputs": [
    {
     "data": {
      "text/plain": [
       "\n",
       "Call:\n",
       "lm(formula = foi ~ ., data = delta_ssp2_mod_df)\n",
       "\n",
       "Residuals:\n",
       "    Min      1Q  Median      3Q     Max \n",
       "-40.449  -2.536  -0.001   1.708  39.552 \n",
       "\n",
       "Coefficients:\n",
       "                           Estimate Std. Error t value Pr(>|t|)    \n",
       "(Intercept)               1.194e+00  7.956e-02  15.010  < 2e-16 ***\n",
       "bclim_01                 -4.498e-01  1.164e-01  -3.864 0.000112 ***\n",
       "bclim_02                  2.055e+00  1.761e-01  11.669  < 2e-16 ***\n",
       "bclim_03                 -4.558e-01  2.941e-02 -15.496  < 2e-16 ***\n",
       "bclim_04                  4.516e-02  3.640e-03  12.407  < 2e-16 ***\n",
       "bclim_05                  1.137e+04  7.526e+03   1.510 0.130945    \n",
       "bclim_06                 -1.137e+04  7.526e+03  -1.510 0.130951    \n",
       "bclim_07                 -1.137e+04  7.526e+03  -1.511 0.130901    \n",
       "bclim_08                 -6.223e-02  6.205e-03 -10.029  < 2e-16 ***\n",
       "bclim_09                  2.372e-02  6.313e-03   3.757 0.000172 ***\n",
       "bclim_10                 -6.887e-01  1.457e-01  -4.728 2.27e-06 ***\n",
       "bclim_11                  3.344e-01  1.851e-01   1.806 0.070848 .  \n",
       "bclim_12                 -9.395e-04  7.674e-04  -1.224 0.220845    \n",
       "bclim_13                 -5.753e-03  2.693e-03  -2.136 0.032641 *  \n",
       "bclim_14                 -1.400e-02  5.683e-03  -2.463 0.013786 *  \n",
       "bclim_15                  1.781e-02  6.357e-03   2.801 0.005089 ** \n",
       "bclim_16                 -3.559e-04  1.720e-03  -0.207 0.836083    \n",
       "bclim_17                  1.114e-02  2.222e-03   5.010 5.43e-07 ***\n",
       "bclim_18                  3.681e-04  4.223e-04   0.872 0.383399    \n",
       "bclim_19                 -2.926e-03  7.937e-04  -3.687 0.000227 ***\n",
       "`ssp2_lu_crop_2040-2060`  2.309e+00  8.140e-02  28.361  < 2e-16 ***\n",
       "`ssp2_lu_othr_2040-2060`  1.453e+00  4.032e-02  36.044  < 2e-16 ***\n",
       "`ssp2_lu_past_2040-2060`  9.859e-01  4.818e-02  20.460  < 2e-16 ***\n",
       "`ssp2_lu_secd_2040-2060`  6.537e-01  6.301e-02  10.374  < 2e-16 ***\n",
       "`ssp2_lu_urbn_2040-2060` -3.128e-01  1.068e+00  -0.293 0.769681    \n",
       "---\n",
       "Signif. codes:  0 ‘***’ 0.001 ‘**’ 0.01 ‘*’ 0.05 ‘.’ 0.1 ‘ ’ 1\n",
       "\n",
       "Residual standard error: 5.017 on 302494 degrees of freedom\n",
       "Multiple R-squared:  0.0151,\tAdjusted R-squared:  0.01502 \n",
       "F-statistic: 193.2 on 24 and 302494 DF,  p-value: < 2.2e-16\n"
      ]
     },
     "metadata": {},
     "output_type": "display_data"
    }
   ],
   "source": [
    "model_delta_ssp2 <- lm(foi ~., data = delta_ssp2_mod_df)\n",
    "\n",
    "summary(model_delta_ssp2)\n"
   ]
  },
  {
   "cell_type": "code",
   "execution_count": 8,
   "id": "6f1aaf5d",
   "metadata": {},
   "outputs": [
    {
     "name": "stderr",
     "output_type": "stream",
     "text": [
      "\u001b[1m\u001b[22m`geom_smooth()` using formula = 'y ~ x'\n",
      "\u001b[1m\u001b[22m`geom_smooth()` using method = 'gam' and formula = 'y ~ s(x, bs = \"cs\")'\n",
      "\u001b[1m\u001b[22m`geom_smooth()` using formula = 'y ~ x'\n",
      "\u001b[1m\u001b[22m`geom_smooth()` using method = 'gam' and formula = 'y ~ s(x, bs = \"cs\")'\n",
      "\u001b[1m\u001b[22m`geom_smooth()` using formula = 'y ~ x'\n",
      "\u001b[1m\u001b[22m`geom_smooth()` using method = 'gam' and formula = 'y ~ s(x, bs = \"cs\")'\n",
      "\u001b[1m\u001b[22m`geom_smooth()` using formula = 'y ~ x'\n",
      "\u001b[1m\u001b[22m`geom_smooth()` using method = 'gam' and formula = 'y ~ s(x, bs = \"cs\")'\n",
      "\u001b[1m\u001b[22m`geom_smooth()` using formula = 'y ~ x'\n",
      "\u001b[1m\u001b[22m`geom_smooth()` using method = 'gam' and formula = 'y ~ s(x, bs = \"cs\")'\n",
      "\u001b[1m\u001b[22m`geom_smooth()` using formula = 'y ~ x'\n",
      "\u001b[1m\u001b[22m`geom_smooth()` using method = 'gam' and formula = 'y ~ s(x, bs = \"cs\")'\n",
      "\u001b[1m\u001b[22m`geom_smooth()` using formula = 'y ~ x'\n",
      "\u001b[1m\u001b[22m`geom_smooth()` using method = 'gam' and formula = 'y ~ s(x, bs = \"cs\")'\n",
      "\u001b[1m\u001b[22m`geom_smooth()` using formula = 'y ~ x'\n",
      "\u001b[1m\u001b[22m`geom_smooth()` using method = 'gam' and formula = 'y ~ s(x, bs = \"cs\")'\n",
      "\u001b[1m\u001b[22m`geom_smooth()` using formula = 'y ~ x'\n",
      "\u001b[1m\u001b[22m`geom_smooth()` using method = 'gam' and formula = 'y ~ s(x, bs = \"cs\")'\n",
      "\u001b[1m\u001b[22m`geom_smooth()` using formula = 'y ~ x'\n",
      "\u001b[1m\u001b[22m`geom_smooth()` using method = 'gam' and formula = 'y ~ s(x, bs = \"cs\")'\n",
      "\u001b[1m\u001b[22m`geom_smooth()` using formula = 'y ~ x'\n",
      "\u001b[1m\u001b[22m`geom_smooth()` using method = 'gam' and formula = 'y ~ s(x, bs = \"cs\")'\n",
      "\u001b[1m\u001b[22m`geom_smooth()` using formula = 'y ~ x'\n",
      "\u001b[1m\u001b[22m`geom_smooth()` using method = 'gam' and formula = 'y ~ s(x, bs = \"cs\")'\n",
      "\u001b[1m\u001b[22m`geom_smooth()` using formula = 'y ~ x'\n",
      "\u001b[1m\u001b[22m`geom_smooth()` using method = 'gam' and formula = 'y ~ s(x, bs = \"cs\")'\n",
      "\u001b[1m\u001b[22m`geom_smooth()` using formula = 'y ~ x'\n",
      "\u001b[1m\u001b[22m`geom_smooth()` using method = 'gam' and formula = 'y ~ s(x, bs = \"cs\")'\n",
      "\u001b[1m\u001b[22m`geom_smooth()` using formula = 'y ~ x'\n",
      "\u001b[1m\u001b[22m`geom_smooth()` using method = 'gam' and formula = 'y ~ s(x, bs = \"cs\")'\n",
      "\u001b[1m\u001b[22m`geom_smooth()` using formula = 'y ~ x'\n",
      "\u001b[1m\u001b[22m`geom_smooth()` using method = 'gam' and formula = 'y ~ s(x, bs = \"cs\")'\n",
      "\u001b[1m\u001b[22m`geom_smooth()` using formula = 'y ~ x'\n",
      "\u001b[1m\u001b[22m`geom_smooth()` using method = 'gam' and formula = 'y ~ s(x, bs = \"cs\")'\n",
      "\u001b[1m\u001b[22m`geom_smooth()` using formula = 'y ~ x'\n",
      "\u001b[1m\u001b[22m`geom_smooth()` using method = 'gam' and formula = 'y ~ s(x, bs = \"cs\")'\n",
      "\u001b[1m\u001b[22m`geom_smooth()` using formula = 'y ~ x'\n",
      "\u001b[1m\u001b[22m`geom_smooth()` using method = 'gam' and formula = 'y ~ s(x, bs = \"cs\")'\n",
      "\u001b[1m\u001b[22m`geom_smooth()` using formula = 'y ~ x'\n",
      "\u001b[1m\u001b[22m`geom_smooth()` using method = 'gam' and formula = 'y ~ s(x, bs = \"cs\")'\n",
      "\u001b[1m\u001b[22m`geom_smooth()` using formula = 'y ~ x'\n",
      "\u001b[1m\u001b[22m`geom_smooth()` using method = 'gam' and formula = 'y ~ s(x, bs = \"cs\")'\n",
      "\u001b[1m\u001b[22m`geom_smooth()` using formula = 'y ~ x'\n",
      "\u001b[1m\u001b[22m`geom_smooth()` using method = 'gam' and formula = 'y ~ s(x, bs = \"cs\")'\n",
      "\u001b[1m\u001b[22m`geom_smooth()` using formula = 'y ~ x'\n",
      "\u001b[1m\u001b[22m`geom_smooth()` using method = 'gam' and formula = 'y ~ s(x, bs = \"cs\")'\n",
      "\u001b[1m\u001b[22m`geom_smooth()` using formula = 'y ~ x'\n",
      "\u001b[1m\u001b[22m`geom_smooth()` using method = 'gam' and formula = 'y ~ s(x, bs = \"cs\")'\n"
     ]
    }
   ],
   "source": [
    "for (i in 1:24) {\n",
    "  \n",
    "  pl <- ggplot(delta_ssp2_mod_df, aes(x = delta_ssp2_mod_df[,i], y = delta_ssp2_mod_df[,25])) + \n",
    "    geom_point(alpha = 0.3) +\n",
    "    labs(x = names(delta_ssp2_mod_df)[i], y = \"FOI x 1000\", subtitle = \"red: lm, green: binomial, blue: gam\") +\n",
    "    stat_smooth(method = \"lm\", col = \"red\", se = T) +\n",
    "    stat_smooth(method = \"auto\", col = \"blue\", se = T) +\n",
    "    theme_classic()\n",
    "  ggsave(filename = paste0(\"./Data/Output/Iterations/C_musculinus/ssp2/foi_mod_plots/foi_mod_\", i, \".png\"), \n",
    "         plot = pl, device = \"png\",\n",
    "         width = 11, height = 8.5, units = \"in\")\n",
    "  \n",
    "}"
   ]
  },
  {
   "cell_type": "markdown",
   "id": "7f982e01",
   "metadata": {},
   "source": [
    "## SSP5"
   ]
  },
  {
   "cell_type": "code",
   "execution_count": 9,
   "id": "f27ac633",
   "metadata": {},
   "outputs": [],
   "source": [
    "mat_delta_ssp5_foi <- as.matrix(values(delta_ssp5_foi))\n",
    "mat_delta_ssp5_bioclims <- as.matrix(values(delta_ssp5_bclims))\n",
    "delta_ssp5_mod_df <- as.data.frame(cbind(mat_delta_ssp5_foi, mat_delta_ssp5_bioclims))\n",
    "delta_ssp5_mod_df <- delta_ssp5_mod_df %>%  \n",
    "  mutate(foi = floor(gpw_v4_2000*1000)) %>% \n",
    "  select(-gpw_v4_2000) %>%\n",
    "  drop_na(.)\n",
    "\n",
    "rm(mat_delta_ssp5_bioclims,mat_delta_ssp5_foi)"
   ]
  },
  {
   "cell_type": "code",
   "execution_count": 10,
   "id": "9b3c41f6",
   "metadata": {},
   "outputs": [],
   "source": [
    "if (!dir.exists(file.path(\"./Data/Output/Iterations/C_musculinus/ssp5/foi_mod_plots\"))) {dir.create(\"./Data/Output/Iterations/C_musculinus/ssp5/foi_mod_plots\")}"
   ]
  },
  {
   "cell_type": "code",
   "execution_count": 11,
   "id": "ca23e6f6",
   "metadata": {},
   "outputs": [
    {
     "data": {
      "text/plain": [
       "\n",
       "Call:\n",
       "lm(formula = foi ~ ., data = delta_ssp5_mod_df)\n",
       "\n",
       "Residuals:\n",
       "    Min      1Q  Median      3Q     Max \n",
       "-39.354  -2.399   0.185   1.931  37.010 \n",
       "\n",
       "Coefficients:\n",
       "                           Estimate Std. Error t value Pr(>|t|)    \n",
       "(Intercept)               1.552e+00  7.306e-02  21.237  < 2e-16 ***\n",
       "bclim_01                  5.501e-01  1.170e-01   4.701 2.59e-06 ***\n",
       "bclim_02                  2.962e+00  1.665e-01  17.793  < 2e-16 ***\n",
       "bclim_03                 -7.406e-01  2.842e-02 -26.062  < 2e-16 ***\n",
       "bclim_04                  2.234e-02  3.556e-03   6.282 3.34e-10 ***\n",
       "bclim_05                  7.562e+02  7.681e+03   0.098   0.9216    \n",
       "bclim_06                 -7.569e+02  7.681e+03  -0.099   0.9215    \n",
       "bclim_07                 -7.585e+02  7.681e+03  -0.099   0.9213    \n",
       "bclim_08                 -6.048e-02  6.202e-03  -9.751  < 2e-16 ***\n",
       "bclim_09                  4.886e-02  6.169e-03   7.920 2.38e-15 ***\n",
       "bclim_10                 -2.654e-01  1.389e-01  -1.911   0.0559 .  \n",
       "bclim_11                 -3.823e-01  1.891e-01  -2.022   0.0432 *  \n",
       "bclim_12                 -2.291e-06  6.830e-04  -0.003   0.9973    \n",
       "bclim_13                  1.656e-02  2.655e-03   6.238 4.43e-10 ***\n",
       "bclim_14                 -9.261e-03  5.307e-03  -1.745   0.0810 .  \n",
       "bclim_15                 -2.488e-02  5.791e-03  -4.296 1.74e-05 ***\n",
       "bclim_16                 -3.876e-03  1.575e-03  -2.461   0.0139 *  \n",
       "bclim_17                  3.126e-04  2.137e-03   0.146   0.8837    \n",
       "bclim_18                 -7.975e-04  4.062e-04  -1.963   0.0496 *  \n",
       "bclim_19                 -4.334e-03  6.541e-04  -6.625 3.47e-11 ***\n",
       "`ssp5_lu_crop_2040-2060`  1.610e+00  7.297e-02  22.067  < 2e-16 ***\n",
       "`ssp5_lu_othr_2040-2060`  1.826e+00  4.144e-02  44.061  < 2e-16 ***\n",
       "`ssp5_lu_past_2040-2060`  1.011e+00  4.880e-02  20.715  < 2e-16 ***\n",
       "`ssp5_lu_secd_2040-2060`  1.681e+00  6.284e-02  26.755  < 2e-16 ***\n",
       "`ssp5_lu_urbn_2040-2060` -8.190e-02  1.069e+00  -0.077   0.9390    \n",
       "---\n",
       "Signif. codes:  0 ‘***’ 0.001 ‘**’ 0.01 ‘*’ 0.05 ‘.’ 0.1 ‘ ’ 1\n",
       "\n",
       "Residual standard error: 5.141 on 302498 degrees of freedom\n",
       "Multiple R-squared:  0.02148,\tAdjusted R-squared:  0.02141 \n",
       "F-statistic: 276.7 on 24 and 302498 DF,  p-value: < 2.2e-16\n"
      ]
     },
     "metadata": {},
     "output_type": "display_data"
    }
   ],
   "source": [
    "model_delta_ssp5 <- lm(foi ~., data = delta_ssp5_mod_df)\n",
    "\n",
    "summary(model_delta_ssp5)\n"
   ]
  },
  {
   "cell_type": "code",
   "execution_count": 12,
   "id": "5875af8a",
   "metadata": {},
   "outputs": [
    {
     "name": "stderr",
     "output_type": "stream",
     "text": [
      "\u001b[1m\u001b[22m`geom_smooth()` using formula = 'y ~ x'\n",
      "\u001b[1m\u001b[22m`geom_smooth()` using method = 'gam' and formula = 'y ~ s(x, bs = \"cs\")'\n",
      "\u001b[1m\u001b[22m`geom_smooth()` using formula = 'y ~ x'\n",
      "\u001b[1m\u001b[22m`geom_smooth()` using method = 'gam' and formula = 'y ~ s(x, bs = \"cs\")'\n",
      "\u001b[1m\u001b[22m`geom_smooth()` using formula = 'y ~ x'\n",
      "\u001b[1m\u001b[22m`geom_smooth()` using method = 'gam' and formula = 'y ~ s(x, bs = \"cs\")'\n",
      "\u001b[1m\u001b[22m`geom_smooth()` using formula = 'y ~ x'\n",
      "\u001b[1m\u001b[22m`geom_smooth()` using method = 'gam' and formula = 'y ~ s(x, bs = \"cs\")'\n",
      "\u001b[1m\u001b[22m`geom_smooth()` using formula = 'y ~ x'\n",
      "\u001b[1m\u001b[22m`geom_smooth()` using method = 'gam' and formula = 'y ~ s(x, bs = \"cs\")'\n",
      "\u001b[1m\u001b[22m`geom_smooth()` using formula = 'y ~ x'\n",
      "\u001b[1m\u001b[22m`geom_smooth()` using method = 'gam' and formula = 'y ~ s(x, bs = \"cs\")'\n",
      "\u001b[1m\u001b[22m`geom_smooth()` using formula = 'y ~ x'\n",
      "\u001b[1m\u001b[22m`geom_smooth()` using method = 'gam' and formula = 'y ~ s(x, bs = \"cs\")'\n",
      "\u001b[1m\u001b[22m`geom_smooth()` using formula = 'y ~ x'\n",
      "\u001b[1m\u001b[22m`geom_smooth()` using method = 'gam' and formula = 'y ~ s(x, bs = \"cs\")'\n",
      "\u001b[1m\u001b[22m`geom_smooth()` using formula = 'y ~ x'\n",
      "\u001b[1m\u001b[22m`geom_smooth()` using method = 'gam' and formula = 'y ~ s(x, bs = \"cs\")'\n",
      "\u001b[1m\u001b[22m`geom_smooth()` using formula = 'y ~ x'\n",
      "\u001b[1m\u001b[22m`geom_smooth()` using method = 'gam' and formula = 'y ~ s(x, bs = \"cs\")'\n",
      "\u001b[1m\u001b[22m`geom_smooth()` using formula = 'y ~ x'\n",
      "\u001b[1m\u001b[22m`geom_smooth()` using method = 'gam' and formula = 'y ~ s(x, bs = \"cs\")'\n",
      "\u001b[1m\u001b[22m`geom_smooth()` using formula = 'y ~ x'\n",
      "\u001b[1m\u001b[22m`geom_smooth()` using method = 'gam' and formula = 'y ~ s(x, bs = \"cs\")'\n",
      "\u001b[1m\u001b[22m`geom_smooth()` using formula = 'y ~ x'\n",
      "\u001b[1m\u001b[22m`geom_smooth()` using method = 'gam' and formula = 'y ~ s(x, bs = \"cs\")'\n",
      "\u001b[1m\u001b[22m`geom_smooth()` using formula = 'y ~ x'\n",
      "\u001b[1m\u001b[22m`geom_smooth()` using method = 'gam' and formula = 'y ~ s(x, bs = \"cs\")'\n",
      "\u001b[1m\u001b[22m`geom_smooth()` using formula = 'y ~ x'\n",
      "\u001b[1m\u001b[22m`geom_smooth()` using method = 'gam' and formula = 'y ~ s(x, bs = \"cs\")'\n",
      "\u001b[1m\u001b[22m`geom_smooth()` using formula = 'y ~ x'\n",
      "\u001b[1m\u001b[22m`geom_smooth()` using method = 'gam' and formula = 'y ~ s(x, bs = \"cs\")'\n",
      "\u001b[1m\u001b[22m`geom_smooth()` using formula = 'y ~ x'\n",
      "\u001b[1m\u001b[22m`geom_smooth()` using method = 'gam' and formula = 'y ~ s(x, bs = \"cs\")'\n",
      "\u001b[1m\u001b[22m`geom_smooth()` using formula = 'y ~ x'\n",
      "\u001b[1m\u001b[22m`geom_smooth()` using method = 'gam' and formula = 'y ~ s(x, bs = \"cs\")'\n",
      "\u001b[1m\u001b[22m`geom_smooth()` using formula = 'y ~ x'\n",
      "\u001b[1m\u001b[22m`geom_smooth()` using method = 'gam' and formula = 'y ~ s(x, bs = \"cs\")'\n",
      "\u001b[1m\u001b[22m`geom_smooth()` using formula = 'y ~ x'\n",
      "\u001b[1m\u001b[22m`geom_smooth()` using method = 'gam' and formula = 'y ~ s(x, bs = \"cs\")'\n",
      "\u001b[1m\u001b[22m`geom_smooth()` using formula = 'y ~ x'\n",
      "\u001b[1m\u001b[22m`geom_smooth()` using method = 'gam' and formula = 'y ~ s(x, bs = \"cs\")'\n",
      "\u001b[1m\u001b[22m`geom_smooth()` using formula = 'y ~ x'\n",
      "\u001b[1m\u001b[22m`geom_smooth()` using method = 'gam' and formula = 'y ~ s(x, bs = \"cs\")'\n",
      "\u001b[1m\u001b[22m`geom_smooth()` using formula = 'y ~ x'\n",
      "\u001b[1m\u001b[22m`geom_smooth()` using method = 'gam' and formula = 'y ~ s(x, bs = \"cs\")'\n",
      "\u001b[1m\u001b[22m`geom_smooth()` using formula = 'y ~ x'\n",
      "\u001b[1m\u001b[22m`geom_smooth()` using method = 'gam' and formula = 'y ~ s(x, bs = \"cs\")'\n"
     ]
    }
   ],
   "source": [
    "\n",
    "for (i in 1:24) {\n",
    "  \n",
    "  pl <- ggplot(delta_ssp5_mod_df, aes(x = delta_ssp5_mod_df[,i], y = delta_ssp5_mod_df[,25])) + \n",
    "    geom_point(alpha = 0.3) +\n",
    "    labs(x = names(delta_ssp5_mod_df)[i], y = \"FOI x 1000\", subtitle = \"red: lm, green: binomial, blue: gam\") +\n",
    "    stat_smooth(method = \"lm\", col = \"red\", se = T) +\n",
    "    stat_smooth(method = \"auto\", col = \"blue\", se = T) +\n",
    "    theme_classic()\n",
    "  ggsave(filename = paste0(\"./Data/Output/Iterations/C_musculinus/ssp5/foi_mod_plots/foi_mod_\", i, \".png\"), \n",
    "         plot = pl, device = \"png\",\n",
    "         width = 11, height = 8.5, units = \"in\")\n",
    "  \n",
    "}"
   ]
  }
 ],
 "metadata": {
  "kernelspec": {
   "display_name": "R-native",
   "language": "R",
   "name": "ir_native"
  },
  "language_info": {
   "codemirror_mode": "r",
   "file_extension": ".r",
   "mimetype": "text/x-r-source",
   "name": "R",
   "pygments_lexer": "r",
   "version": "4.4.0"
  }
 },
 "nbformat": 4,
 "nbformat_minor": 5
}
