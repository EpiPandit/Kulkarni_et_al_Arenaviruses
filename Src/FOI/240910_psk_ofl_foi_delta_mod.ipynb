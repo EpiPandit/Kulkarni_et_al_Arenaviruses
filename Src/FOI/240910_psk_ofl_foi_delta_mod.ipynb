{
 "cells": [
  {
   "cell_type": "code",
   "execution_count": 1,
   "id": "15a34ba9",
   "metadata": {},
   "outputs": [
    {
     "name": "stderr",
     "output_type": "stream",
     "text": [
      "Loading required package: sp\n",
      "\n",
      "terra 1.7.78\n",
      "\n",
      "── \u001b[1mAttaching core tidyverse packages\u001b[22m ────────────────────────────────────────────────────────────────────────────────────────────────────────────────────────────────────────────────────────────── tidyverse 2.0.0 ──\n",
      "\u001b[32m✔\u001b[39m \u001b[34mdplyr    \u001b[39m 1.1.4     \u001b[32m✔\u001b[39m \u001b[34mreadr    \u001b[39m 2.1.5\n",
      "\u001b[32m✔\u001b[39m \u001b[34mforcats  \u001b[39m 1.0.0     \u001b[32m✔\u001b[39m \u001b[34mstringr  \u001b[39m 1.5.1\n",
      "\u001b[32m✔\u001b[39m \u001b[34mggplot2  \u001b[39m 3.5.1     \u001b[32m✔\u001b[39m \u001b[34mtibble   \u001b[39m 3.2.1\n",
      "\u001b[32m✔\u001b[39m \u001b[34mlubridate\u001b[39m 1.9.3     \u001b[32m✔\u001b[39m \u001b[34mtidyr    \u001b[39m 1.3.1\n",
      "\u001b[32m✔\u001b[39m \u001b[34mpurrr    \u001b[39m 1.0.2     \n",
      "── \u001b[1mConflicts\u001b[22m ──────────────────────────────────────────────────────────────────────────────────────────────────────────────────────────────────────────────────────────────────────────────── tidyverse_conflicts() ──\n",
      "\u001b[31m✖\u001b[39m \u001b[34mtidyr\u001b[39m::\u001b[32mextract()\u001b[39m masks \u001b[34mterra\u001b[39m::extract(), \u001b[34mraster\u001b[39m::extract()\n",
      "\u001b[31m✖\u001b[39m \u001b[34mdplyr\u001b[39m::\u001b[32mfilter()\u001b[39m  masks \u001b[34mstats\u001b[39m::filter()\n",
      "\u001b[31m✖\u001b[39m \u001b[34mdplyr\u001b[39m::\u001b[32mlag()\u001b[39m     masks \u001b[34mstats\u001b[39m::lag()\n",
      "\u001b[31m✖\u001b[39m \u001b[34mdplyr\u001b[39m::\u001b[32mselect()\u001b[39m  masks \u001b[34mraster\u001b[39m::select()\n",
      "\u001b[36mℹ\u001b[39m Use the conflicted package (\u001b[3m\u001b[34m<http://conflicted.r-lib.org/>\u001b[39m\u001b[23m) to force all conflicts to become errors\n"
     ]
    }
   ],
   "source": [
    "setwd(\"/Users/pranavkulkarni/SDM/Climate_Models_Arenaviruses/\")\n",
    "library(raster)\n",
    "library(terra)\n",
    "library(tidyverse)"
   ]
  },
  {
   "cell_type": "code",
   "execution_count": 2,
   "id": "ec42908c",
   "metadata": {},
   "outputs": [],
   "source": [
    "curr_bclims <- rast(list.files(path = \"./Data/Input/Processed/Resampled/junin\",\n",
    "                     full.names =  T))\n",
    "\n",
    "ssp2_bclims <- rast(list.files(path = \"./Data/Input/Processed/Projected/junin/SSP2\",\n",
    "                     full.names =  T))\n",
    "\n",
    "ssp5_bclims <- rast(list.files(path = \"./Data/Input/Processed/Projected/junin/SSP5\",\n",
    "                     full.names =  T))"
   ]
  },
  {
   "cell_type": "code",
   "execution_count": 3,
   "id": "fd3afce3",
   "metadata": {},
   "outputs": [],
   "source": [
    "curr_foi <- rast(\"./Data/Output/iterations/O_flavescens/current/foi.tif\")\n",
    "ssp2_foi <- rast(\"./Data/Output/iterations/O_flavescens/ssp2/foi_ssp2.tif\")\n",
    "ssp5_foi <- rast(\"./Data/Output/iterations/O_flavescens/ssp5/foi_ssp5.tif\")"
   ]
  },
  {
   "cell_type": "code",
   "execution_count": 4,
   "id": "c193a289",
   "metadata": {},
   "outputs": [],
   "source": [
    "delta_ssp2_bclims <- ssp2_bclims - curr_bclims\n",
    "delta_ssp5_bclims <- ssp5_bclims - curr_bclims\n",
    "\n",
    "\n",
    "delta_ssp2_foi <- ssp2_foi - curr_foi\n",
    "delta_ssp5_foi <- ssp5_foi - curr_foi"
   ]
  },
  {
   "cell_type": "markdown",
   "id": "ad8ce812",
   "metadata": {},
   "source": [
    "## SSP2"
   ]
  },
  {
   "cell_type": "code",
   "execution_count": 5,
   "id": "a540b7fe",
   "metadata": {},
   "outputs": [],
   "source": [
    "mat_delta_ssp2_foi <- as.matrix(values(delta_ssp2_foi))\n",
    "mat_delta_ssp2_bioclims <- as.matrix(values(delta_ssp2_bclims))\n",
    "delta_ssp2_mod_df <- as.data.frame(cbind(mat_delta_ssp2_foi, mat_delta_ssp2_bioclims))\n",
    "delta_ssp2_mod_df <- delta_ssp2_mod_df %>% \n",
    "  mutate(foi = floor(gpw_v4_2000*1000)) %>% \n",
    "  select(-gpw_v4_2000) %>%\n",
    "  drop_na(.)\n",
    "\n",
    "rm(mat_delta_ssp2_bioclims,mat_delta_ssp2_foi)"
   ]
  },
  {
   "cell_type": "code",
   "execution_count": 6,
   "id": "5c937bca",
   "metadata": {},
   "outputs": [],
   "source": [
    "if (!dir.exists(file.path(\"./Data/Output/Iterations/O_flavescens/ssp2/foi_mod_plots\"))) {dir.create(\"./Data/Output/Iterations/O_flavescens/ssp2/foi_mod_plots\")}"
   ]
  },
  {
   "cell_type": "code",
   "execution_count": 7,
   "id": "0c357b27",
   "metadata": {},
   "outputs": [
    {
     "data": {
      "text/plain": [
       "\n",
       "Call:\n",
       "lm(formula = foi ~ ., data = delta_ssp2_mod_df)\n",
       "\n",
       "Residuals:\n",
       "    Min      1Q  Median      3Q     Max \n",
       "-35.195  -0.614  -0.093   1.137  37.499 \n",
       "\n",
       "Coefficients:\n",
       "                           Estimate Std. Error t value Pr(>|t|)    \n",
       "(Intercept)              -8.354e-01  6.805e-02 -12.275  < 2e-16 ***\n",
       "bclim_01                  1.583e+00  9.958e-02  15.896  < 2e-16 ***\n",
       "bclim_02                 -1.484e-01  1.506e-01  -0.985 0.324526    \n",
       "bclim_03                 -1.749e-01  2.517e-02  -6.948 3.70e-12 ***\n",
       "bclim_04                  1.315e-02  3.114e-03   4.223 2.41e-05 ***\n",
       "bclim_05                 -3.021e+03  6.439e+03  -0.469 0.638938    \n",
       "bclim_06                  3.020e+03  6.439e+03   0.469 0.638985    \n",
       "bclim_07                  3.021e+03  6.439e+03   0.469 0.638970    \n",
       "bclim_08                  3.974e-02  5.311e-03   7.483 7.27e-14 ***\n",
       "bclim_09                 -1.828e-02  5.403e-03  -3.384 0.000715 ***\n",
       "bclim_10                 -1.007e+00  1.246e-01  -8.083 6.36e-16 ***\n",
       "bclim_11                 -3.863e-02  1.584e-01  -0.244 0.807285    \n",
       "bclim_12                  3.615e-03  6.568e-04   5.503 3.74e-08 ***\n",
       "bclim_13                 -2.730e-02  2.305e-03 -11.846  < 2e-16 ***\n",
       "bclim_14                  1.035e-02  4.864e-03   2.129 0.033272 *  \n",
       "bclim_15                  4.810e-02  5.438e-03   8.846  < 2e-16 ***\n",
       "bclim_16                  1.044e-02  1.473e-03   7.088 1.36e-12 ***\n",
       "bclim_17                 -2.797e-03  1.902e-03  -1.471 0.141351    \n",
       "bclim_18                 -9.422e-04  3.612e-04  -2.608 0.009100 ** \n",
       "bclim_19                  1.741e-03  6.792e-04   2.562 0.010393 *  \n",
       "`ssp2_lu_crop_2040-2060`  1.585e+00  6.967e-02  22.756  < 2e-16 ***\n",
       "`ssp2_lu_othr_2040-2060`  7.592e-01  3.449e-02  22.011  < 2e-16 ***\n",
       "`ssp2_lu_past_2040-2060` -9.555e-02  4.123e-02  -2.318 0.020472 *  \n",
       "`ssp2_lu_secd_2040-2060`  3.656e-01  5.389e-02   6.783 1.18e-11 ***\n",
       "`ssp2_lu_urbn_2040-2060`  3.322e+00  9.137e-01   3.636 0.000277 ***\n",
       "---\n",
       "Signif. codes:  0 ‘***’ 0.001 ‘**’ 0.01 ‘*’ 0.05 ‘.’ 0.1 ‘ ’ 1\n",
       "\n",
       "Residual standard error: 4.292 on 302296 degrees of freedom\n",
       "Multiple R-squared:  0.01871,\tAdjusted R-squared:  0.01863 \n",
       "F-statistic: 240.2 on 24 and 302296 DF,  p-value: < 2.2e-16\n"
      ]
     },
     "metadata": {},
     "output_type": "display_data"
    }
   ],
   "source": [
    "model_delta_ssp2 <- lm(foi ~., data = delta_ssp2_mod_df)\n",
    "\n",
    "summary(model_delta_ssp2)\n"
   ]
  },
  {
   "cell_type": "code",
   "execution_count": 8,
   "id": "6f1aaf5d",
   "metadata": {},
   "outputs": [
    {
     "name": "stderr",
     "output_type": "stream",
     "text": [
      "\u001b[1m\u001b[22m`geom_smooth()` using formula = 'y ~ x'\n",
      "\u001b[1m\u001b[22m`geom_smooth()` using method = 'gam' and formula = 'y ~ s(x, bs = \"cs\")'\n",
      "\u001b[1m\u001b[22m`geom_smooth()` using formula = 'y ~ x'\n",
      "\u001b[1m\u001b[22m`geom_smooth()` using method = 'gam' and formula = 'y ~ s(x, bs = \"cs\")'\n",
      "\u001b[1m\u001b[22m`geom_smooth()` using formula = 'y ~ x'\n",
      "\u001b[1m\u001b[22m`geom_smooth()` using method = 'gam' and formula = 'y ~ s(x, bs = \"cs\")'\n",
      "\u001b[1m\u001b[22m`geom_smooth()` using formula = 'y ~ x'\n",
      "\u001b[1m\u001b[22m`geom_smooth()` using method = 'gam' and formula = 'y ~ s(x, bs = \"cs\")'\n",
      "\u001b[1m\u001b[22m`geom_smooth()` using formula = 'y ~ x'\n",
      "\u001b[1m\u001b[22m`geom_smooth()` using method = 'gam' and formula = 'y ~ s(x, bs = \"cs\")'\n",
      "\u001b[1m\u001b[22m`geom_smooth()` using formula = 'y ~ x'\n",
      "\u001b[1m\u001b[22m`geom_smooth()` using method = 'gam' and formula = 'y ~ s(x, bs = \"cs\")'\n",
      "\u001b[1m\u001b[22m`geom_smooth()` using formula = 'y ~ x'\n",
      "\u001b[1m\u001b[22m`geom_smooth()` using method = 'gam' and formula = 'y ~ s(x, bs = \"cs\")'\n",
      "\u001b[1m\u001b[22m`geom_smooth()` using formula = 'y ~ x'\n",
      "\u001b[1m\u001b[22m`geom_smooth()` using method = 'gam' and formula = 'y ~ s(x, bs = \"cs\")'\n",
      "\u001b[1m\u001b[22m`geom_smooth()` using formula = 'y ~ x'\n",
      "\u001b[1m\u001b[22m`geom_smooth()` using method = 'gam' and formula = 'y ~ s(x, bs = \"cs\")'\n",
      "\u001b[1m\u001b[22m`geom_smooth()` using formula = 'y ~ x'\n",
      "\u001b[1m\u001b[22m`geom_smooth()` using method = 'gam' and formula = 'y ~ s(x, bs = \"cs\")'\n",
      "\u001b[1m\u001b[22m`geom_smooth()` using formula = 'y ~ x'\n",
      "\u001b[1m\u001b[22m`geom_smooth()` using method = 'gam' and formula = 'y ~ s(x, bs = \"cs\")'\n",
      "\u001b[1m\u001b[22m`geom_smooth()` using formula = 'y ~ x'\n",
      "\u001b[1m\u001b[22m`geom_smooth()` using method = 'gam' and formula = 'y ~ s(x, bs = \"cs\")'\n",
      "\u001b[1m\u001b[22m`geom_smooth()` using formula = 'y ~ x'\n",
      "\u001b[1m\u001b[22m`geom_smooth()` using method = 'gam' and formula = 'y ~ s(x, bs = \"cs\")'\n",
      "\u001b[1m\u001b[22m`geom_smooth()` using formula = 'y ~ x'\n",
      "\u001b[1m\u001b[22m`geom_smooth()` using method = 'gam' and formula = 'y ~ s(x, bs = \"cs\")'\n",
      "\u001b[1m\u001b[22m`geom_smooth()` using formula = 'y ~ x'\n",
      "\u001b[1m\u001b[22m`geom_smooth()` using method = 'gam' and formula = 'y ~ s(x, bs = \"cs\")'\n",
      "\u001b[1m\u001b[22m`geom_smooth()` using formula = 'y ~ x'\n",
      "\u001b[1m\u001b[22m`geom_smooth()` using method = 'gam' and formula = 'y ~ s(x, bs = \"cs\")'\n",
      "\u001b[1m\u001b[22m`geom_smooth()` using formula = 'y ~ x'\n",
      "\u001b[1m\u001b[22m`geom_smooth()` using method = 'gam' and formula = 'y ~ s(x, bs = \"cs\")'\n",
      "\u001b[1m\u001b[22m`geom_smooth()` using formula = 'y ~ x'\n",
      "\u001b[1m\u001b[22m`geom_smooth()` using method = 'gam' and formula = 'y ~ s(x, bs = \"cs\")'\n",
      "\u001b[1m\u001b[22m`geom_smooth()` using formula = 'y ~ x'\n",
      "\u001b[1m\u001b[22m`geom_smooth()` using method = 'gam' and formula = 'y ~ s(x, bs = \"cs\")'\n",
      "\u001b[1m\u001b[22m`geom_smooth()` using formula = 'y ~ x'\n",
      "\u001b[1m\u001b[22m`geom_smooth()` using method = 'gam' and formula = 'y ~ s(x, bs = \"cs\")'\n",
      "\u001b[1m\u001b[22m`geom_smooth()` using formula = 'y ~ x'\n",
      "\u001b[1m\u001b[22m`geom_smooth()` using method = 'gam' and formula = 'y ~ s(x, bs = \"cs\")'\n",
      "\u001b[1m\u001b[22m`geom_smooth()` using formula = 'y ~ x'\n",
      "\u001b[1m\u001b[22m`geom_smooth()` using method = 'gam' and formula = 'y ~ s(x, bs = \"cs\")'\n",
      "\u001b[1m\u001b[22m`geom_smooth()` using formula = 'y ~ x'\n",
      "\u001b[1m\u001b[22m`geom_smooth()` using method = 'gam' and formula = 'y ~ s(x, bs = \"cs\")'\n",
      "\u001b[1m\u001b[22m`geom_smooth()` using formula = 'y ~ x'\n",
      "\u001b[1m\u001b[22m`geom_smooth()` using method = 'gam' and formula = 'y ~ s(x, bs = \"cs\")'\n"
     ]
    }
   ],
   "source": [
    "for (i in 1:24) {\n",
    "  \n",
    "  pl <- ggplot(delta_ssp2_mod_df, aes(x = delta_ssp2_mod_df[,i], y = delta_ssp2_mod_df[,25])) + \n",
    "    geom_point(alpha = 0.3) +\n",
    "    labs(x = names(delta_ssp2_mod_df)[i], y = \"FOI x 1000\", subtitle = \"red: lm, green: binomial, blue: gam\") +\n",
    "    stat_smooth(method = \"lm\", col = \"red\", se = T) +\n",
    "    stat_smooth(method = \"auto\", col = \"blue\", se = T) +\n",
    "    theme_classic()\n",
    "  ggsave(filename = paste0(\"./Data/Output/Iterations/O_flavescens/ssp2/foi_mod_plots/foi_mod_\", i, \".png\"), \n",
    "         plot = pl, device = \"png\",\n",
    "         width = 11, height = 8.5, units = \"in\")\n",
    "  \n",
    "}"
   ]
  },
  {
   "cell_type": "markdown",
   "id": "7f982e01",
   "metadata": {},
   "source": [
    "## SSP5"
   ]
  },
  {
   "cell_type": "code",
   "execution_count": 9,
   "id": "f27ac633",
   "metadata": {},
   "outputs": [],
   "source": [
    "mat_delta_ssp5_foi <- as.matrix(values(delta_ssp5_foi))\n",
    "mat_delta_ssp5_bioclims <- as.matrix(values(delta_ssp5_bclims))\n",
    "delta_ssp5_mod_df <- as.data.frame(cbind(mat_delta_ssp5_foi, mat_delta_ssp5_bioclims))\n",
    "delta_ssp5_mod_df <- delta_ssp5_mod_df %>%  \n",
    "  mutate(foi = floor(gpw_v4_2000*1000)) %>% \n",
    "  select(-gpw_v4_2000) %>%\n",
    "  drop_na(.)\n",
    "\n",
    "rm(mat_delta_ssp5_bioclims,mat_delta_ssp5_foi)"
   ]
  },
  {
   "cell_type": "code",
   "execution_count": 10,
   "id": "9b3c41f6",
   "metadata": {},
   "outputs": [],
   "source": [
    "if (!dir.exists(file.path(\"./Data/Output/Iterations/O_flavescens/ssp5/foi_mod_plots\"))) {dir.create(\"./Data/Output/Iterations/O_flavescens/ssp5/foi_mod_plots\")}"
   ]
  },
  {
   "cell_type": "code",
   "execution_count": 11,
   "id": "ca23e6f6",
   "metadata": {},
   "outputs": [
    {
     "data": {
      "text/plain": [
       "\n",
       "Call:\n",
       "lm(formula = foi ~ ., data = delta_ssp5_mod_df)\n",
       "\n",
       "Residuals:\n",
       "    Min      1Q  Median      3Q     Max \n",
       "-37.627  -0.644   0.090   1.392  39.112 \n",
       "\n",
       "Coefficients:\n",
       "                           Estimate Std. Error t value Pr(>|t|)    \n",
       "(Intercept)              -8.890e-01  6.305e-02 -14.099  < 2e-16 ***\n",
       "bclim_01                  1.748e+00  1.010e-01  17.306  < 2e-16 ***\n",
       "bclim_02                  5.496e-01  1.436e-01   3.827  0.00013 ***\n",
       "bclim_03                 -3.030e-01  2.452e-02 -12.357  < 2e-16 ***\n",
       "bclim_04                  1.941e-02  3.069e-03   6.325 2.54e-10 ***\n",
       "bclim_05                 -2.058e+03  6.627e+03  -0.311  0.75609    \n",
       "bclim_06                  2.058e+03  6.627e+03   0.311  0.75609    \n",
       "bclim_07                  2.058e+03  6.627e+03   0.311  0.75614    \n",
       "bclim_08                  5.857e-02  5.355e-03  10.937  < 2e-16 ***\n",
       "bclim_09                 -1.551e-02  5.324e-03  -2.913  0.00358 ** \n",
       "bclim_10                 -1.538e+00  1.198e-01 -12.834  < 2e-16 ***\n",
       "bclim_11                 -3.381e-01  1.632e-01  -2.071  0.03832 *  \n",
       "bclim_12                  7.325e-03  5.896e-04  12.423  < 2e-16 ***\n",
       "bclim_13                 -1.653e-02  2.291e-03  -7.215 5.42e-13 ***\n",
       "bclim_14                  2.392e-02  4.585e-03   5.217 1.82e-07 ***\n",
       "bclim_15                  4.288e-02  4.997e-03   8.580  < 2e-16 ***\n",
       "bclim_16                  1.675e-03  1.360e-03   1.232  0.21799    \n",
       "bclim_17                 -1.840e-02  1.845e-03  -9.971  < 2e-16 ***\n",
       "bclim_18                 -2.971e-03  3.504e-04  -8.479  < 2e-16 ***\n",
       "bclim_19                  5.386e-03  5.646e-04   9.541  < 2e-16 ***\n",
       "`ssp5_lu_crop_2040-2060`  1.936e+00  6.296e-02  30.754  < 2e-16 ***\n",
       "`ssp5_lu_othr_2040-2060`  1.106e+00  3.575e-02  30.930  < 2e-16 ***\n",
       "`ssp5_lu_past_2040-2060` -3.440e-02  4.211e-02  -0.817  0.41393    \n",
       "`ssp5_lu_secd_2040-2060`  6.365e-01  5.420e-02  11.743  < 2e-16 ***\n",
       "`ssp5_lu_urbn_2040-2060`  2.344e+00  9.226e-01   2.541  0.01105 *  \n",
       "---\n",
       "Signif. codes:  0 ‘***’ 0.001 ‘**’ 0.01 ‘*’ 0.05 ‘.’ 0.1 ‘ ’ 1\n",
       "\n",
       "Residual standard error: 4.434 on 302262 degrees of freedom\n",
       "Multiple R-squared:  0.03175,\tAdjusted R-squared:  0.03167 \n",
       "F-statistic: 412.9 on 24 and 302262 DF,  p-value: < 2.2e-16\n"
      ]
     },
     "metadata": {},
     "output_type": "display_data"
    }
   ],
   "source": [
    "model_delta_ssp5 <- lm(foi ~., data = delta_ssp5_mod_df)\n",
    "\n",
    "summary(model_delta_ssp5)\n"
   ]
  },
  {
   "cell_type": "code",
   "execution_count": 12,
   "id": "5875af8a",
   "metadata": {},
   "outputs": [
    {
     "name": "stderr",
     "output_type": "stream",
     "text": [
      "\u001b[1m\u001b[22m`geom_smooth()` using formula = 'y ~ x'\n",
      "\u001b[1m\u001b[22m`geom_smooth()` using method = 'gam' and formula = 'y ~ s(x, bs = \"cs\")'\n",
      "\u001b[1m\u001b[22m`geom_smooth()` using formula = 'y ~ x'\n",
      "\u001b[1m\u001b[22m`geom_smooth()` using method = 'gam' and formula = 'y ~ s(x, bs = \"cs\")'\n",
      "\u001b[1m\u001b[22m`geom_smooth()` using formula = 'y ~ x'\n",
      "\u001b[1m\u001b[22m`geom_smooth()` using method = 'gam' and formula = 'y ~ s(x, bs = \"cs\")'\n",
      "\u001b[1m\u001b[22m`geom_smooth()` using formula = 'y ~ x'\n",
      "\u001b[1m\u001b[22m`geom_smooth()` using method = 'gam' and formula = 'y ~ s(x, bs = \"cs\")'\n",
      "\u001b[1m\u001b[22m`geom_smooth()` using formula = 'y ~ x'\n",
      "\u001b[1m\u001b[22m`geom_smooth()` using method = 'gam' and formula = 'y ~ s(x, bs = \"cs\")'\n",
      "\u001b[1m\u001b[22m`geom_smooth()` using formula = 'y ~ x'\n",
      "\u001b[1m\u001b[22m`geom_smooth()` using method = 'gam' and formula = 'y ~ s(x, bs = \"cs\")'\n",
      "\u001b[1m\u001b[22m`geom_smooth()` using formula = 'y ~ x'\n",
      "\u001b[1m\u001b[22m`geom_smooth()` using method = 'gam' and formula = 'y ~ s(x, bs = \"cs\")'\n",
      "\u001b[1m\u001b[22m`geom_smooth()` using formula = 'y ~ x'\n",
      "\u001b[1m\u001b[22m`geom_smooth()` using method = 'gam' and formula = 'y ~ s(x, bs = \"cs\")'\n",
      "\u001b[1m\u001b[22m`geom_smooth()` using formula = 'y ~ x'\n",
      "\u001b[1m\u001b[22m`geom_smooth()` using method = 'gam' and formula = 'y ~ s(x, bs = \"cs\")'\n",
      "\u001b[1m\u001b[22m`geom_smooth()` using formula = 'y ~ x'\n",
      "\u001b[1m\u001b[22m`geom_smooth()` using method = 'gam' and formula = 'y ~ s(x, bs = \"cs\")'\n",
      "\u001b[1m\u001b[22m`geom_smooth()` using formula = 'y ~ x'\n",
      "\u001b[1m\u001b[22m`geom_smooth()` using method = 'gam' and formula = 'y ~ s(x, bs = \"cs\")'\n",
      "\u001b[1m\u001b[22m`geom_smooth()` using formula = 'y ~ x'\n",
      "\u001b[1m\u001b[22m`geom_smooth()` using method = 'gam' and formula = 'y ~ s(x, bs = \"cs\")'\n",
      "\u001b[1m\u001b[22m`geom_smooth()` using formula = 'y ~ x'\n",
      "\u001b[1m\u001b[22m`geom_smooth()` using method = 'gam' and formula = 'y ~ s(x, bs = \"cs\")'\n",
      "\u001b[1m\u001b[22m`geom_smooth()` using formula = 'y ~ x'\n",
      "\u001b[1m\u001b[22m`geom_smooth()` using method = 'gam' and formula = 'y ~ s(x, bs = \"cs\")'\n",
      "\u001b[1m\u001b[22m`geom_smooth()` using formula = 'y ~ x'\n",
      "\u001b[1m\u001b[22m`geom_smooth()` using method = 'gam' and formula = 'y ~ s(x, bs = \"cs\")'\n",
      "\u001b[1m\u001b[22m`geom_smooth()` using formula = 'y ~ x'\n",
      "\u001b[1m\u001b[22m`geom_smooth()` using method = 'gam' and formula = 'y ~ s(x, bs = \"cs\")'\n",
      "\u001b[1m\u001b[22m`geom_smooth()` using formula = 'y ~ x'\n",
      "\u001b[1m\u001b[22m`geom_smooth()` using method = 'gam' and formula = 'y ~ s(x, bs = \"cs\")'\n",
      "\u001b[1m\u001b[22m`geom_smooth()` using formula = 'y ~ x'\n",
      "\u001b[1m\u001b[22m`geom_smooth()` using method = 'gam' and formula = 'y ~ s(x, bs = \"cs\")'\n",
      "\u001b[1m\u001b[22m`geom_smooth()` using formula = 'y ~ x'\n",
      "\u001b[1m\u001b[22m`geom_smooth()` using method = 'gam' and formula = 'y ~ s(x, bs = \"cs\")'\n",
      "\u001b[1m\u001b[22m`geom_smooth()` using formula = 'y ~ x'\n",
      "\u001b[1m\u001b[22m`geom_smooth()` using method = 'gam' and formula = 'y ~ s(x, bs = \"cs\")'\n",
      "\u001b[1m\u001b[22m`geom_smooth()` using formula = 'y ~ x'\n",
      "\u001b[1m\u001b[22m`geom_smooth()` using method = 'gam' and formula = 'y ~ s(x, bs = \"cs\")'\n",
      "\u001b[1m\u001b[22m`geom_smooth()` using formula = 'y ~ x'\n",
      "\u001b[1m\u001b[22m`geom_smooth()` using method = 'gam' and formula = 'y ~ s(x, bs = \"cs\")'\n",
      "\u001b[1m\u001b[22m`geom_smooth()` using formula = 'y ~ x'\n",
      "\u001b[1m\u001b[22m`geom_smooth()` using method = 'gam' and formula = 'y ~ s(x, bs = \"cs\")'\n",
      "\u001b[1m\u001b[22m`geom_smooth()` using formula = 'y ~ x'\n",
      "\u001b[1m\u001b[22m`geom_smooth()` using method = 'gam' and formula = 'y ~ s(x, bs = \"cs\")'\n"
     ]
    }
   ],
   "source": [
    "\n",
    "for (i in 1:24) {\n",
    "  \n",
    "  pl <- ggplot(delta_ssp5_mod_df, aes(x = delta_ssp5_mod_df[,i], y = delta_ssp5_mod_df[,25])) + \n",
    "    geom_point(alpha = 0.3) +\n",
    "    labs(x = names(delta_ssp5_mod_df)[i], y = \"FOI x 1000\", subtitle = \"red: lm, green: binomial, blue: gam\") +\n",
    "    stat_smooth(method = \"lm\", col = \"red\", se = T) +\n",
    "    stat_smooth(method = \"auto\", col = \"blue\", se = T) +\n",
    "    theme_classic()\n",
    "  ggsave(filename = paste0(\"./Data/Output/Iterations/O_flavescens/ssp5/foi_mod_plots/foi_mod_\", i, \".png\"), \n",
    "         plot = pl, device = \"png\",\n",
    "         width = 11, height = 8.5, units = \"in\")\n",
    "  \n",
    "}"
   ]
  }
 ],
 "metadata": {
  "kernelspec": {
   "display_name": "R-native",
   "language": "R",
   "name": "ir_native"
  },
  "language_info": {
   "codemirror_mode": "r",
   "file_extension": ".r",
   "mimetype": "text/x-r-source",
   "name": "R",
   "pygments_lexer": "r",
   "version": "4.4.0"
  }
 },
 "nbformat": 4,
 "nbformat_minor": 5
}
