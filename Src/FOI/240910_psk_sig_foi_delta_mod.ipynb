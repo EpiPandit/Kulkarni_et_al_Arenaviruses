{
 "cells": [
  {
   "cell_type": "code",
   "execution_count": 1,
   "id": "852a799e",
   "metadata": {},
   "outputs": [
    {
     "name": "stderr",
     "output_type": "stream",
     "text": [
      "Loading required package: sp\n",
      "\n",
      "terra 1.7.78\n",
      "\n",
      "── \u001b[1mAttaching core tidyverse packages\u001b[22m ────────────────────────────────────────────────────────────────────────────────────────────────────────────────────────────────────────────────────────────── tidyverse 2.0.0 ──\n",
      "\u001b[32m✔\u001b[39m \u001b[34mdplyr    \u001b[39m 1.1.4     \u001b[32m✔\u001b[39m \u001b[34mreadr    \u001b[39m 2.1.5\n",
      "\u001b[32m✔\u001b[39m \u001b[34mforcats  \u001b[39m 1.0.0     \u001b[32m✔\u001b[39m \u001b[34mstringr  \u001b[39m 1.5.1\n",
      "\u001b[32m✔\u001b[39m \u001b[34mggplot2  \u001b[39m 3.5.1     \u001b[32m✔\u001b[39m \u001b[34mtibble   \u001b[39m 3.2.1\n",
      "\u001b[32m✔\u001b[39m \u001b[34mlubridate\u001b[39m 1.9.3     \u001b[32m✔\u001b[39m \u001b[34mtidyr    \u001b[39m 1.3.1\n",
      "\u001b[32m✔\u001b[39m \u001b[34mpurrr    \u001b[39m 1.0.2     \n",
      "── \u001b[1mConflicts\u001b[22m ──────────────────────────────────────────────────────────────────────────────────────────────────────────────────────────────────────────────────────────────────────────────── tidyverse_conflicts() ──\n",
      "\u001b[31m✖\u001b[39m \u001b[34mtidyr\u001b[39m::\u001b[32mextract()\u001b[39m masks \u001b[34mterra\u001b[39m::extract(), \u001b[34mraster\u001b[39m::extract()\n",
      "\u001b[31m✖\u001b[39m \u001b[34mdplyr\u001b[39m::\u001b[32mfilter()\u001b[39m  masks \u001b[34mstats\u001b[39m::filter()\n",
      "\u001b[31m✖\u001b[39m \u001b[34mdplyr\u001b[39m::\u001b[32mlag()\u001b[39m     masks \u001b[34mstats\u001b[39m::lag()\n",
      "\u001b[31m✖\u001b[39m \u001b[34mdplyr\u001b[39m::\u001b[32mselect()\u001b[39m  masks \u001b[34mraster\u001b[39m::select()\n",
      "\u001b[36mℹ\u001b[39m Use the conflicted package (\u001b[3m\u001b[34m<http://conflicted.r-lib.org/>\u001b[39m\u001b[23m) to force all conflicts to become errors\n"
     ]
    }
   ],
   "source": [
    "setwd(\"/Users/pranavkulkarni/SDM/Climate_Models_Arenaviruses/\")\n",
    "library(raster)\n",
    "library(terra)\n",
    "library(tidyverse)"
   ]
  },
  {
   "cell_type": "code",
   "execution_count": 2,
   "id": "80e92dde",
   "metadata": {},
   "outputs": [],
   "source": [
    "curr_bclims <- rast(list.files(path = \"./Data/Input/Processed/Resampled/guan\",\n",
    "                     full.names =  T))\n",
    "\n",
    "ssp2_bclims <- rast(list.files(path = \"./Data/Input/Processed/Projected/guan/SSP2\",\n",
    "                     full.names =  T))\n",
    "\n",
    "ssp5_bclims <- rast(list.files(path = \"./Data/Input/Processed/Projected/guan/SSP5\",\n",
    "                     full.names =  T))"
   ]
  },
  {
   "cell_type": "code",
   "execution_count": 3,
   "id": "3d4fa692",
   "metadata": {},
   "outputs": [],
   "source": [
    "curr_foi <- rast(\"./Data/Output/iterations/S_alstoni/current/foi.tif\")\n",
    "ssp2_foi <- rast(\"./Data/Output/iterations/S_alstoni/ssp2/foi_ssp2.tif\")\n",
    "ssp5_foi <- rast(\"./Data/Output/iterations/S_alstoni/ssp5/foi_ssp5.tif\")"
   ]
  },
  {
   "cell_type": "code",
   "execution_count": 4,
   "id": "e931e614",
   "metadata": {},
   "outputs": [],
   "source": [
    "delta_ssp2_bclims <- ssp2_bclims - curr_bclims\n",
    "delta_ssp5_bclims <- ssp5_bclims - curr_bclims\n",
    "\n",
    "\n",
    "delta_ssp2_foi <- ssp2_foi - curr_foi\n",
    "delta_ssp5_foi <- ssp5_foi - curr_foi"
   ]
  },
  {
   "cell_type": "markdown",
   "id": "1ac48f44",
   "metadata": {},
   "source": [
    "## SSP2"
   ]
  },
  {
   "cell_type": "code",
   "execution_count": 5,
   "id": "d84271f4",
   "metadata": {},
   "outputs": [],
   "source": [
    "mat_delta_ssp2_foi <- as.matrix(values(delta_ssp2_foi))\n",
    "mat_delta_ssp2_bioclims <- as.matrix(values(delta_ssp2_bclims))\n",
    "delta_ssp2_mod_df <- as.data.frame(cbind(mat_delta_ssp2_foi, mat_delta_ssp2_bioclims))\n",
    "delta_ssp2_mod_df <- delta_ssp2_mod_df %>% \n",
    "  select(-c(ndvi, dem)) %>% \n",
    "  mutate(foi = floor(gpw_v4_2000*1000)) %>% \n",
    "  select(-gpw_v4_2000) %>%\n",
    "  drop_na(.)\n",
    "\n",
    "rm(mat_delta_ssp2_bioclims,mat_delta_ssp2_foi)"
   ]
  },
  {
   "cell_type": "code",
   "execution_count": 6,
   "id": "6f40abc8",
   "metadata": {},
   "outputs": [],
   "source": [
    "if (!dir.exists(file.path(\"./Data/Output/Iterations/S_alstoni/ssp2/foi_mod_plots\"))) {dir.create(\"./Data/Output/Iterations/S_alstoni/ssp2/foi_mod_plots\")}"
   ]
  },
  {
   "cell_type": "code",
   "execution_count": 7,
   "id": "427d8e0a",
   "metadata": {},
   "outputs": [
    {
     "data": {
      "text/plain": [
       "\n",
       "Call:\n",
       "lm(formula = foi ~ ., data = delta_ssp2_mod_df)\n",
       "\n",
       "Residuals:\n",
       "    Min      1Q  Median      3Q     Max \n",
       "-36.462  -2.633   0.282   2.753  40.841 \n",
       "\n",
       "Coefficients:\n",
       "                           Estimate Std. Error t value Pr(>|t|)    \n",
       "(Intercept)               3.151e+00  2.096e-01  15.034  < 2e-16 ***\n",
       "bclim_01                 -6.612e-01  2.252e-01  -2.936 0.003328 ** \n",
       "bclim_02                 -3.273e-01  3.033e-01  -1.079 0.280615    \n",
       "bclim_03                 -6.046e-01  3.542e-02 -17.069  < 2e-16 ***\n",
       "bclim_04                  1.371e-01  6.579e-03  20.839  < 2e-16 ***\n",
       "bclim_05                  4.029e+04  1.201e+04   3.354 0.000798 ***\n",
       "bclim_06                 -4.029e+04  1.201e+04  -3.354 0.000798 ***\n",
       "bclim_07                 -4.029e+04  1.201e+04  -3.354 0.000797 ***\n",
       "bclim_08                 -6.282e-01  6.173e-02 -10.176  < 2e-16 ***\n",
       "bclim_09                  2.307e-01  5.577e-02   4.136 3.54e-05 ***\n",
       "bclim_10                 -1.880e+00  2.685e-01  -7.002 2.52e-12 ***\n",
       "bclim_11                 -3.417e-01  2.627e-01  -1.301 0.193340    \n",
       "bclim_12                  8.840e-03  2.612e-04  33.846  < 2e-16 ***\n",
       "bclim_13                 -3.672e-03  9.755e-04  -3.765 0.000167 ***\n",
       "bclim_14                  8.129e-03  4.128e-03   1.969 0.048910 *  \n",
       "bclim_15                  3.801e-01  8.769e-03  43.343  < 2e-16 ***\n",
       "bclim_16                 -3.579e-02  5.810e-04 -61.604  < 2e-16 ***\n",
       "bclim_17                  7.633e-03  1.375e-03   5.549 2.88e-08 ***\n",
       "bclim_18                  2.467e-03  2.339e-04  10.546  < 2e-16 ***\n",
       "bclim_19                  2.698e-04  1.338e-04   2.016 0.043801 *  \n",
       "`ssp2_lu_crop_2040-2060` -3.961e+00  3.489e-01 -11.354  < 2e-16 ***\n",
       "`ssp2_lu_othr_2040-2060` -2.025e+00  1.145e-01 -17.686  < 2e-16 ***\n",
       "`ssp2_lu_past_2040-2060`  1.503e+00  1.021e-01  14.710  < 2e-16 ***\n",
       "`ssp2_lu_secd_2040-2060` -1.897e+00  1.348e-01 -14.074  < 2e-16 ***\n",
       "`ssp2_lu_urbn_2040-2060` -2.746e+01  1.406e+00 -19.526  < 2e-16 ***\n",
       "---\n",
       "Signif. codes:  0 ‘***’ 0.001 ‘**’ 0.01 ‘*’ 0.05 ‘.’ 0.1 ‘ ’ 1\n",
       "\n",
       "Residual standard error: 6.753 on 226962 degrees of freedom\n",
       "Multiple R-squared:  0.099,\tAdjusted R-squared:  0.09891 \n",
       "F-statistic:  1039 on 24 and 226962 DF,  p-value: < 2.2e-16\n"
      ]
     },
     "metadata": {},
     "output_type": "display_data"
    }
   ],
   "source": [
    "model_delta_ssp2 <- lm(foi ~., data = delta_ssp2_mod_df)\n",
    "\n",
    "summary(model_delta_ssp2)\n"
   ]
  },
  {
   "cell_type": "code",
   "execution_count": 8,
   "id": "3ec9e34b",
   "metadata": {},
   "outputs": [
    {
     "name": "stderr",
     "output_type": "stream",
     "text": [
      "\u001b[1m\u001b[22m`geom_smooth()` using formula = 'y ~ x'\n",
      "\u001b[1m\u001b[22m`geom_smooth()` using method = 'gam' and formula = 'y ~ s(x, bs = \"cs\")'\n",
      "\u001b[1m\u001b[22m`geom_smooth()` using formula = 'y ~ x'\n",
      "\u001b[1m\u001b[22m`geom_smooth()` using method = 'gam' and formula = 'y ~ s(x, bs = \"cs\")'\n",
      "\u001b[1m\u001b[22m`geom_smooth()` using formula = 'y ~ x'\n",
      "\u001b[1m\u001b[22m`geom_smooth()` using method = 'gam' and formula = 'y ~ s(x, bs = \"cs\")'\n",
      "\u001b[1m\u001b[22m`geom_smooth()` using formula = 'y ~ x'\n",
      "\u001b[1m\u001b[22m`geom_smooth()` using method = 'gam' and formula = 'y ~ s(x, bs = \"cs\")'\n",
      "\u001b[1m\u001b[22m`geom_smooth()` using formula = 'y ~ x'\n",
      "\u001b[1m\u001b[22m`geom_smooth()` using method = 'gam' and formula = 'y ~ s(x, bs = \"cs\")'\n",
      "\u001b[1m\u001b[22m`geom_smooth()` using formula = 'y ~ x'\n",
      "\u001b[1m\u001b[22m`geom_smooth()` using method = 'gam' and formula = 'y ~ s(x, bs = \"cs\")'\n",
      "\u001b[1m\u001b[22m`geom_smooth()` using formula = 'y ~ x'\n",
      "\u001b[1m\u001b[22m`geom_smooth()` using method = 'gam' and formula = 'y ~ s(x, bs = \"cs\")'\n",
      "\u001b[1m\u001b[22m`geom_smooth()` using formula = 'y ~ x'\n",
      "\u001b[1m\u001b[22m`geom_smooth()` using method = 'gam' and formula = 'y ~ s(x, bs = \"cs\")'\n",
      "\u001b[1m\u001b[22m`geom_smooth()` using formula = 'y ~ x'\n",
      "\u001b[1m\u001b[22m`geom_smooth()` using method = 'gam' and formula = 'y ~ s(x, bs = \"cs\")'\n",
      "\u001b[1m\u001b[22m`geom_smooth()` using formula = 'y ~ x'\n",
      "\u001b[1m\u001b[22m`geom_smooth()` using method = 'gam' and formula = 'y ~ s(x, bs = \"cs\")'\n",
      "\u001b[1m\u001b[22m`geom_smooth()` using formula = 'y ~ x'\n",
      "\u001b[1m\u001b[22m`geom_smooth()` using method = 'gam' and formula = 'y ~ s(x, bs = \"cs\")'\n",
      "\u001b[1m\u001b[22m`geom_smooth()` using formula = 'y ~ x'\n",
      "\u001b[1m\u001b[22m`geom_smooth()` using method = 'gam' and formula = 'y ~ s(x, bs = \"cs\")'\n",
      "\u001b[1m\u001b[22m`geom_smooth()` using formula = 'y ~ x'\n",
      "\u001b[1m\u001b[22m`geom_smooth()` using method = 'gam' and formula = 'y ~ s(x, bs = \"cs\")'\n",
      "\u001b[1m\u001b[22m`geom_smooth()` using formula = 'y ~ x'\n",
      "\u001b[1m\u001b[22m`geom_smooth()` using method = 'gam' and formula = 'y ~ s(x, bs = \"cs\")'\n",
      "\u001b[1m\u001b[22m`geom_smooth()` using formula = 'y ~ x'\n",
      "\u001b[1m\u001b[22m`geom_smooth()` using method = 'gam' and formula = 'y ~ s(x, bs = \"cs\")'\n",
      "\u001b[1m\u001b[22m`geom_smooth()` using formula = 'y ~ x'\n",
      "\u001b[1m\u001b[22m`geom_smooth()` using method = 'gam' and formula = 'y ~ s(x, bs = \"cs\")'\n",
      "\u001b[1m\u001b[22m`geom_smooth()` using formula = 'y ~ x'\n",
      "\u001b[1m\u001b[22m`geom_smooth()` using method = 'gam' and formula = 'y ~ s(x, bs = \"cs\")'\n",
      "\u001b[1m\u001b[22m`geom_smooth()` using formula = 'y ~ x'\n",
      "\u001b[1m\u001b[22m`geom_smooth()` using method = 'gam' and formula = 'y ~ s(x, bs = \"cs\")'\n",
      "\u001b[1m\u001b[22m`geom_smooth()` using formula = 'y ~ x'\n",
      "\u001b[1m\u001b[22m`geom_smooth()` using method = 'gam' and formula = 'y ~ s(x, bs = \"cs\")'\n",
      "\u001b[1m\u001b[22m`geom_smooth()` using formula = 'y ~ x'\n",
      "\u001b[1m\u001b[22m`geom_smooth()` using method = 'gam' and formula = 'y ~ s(x, bs = \"cs\")'\n",
      "\u001b[1m\u001b[22m`geom_smooth()` using formula = 'y ~ x'\n",
      "\u001b[1m\u001b[22m`geom_smooth()` using method = 'gam' and formula = 'y ~ s(x, bs = \"cs\")'\n",
      "\u001b[1m\u001b[22m`geom_smooth()` using formula = 'y ~ x'\n",
      "\u001b[1m\u001b[22m`geom_smooth()` using method = 'gam' and formula = 'y ~ s(x, bs = \"cs\")'\n",
      "\u001b[1m\u001b[22m`geom_smooth()` using formula = 'y ~ x'\n",
      "\u001b[1m\u001b[22m`geom_smooth()` using method = 'gam' and formula = 'y ~ s(x, bs = \"cs\")'\n",
      "\u001b[1m\u001b[22m`geom_smooth()` using formula = 'y ~ x'\n",
      "\u001b[1m\u001b[22m`geom_smooth()` using method = 'gam' and formula = 'y ~ s(x, bs = \"cs\")'\n"
     ]
    }
   ],
   "source": [
    "for (i in 1:24) {\n",
    "  \n",
    "  pl <- ggplot(delta_ssp2_mod_df, aes(x = delta_ssp2_mod_df[,i], y = delta_ssp2_mod_df[,25])) + \n",
    "    geom_point(alpha = 0.3) +\n",
    "    labs(x = names(delta_ssp2_mod_df)[i], y = \"FOI x 1000\", subtitle = \"red: lm, green: binomial, blue: gam\") +\n",
    "    stat_smooth(method = \"lm\", col = \"red\", se = T) +\n",
    "    stat_smooth(method = \"auto\", col = \"blue\", se = T) +\n",
    "    theme_classic()\n",
    "  ggsave(filename = paste0(\"./Data/Output/Iterations/S_alstoni/ssp2/foi_mod_plots/foi_mod_\", i, \".png\"), \n",
    "         plot = pl, device = \"png\",\n",
    "         width = 11, height = 8.5, units = \"in\")\n",
    "  \n",
    "}"
   ]
  },
  {
   "cell_type": "markdown",
   "id": "50232e5f",
   "metadata": {},
   "source": [
    "## SSP5"
   ]
  },
  {
   "cell_type": "code",
   "execution_count": 9,
   "id": "edb4b2b5",
   "metadata": {},
   "outputs": [],
   "source": [
    "mat_delta_ssp5_foi <- as.matrix(values(delta_ssp5_foi))\n",
    "mat_delta_ssp5_bioclims <- as.matrix(values(delta_ssp5_bclims))\n",
    "delta_ssp5_mod_df <- as.data.frame(cbind(mat_delta_ssp5_foi, mat_delta_ssp5_bioclims))\n",
    "delta_ssp5_mod_df <- delta_ssp5_mod_df %>% \n",
    "  select(-c(ndvi, dem)) %>% \n",
    "  mutate(foi = floor(gpw_v4_2000*1000)) %>% \n",
    "  select(-gpw_v4_2000) %>%\n",
    "  drop_na(.)\n",
    "\n",
    "rm(mat_delta_ssp5_bioclims,mat_delta_ssp5_foi)"
   ]
  },
  {
   "cell_type": "code",
   "execution_count": 10,
   "id": "00a7a176",
   "metadata": {},
   "outputs": [],
   "source": [
    "if (!dir.exists(file.path(\"./Data/Output/Iterations/S_alstoni/ssp5/foi_mod_plots\"))) {dir.create(\"./Data/Output/Iterations/S_alstoni/ssp5/foi_mod_plots\")}"
   ]
  },
  {
   "cell_type": "code",
   "execution_count": 11,
   "id": "0b2bdb86",
   "metadata": {},
   "outputs": [
    {
     "data": {
      "text/plain": [
       "\n",
       "Call:\n",
       "lm(formula = foi ~ ., data = delta_ssp5_mod_df)\n",
       "\n",
       "Residuals:\n",
       "    Min      1Q  Median      3Q     Max \n",
       "-35.613  -2.846   0.129   2.778  44.363 \n",
       "\n",
       "Coefficients:\n",
       "                           Estimate Std. Error t value Pr(>|t|)    \n",
       "(Intercept)               4.559e+00  2.076e-01  21.959  < 2e-16 ***\n",
       "bclim_01                 -2.870e+00  1.809e-01 -15.868  < 2e-16 ***\n",
       "bclim_02                  4.153e+00  2.368e-01  17.539  < 2e-16 ***\n",
       "bclim_03                 -8.838e-01  2.621e-02 -33.722  < 2e-16 ***\n",
       "bclim_04                  9.539e-02  5.771e-03  16.529  < 2e-16 ***\n",
       "bclim_05                  8.541e+03  1.228e+04   0.695 0.486832    \n",
       "bclim_06                 -8.541e+03  1.228e+04  -0.695 0.486836    \n",
       "bclim_07                 -8.548e+03  1.228e+04  -0.696 0.486510    \n",
       "bclim_08                 -7.560e-01  5.757e-02 -13.133  < 2e-16 ***\n",
       "bclim_09                  9.450e-01  4.968e-02  19.022  < 2e-16 ***\n",
       "bclim_10                 -2.566e-01  2.429e-01  -1.056 0.290780    \n",
       "bclim_11                 -7.425e-01  2.245e-01  -3.307 0.000942 ***\n",
       "bclim_12                  1.154e-02  2.261e-04  51.051  < 2e-16 ***\n",
       "bclim_13                  1.910e-03  8.909e-04   2.144 0.032034 *  \n",
       "bclim_14                 -2.354e-02  3.700e-03  -6.362 1.99e-10 ***\n",
       "bclim_15                  5.214e-01  7.037e-03  74.091  < 2e-16 ***\n",
       "bclim_16                 -4.430e-02  5.091e-04 -87.018  < 2e-16 ***\n",
       "bclim_17                  1.703e-02  1.239e-03  13.747  < 2e-16 ***\n",
       "bclim_18                  3.267e-03  2.275e-04  14.357  < 2e-16 ***\n",
       "bclim_19                  1.297e-03  1.186e-04  10.940  < 2e-16 ***\n",
       "`ssp5_lu_crop_2040-2060`  2.564e+00  3.285e-01   7.805 5.98e-15 ***\n",
       "`ssp5_lu_othr_2040-2060` -1.334e+00  1.148e-01 -11.624  < 2e-16 ***\n",
       "`ssp5_lu_past_2040-2060` -8.200e-01  1.040e-01  -7.886 3.14e-15 ***\n",
       "`ssp5_lu_secd_2040-2060` -1.822e-01  1.374e-01  -1.326 0.184686    \n",
       "`ssp5_lu_urbn_2040-2060` -2.127e+01  1.462e+00 -14.547  < 2e-16 ***\n",
       "---\n",
       "Signif. codes:  0 ‘***’ 0.001 ‘**’ 0.01 ‘*’ 0.05 ‘.’ 0.1 ‘ ’ 1\n",
       "\n",
       "Residual standard error: 6.943 on 226981 degrees of freedom\n",
       "Multiple R-squared:  0.1284,\tAdjusted R-squared:  0.1283 \n",
       "F-statistic:  1393 on 24 and 226981 DF,  p-value: < 2.2e-16\n"
      ]
     },
     "metadata": {},
     "output_type": "display_data"
    }
   ],
   "source": [
    "model_delta_ssp5 <- lm(foi ~., data = delta_ssp5_mod_df)\n",
    "\n",
    "summary(model_delta_ssp5)\n"
   ]
  },
  {
   "cell_type": "code",
   "execution_count": null,
   "id": "87b70c67",
   "metadata": {},
   "outputs": [
    {
     "name": "stderr",
     "output_type": "stream",
     "text": [
      "\u001b[1m\u001b[22m`geom_smooth()` using formula = 'y ~ x'\n",
      "\u001b[1m\u001b[22m`geom_smooth()` using method = 'gam' and formula = 'y ~ s(x, bs = \"cs\")'\n",
      "\u001b[1m\u001b[22m`geom_smooth()` using formula = 'y ~ x'\n",
      "\u001b[1m\u001b[22m`geom_smooth()` using method = 'gam' and formula = 'y ~ s(x, bs = \"cs\")'\n",
      "\u001b[1m\u001b[22m`geom_smooth()` using formula = 'y ~ x'\n",
      "\u001b[1m\u001b[22m`geom_smooth()` using method = 'gam' and formula = 'y ~ s(x, bs = \"cs\")'\n",
      "\u001b[1m\u001b[22m`geom_smooth()` using formula = 'y ~ x'\n",
      "\u001b[1m\u001b[22m`geom_smooth()` using method = 'gam' and formula = 'y ~ s(x, bs = \"cs\")'\n",
      "\u001b[1m\u001b[22m`geom_smooth()` using formula = 'y ~ x'\n",
      "\u001b[1m\u001b[22m`geom_smooth()` using method = 'gam' and formula = 'y ~ s(x, bs = \"cs\")'\n"
     ]
    }
   ],
   "source": [
    "\n",
    "for (i in 1:24) {\n",
    "  \n",
    "  pl <- ggplot(delta_ssp5_mod_df, aes(x = delta_ssp5_mod_df[,i], y = delta_ssp5_mod_df[,25])) + \n",
    "    geom_point(alpha = 0.3) +\n",
    "    labs(x = names(delta_ssp5_mod_df)[i], y = \"FOI x 1000\", subtitle = \"red: lm, green: binomial, blue: gam\") +\n",
    "    stat_smooth(method = \"lm\", col = \"red\", se = T) +\n",
    "    stat_smooth(method = \"auto\", col = \"blue\", se = T) +\n",
    "    theme_classic()\n",
    "  ggsave(filename = paste0(\"./Data/Output/Iterations/S_alstoni/ssp5/foi_mod_plots/foi_mod_\", i, \".png\"), \n",
    "         plot = pl, device = \"png\",\n",
    "         width = 11, height = 8.5, units = \"in\")\n",
    "  \n",
    "}"
   ]
  }
 ],
 "metadata": {
  "kernelspec": {
   "display_name": "R-native",
   "language": "R",
   "name": "ir_native"
  },
  "language_info": {
   "codemirror_mode": "r",
   "file_extension": ".r",
   "mimetype": "text/x-r-source",
   "name": "R",
   "pygments_lexer": "r",
   "version": "4.4.0"
  }
 },
 "nbformat": 4,
 "nbformat_minor": 5
}
