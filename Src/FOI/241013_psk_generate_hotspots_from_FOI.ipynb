{
 "cells": [
  {
   "cell_type": "code",
   "execution_count": 1,
   "id": "6e1a4451",
   "metadata": {},
   "outputs": [
    {
     "name": "stderr",
     "output_type": "stream",
     "text": [
      "Loading required package: sp\n",
      "\n",
      "terra 1.7.78\n",
      "\n"
     ]
    }
   ],
   "source": [
    "setwd(\"/Users/pranavkulkarni/SDM/Climate_Models_Arenaviruses\")\n",
    "\n",
    "library(raster)\n",
    "library(terra)"
   ]
  },
  {
   "cell_type": "code",
   "execution_count": 2,
   "id": "7c2c1eb7",
   "metadata": {},
   "outputs": [],
   "source": [
    "hotspot_func <- function(foi_raster_path, quantiles, write_path, vector_name) {\n",
    "  foi <- rast(foi_raster_path)\n",
    "  hot_values <- values(foi)\n",
    "  breaks = seq(min(hot_values, na.rm = TRUE), max(hot_values, na.rm = TRUE), length.out = quantiles+1)\n",
    "  reclass_matrix <- cbind(\n",
    "    breaks[-length(breaks)],  \n",
    "    breaks[-1],               \n",
    "    1:quantiles\n",
    "  )\n",
    "  hot <- classify(foi, reclass_matrix)\n",
    "  spot <- as.points(hot)\n",
    "  writeVector(spot, paste0(write_path, \"/\", vector_name, \".shp\"), overwrite = TRUE)\n",
    "}"
   ]
  },
  {
   "cell_type": "markdown",
   "id": "37471504",
   "metadata": {},
   "source": [
    "# Current "
   ]
  },
  {
   "cell_type": "code",
   "execution_count": 3,
   "id": "b5b0d230",
   "metadata": {},
   "outputs": [],
   "source": [
    "hotspot_func(foi_raster_path = \"./Data/Output/iterations/Z_brevicauda/current/foi_0.02.tif\",\n",
    "             quantiles = 10,\n",
    "             write_path = \"./Data/Output/Hotspots/point_shapefiles\",\n",
    "             vector_name = \"zyg_current\")"
   ]
  },
  {
   "cell_type": "code",
   "execution_count": 4,
   "id": "10bce304",
   "metadata": {},
   "outputs": [],
   "source": [
    "hotspot_func(foi_raster_path = \"./Data/Output/iterations/S_alstoni/current/foi_0.02.tif\",\n",
    "             quantiles = 10,\n",
    "             write_path = \"./Data/Output/Hotspots/point_shapefiles\",\n",
    "             vector_name = \"sig_current\")"
   ]
  },
  {
   "cell_type": "code",
   "execution_count": 5,
   "id": "74102d5d",
   "metadata": {},
   "outputs": [],
   "source": [
    "hotspot_func(foi_raster_path = \"./Data/Output/iterations/C_callosus/current/foi_0.02.tif\",\n",
    "             quantiles = 10,\n",
    "             write_path = \"./Data/Output/Hotspots/point_shapefiles\",\n",
    "             vector_name = \"ccal_current\")"
   ]
  },
  {
   "cell_type": "code",
   "execution_count": 6,
   "id": "fe07b4df",
   "metadata": {},
   "outputs": [],
   "source": [
    "hotspot_func(foi_raster_path = \"./Data/Output/iterations/C_musculinus/current/foi_0.02.tif\",\n",
    "             quantiles = 10,\n",
    "             write_path = \"./Data/Output/Hotspots/point_shapefiles\",\n",
    "             vector_name = \"cmus_current\")"
   ]
  },
  {
   "cell_type": "code",
   "execution_count": 7,
   "id": "33e92696",
   "metadata": {},
   "outputs": [],
   "source": [
    "hotspot_func(foi_raster_path = \"./Data/Output/iterations/C_laucha/current/foi_0.02.tif\",\n",
    "             quantiles = 10,\n",
    "             write_path = \"./Data/Output/Hotspots/point_shapefiles\",\n",
    "             vector_name = \"cla_current\")"
   ]
  },
  {
   "cell_type": "code",
   "execution_count": 8,
   "id": "9b50703d",
   "metadata": {},
   "outputs": [],
   "source": [
    "hotspot_func(foi_raster_path = \"./Data/Output/iterations/O_flavescens/current/foi_0.02.tif\",\n",
    "             quantiles = 10,\n",
    "             write_path = \"./Data/Output/Hotspots/point_shapefiles\",\n",
    "             vector_name = \"ofl_current\")"
   ]
  },
  {
   "cell_type": "markdown",
   "id": "d45652b4",
   "metadata": {},
   "source": [
    "# SSP 2"
   ]
  },
  {
   "cell_type": "code",
   "execution_count": 9,
   "id": "cb9bdb54",
   "metadata": {},
   "outputs": [],
   "source": [
    "hotspot_func(foi_raster_path = \"./Data/Output/iterations/Z_brevicauda/ssp2/foi_0.02.tif\",\n",
    "             quantiles = 10,\n",
    "             write_path = \"./Data/Output/Hotspots/point_shapefiles\",\n",
    "             vector_name = \"zyg_ssp2\")"
   ]
  },
  {
   "cell_type": "code",
   "execution_count": 10,
   "id": "e7ecb994",
   "metadata": {},
   "outputs": [],
   "source": [
    "hotspot_func(foi_raster_path = \"./Data/Output/iterations/S_alstoni/ssp2/foi_0.02.tif\",\n",
    "             quantiles = 10,\n",
    "             write_path = \"./Data/Output/Hotspots/point_shapefiles\",\n",
    "             vector_name = \"sig_ssp2\")"
   ]
  },
  {
   "cell_type": "code",
   "execution_count": 11,
   "id": "55f9ed17",
   "metadata": {},
   "outputs": [],
   "source": [
    "hotspot_func(foi_raster_path = \"./Data/Output/iterations/C_callosus/ssp2/foi_0.02.tif\",\n",
    "             quantiles = 10,\n",
    "             write_path = \"./Data/Output/Hotspots/point_shapefiles\",\n",
    "             vector_name = \"ccal_ssp2\")"
   ]
  },
  {
   "cell_type": "code",
   "execution_count": 12,
   "id": "d3310657",
   "metadata": {},
   "outputs": [],
   "source": [
    "hotspot_func(foi_raster_path = \"./Data/Output/iterations/C_musculinus/ssp2/foi_0.02.tif\",\n",
    "             quantiles = 10,\n",
    "             write_path = \"./Data/Output/Hotspots/point_shapefiles\",\n",
    "             vector_name = \"cmus_ssp2\")"
   ]
  },
  {
   "cell_type": "code",
   "execution_count": 13,
   "id": "869bdd08",
   "metadata": {},
   "outputs": [],
   "source": [
    "hotspot_func(foi_raster_path = \"./Data/Output/iterations/C_laucha/ssp2/foi_0.02.tif\",\n",
    "             quantiles = 10,\n",
    "             write_path = \"./Data/Output/Hotspots/point_shapefiles\",\n",
    "             vector_name = \"cla_ssp2\")"
   ]
  },
  {
   "cell_type": "code",
   "execution_count": 14,
   "id": "f9545dc7",
   "metadata": {},
   "outputs": [],
   "source": [
    "hotspot_func(foi_raster_path = \"./Data/Output/iterations/O_flavescens/ssp2/foi_0.02.tif\",\n",
    "             quantiles = 10,\n",
    "             write_path = \"./Data/Output/Hotspots/point_shapefiles\",\n",
    "             vector_name = \"ofl_ssp2\")"
   ]
  },
  {
   "cell_type": "markdown",
   "id": "7c2919f7",
   "metadata": {},
   "source": [
    "# SSP 5"
   ]
  },
  {
   "cell_type": "code",
   "execution_count": 15,
   "id": "22a69572",
   "metadata": {},
   "outputs": [],
   "source": [
    "hotspot_func(foi_raster_path = \"./Data/Output/iterations/Z_brevicauda/ssp5/foi_0.02.tif\",\n",
    "             quantiles = 10,\n",
    "             write_path = \"./Data/Output/Hotspots/point_shapefiles\",\n",
    "             vector_name = \"zyg_ssp5\")"
   ]
  },
  {
   "cell_type": "code",
   "execution_count": 16,
   "id": "24bb1754",
   "metadata": {},
   "outputs": [],
   "source": [
    "hotspot_func(foi_raster_path = \"./Data/Output/iterations/S_alstoni/ssp5/foi_0.02.tif\",\n",
    "             quantiles = 10,\n",
    "             write_path = \"./Data/Output/Hotspots/point_shapefiles\",\n",
    "             vector_name = \"sig_ssp5\")"
   ]
  },
  {
   "cell_type": "code",
   "execution_count": 17,
   "id": "b2fbf4f4",
   "metadata": {},
   "outputs": [],
   "source": [
    "hotspot_func(foi_raster_path = \"./Data/Output/iterations/C_callosus/ssp5/foi_0.02.tif\",\n",
    "             quantiles = 10,\n",
    "             write_path = \"./Data/Output/Hotspots/point_shapefiles\",\n",
    "             vector_name = \"ccal_ssp5\")"
   ]
  },
  {
   "cell_type": "code",
   "execution_count": 18,
   "id": "26e63f29",
   "metadata": {},
   "outputs": [],
   "source": [
    "hotspot_func(foi_raster_path = \"./Data/Output/iterations/C_musculinus/ssp5/foi_0.02.tif\",\n",
    "             quantiles = 10,\n",
    "             write_path = \"./Data/Output/Hotspots/point_shapefiles\",\n",
    "             vector_name = \"cmus_ssp5\")"
   ]
  },
  {
   "cell_type": "code",
   "execution_count": 19,
   "id": "3630eefa",
   "metadata": {},
   "outputs": [],
   "source": [
    "hotspot_func(foi_raster_path = \"./Data/Output/iterations/C_laucha/ssp5/foi_0.02.tif\",\n",
    "             quantiles = 10,\n",
    "             write_path = \"./Data/Output/Hotspots/point_shapefiles\",\n",
    "             vector_name = \"cla_ssp5\")"
   ]
  },
  {
   "cell_type": "code",
   "execution_count": 20,
   "id": "ba12a1ce",
   "metadata": {},
   "outputs": [],
   "source": [
    "hotspot_func(foi_raster_path = \"./Data/Output/iterations/O_flavescens/ssp5/foi_0.02.tif\",\n",
    "             quantiles = 10,\n",
    "             write_path = \"./Data/Output/Hotspots/point_shapefiles\",\n",
    "             vector_name = \"ofl_ssp5\")"
   ]
  }
 ],
 "metadata": {
  "kernelspec": {
   "display_name": "R-native",
   "language": "R",
   "name": "ir_native"
  },
  "language_info": {
   "codemirror_mode": "r",
   "file_extension": ".r",
   "mimetype": "text/x-r-source",
   "name": "R",
   "pygments_lexer": "r",
   "version": "4.4.0"
  }
 },
 "nbformat": 4,
 "nbformat_minor": 5
}
