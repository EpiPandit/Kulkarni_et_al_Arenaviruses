{
 "cells": [
  {
   "cell_type": "code",
   "execution_count": 1,
   "id": "b8788b32",
   "metadata": {},
   "outputs": [
    {
     "name": "stderr",
     "output_type": "stream",
     "text": [
      "terra 1.7.78\n",
      "\n",
      "Loading required package: sp\n",
      "\n",
      "── \u001b[1mAttaching core tidyverse packages\u001b[22m ──────────────────────── tidyverse 2.0.0 ──\n",
      "\u001b[32m✔\u001b[39m \u001b[34mdplyr    \u001b[39m 1.1.4     \u001b[32m✔\u001b[39m \u001b[34mreadr    \u001b[39m 2.1.5\n",
      "\u001b[32m✔\u001b[39m \u001b[34mforcats  \u001b[39m 1.0.0     \u001b[32m✔\u001b[39m \u001b[34mstringr  \u001b[39m 1.5.1\n",
      "\u001b[32m✔\u001b[39m \u001b[34mggplot2  \u001b[39m 3.5.1     \u001b[32m✔\u001b[39m \u001b[34mtibble   \u001b[39m 3.2.1\n",
      "\u001b[32m✔\u001b[39m \u001b[34mlubridate\u001b[39m 1.9.3     \u001b[32m✔\u001b[39m \u001b[34mtidyr    \u001b[39m 1.3.1\n",
      "\u001b[32m✔\u001b[39m \u001b[34mpurrr    \u001b[39m 1.0.2     \n",
      "── \u001b[1mConflicts\u001b[22m ────────────────────────────────────────── tidyverse_conflicts() ──\n",
      "\u001b[31m✖\u001b[39m \u001b[34mtidyr\u001b[39m::\u001b[32mextract()\u001b[39m masks \u001b[34mraster\u001b[39m::extract(), \u001b[34mterra\u001b[39m::extract()\n",
      "\u001b[31m✖\u001b[39m \u001b[34mdplyr\u001b[39m::\u001b[32mfilter()\u001b[39m  masks \u001b[34mstats\u001b[39m::filter()\n",
      "\u001b[31m✖\u001b[39m \u001b[34mdplyr\u001b[39m::\u001b[32mlag()\u001b[39m     masks \u001b[34mstats\u001b[39m::lag()\n",
      "\u001b[31m✖\u001b[39m \u001b[34mdplyr\u001b[39m::\u001b[32mselect()\u001b[39m  masks \u001b[34mraster\u001b[39m::select()\n",
      "\u001b[36mℹ\u001b[39m Use the conflicted package (\u001b[3m\u001b[34m<http://conflicted.r-lib.org/>\u001b[39m\u001b[23m) to force all conflicts to become errors\n"
     ]
    }
   ],
   "source": [
    "setwd(\"/Users/pranavkulkarni/SDM/Climate_Models_Arenaviruses/Data\")\n",
    "\n",
    "library(terra)\n",
    "library(raster)\n",
    "library(tidyverse)"
   ]
  },
  {
   "cell_type": "code",
   "execution_count": 2,
   "id": "c4216daa",
   "metadata": {},
   "outputs": [],
   "source": [
    "curr_junin <- rast(list.files(\"./Input/Processed/Resampled/junin\",pattern = \"*.tif\", full.names = T))\n",
    "ssp2_junin <- rast(list.files(\"./Input/Processed/Projected/junin/SSP2\",pattern = \"*.tif\", full.names = T))\n",
    "ssp5_junin <- rast(list.files(\"./Input/Processed/Projected/junin/SSP5\",pattern = \"*.tif\", full.names = T))"
   ]
  },
  {
   "cell_type": "code",
   "execution_count": 3,
   "id": "81b2c6e7",
   "metadata": {},
   "outputs": [
    {
     "data": {
      "text/plain": [
       "class       : SpatRaster \n",
       "dimensions  : 999, 597, 24  (nrow, ncol, nlyr)\n",
       "resolution  : 0.04166667, 0.04166667  (x, y)\n",
       "extent      : -76.08333, -51.20833, -59.25, -17.625  (xmin, xmax, ymin, ymax)\n",
       "coord. ref. : lon/lat WGS 84 (EPSG:4326) \n",
       "sources     : bclim_01.tif  \n",
       "              bclim_02.tif  \n",
       "              bclim_03.tif  \n",
       "              ... and 21 more source(s)\n",
       "names       : wc2.1~bio_1, wc2.1~bio_2, wc2.1~bio_3, wc2.1~bio_4, wc2.1~bio_5, wc2.1~bio_6, ... \n",
       "min values  :   -12.02850,    3.466667,    28.92157,    129.1205,      -2.336,      -21.06, ... \n",
       "max values  :    26.68033,   19.352333,    78.63371,    682.5399,      36.240,       17.70, ... "
      ]
     },
     "metadata": {},
     "output_type": "display_data"
    }
   ],
   "source": [
    "curr_junin"
   ]
  },
  {
   "cell_type": "code",
   "execution_count": 4,
   "id": "2eb334f8",
   "metadata": {},
   "outputs": [
    {
     "data": {
      "text/plain": [
       "class       : SpatRaster \n",
       "dimensions  : 999, 597, 24  (nrow, ncol, nlyr)\n",
       "resolution  : 0.04166667, 0.04166667  (x, y)\n",
       "extent      : -76.08333, -51.20833, -59.25, -17.625  (xmin, xmax, ymin, ymax)\n",
       "coord. ref. : lon/lat WGS 84 (EPSG:4326) \n",
       "sources     : bclim_01.tif  \n",
       "              bclim_02.tif  \n",
       "              bclim_03.tif  \n",
       "              ... and 21 more source(s)\n",
       "names       : bclim_01, bclim_02, bclim_03, bclim_04, bclim_05, bclim_06, ... \n",
       "min values  :    -10.2,      3.4,     28.4,    113.8,      0.0,    -19.5, ... \n",
       "max values  :     29.1,     19.3,     80.9,    727.5,     39.1,     19.7, ... "
      ]
     },
     "metadata": {},
     "output_type": "display_data"
    }
   ],
   "source": [
    "ssp2_junin"
   ]
  },
  {
   "cell_type": "code",
   "execution_count": 5,
   "id": "1b2e4640",
   "metadata": {},
   "outputs": [],
   "source": [
    "delta_ssp2_junin <- ssp2_junin - curr_junin\n",
    "delta_ssp5_junin <- ssp5_junin - curr_junin\n",
    "\n",
    "writeRaster(delta_ssp2_junin, filename = paste0(\"./Input/Processed/Projected/junin/delta_SSP2/\",\"delta_\", names(curr_junin), \".tif\"), overwrite = TRUE)\n",
    "writeRaster(delta_ssp5_junin, filename = paste0(\"./Input/Processed/Projected/junin/delta_SSP5/\",\"delta_\", names(curr_junin), \".tif\"), overwrite = TRUE)\n",
    "\n",
    "mat_delta_ssp2_junin <- as.data.frame(as.matrix(delta_ssp2_junin))\n",
    "mat_delta_ssp5_junin <- as.data.frame(as.matrix(delta_ssp5_junin))\n",
    "\n",
    "write.csv(mat_delta_ssp2_junin,\"./Input/Processed/Projected/junin/delta_SSP2/delta_ssp2_matrix.csv\", row.names = F)\n",
    "write.csv(mat_delta_ssp5_junin,\"./Input/Processed/Projected/junin/delta_SSP5/delta_ssp5_matrix.csv\", row.names = F)"
   ]
  },
  {
   "cell_type": "code",
   "execution_count": 6,
   "id": "410ab964",
   "metadata": {},
   "outputs": [
    {
     "data": {
      "text/plain": [
       "\n",
       "  FALSE    TRUE \n",
       "7377743 6935929 "
      ]
     },
     "metadata": {},
     "output_type": "display_data"
    }
   ],
   "source": [
    "table(is.na(as.data.frame(as.matrix(delta_ssp2_junin))))"
   ]
  },
  {
   "cell_type": "code",
   "execution_count": 7,
   "id": "4ebd4714",
   "metadata": {},
   "outputs": [],
   "source": [
    "ofl_foi <- rast(\"/Users/pranavkulkarni/SDM/Climate_Models_Arenaviruses/Data/Output/iterations/O_flavescens/current/foi.tif\")\n",
    "ofl_foi_ssp2 <- rast(\"/Users/pranavkulkarni/SDM/Climate_Models_Arenaviruses/Data/Output/iterations/O_flavescens/ssp2/foi_ssp2.tif\")\n",
    "ofl_foi_ssp5<- rast(\"/Users/pranavkulkarni/SDM/Climate_Models_Arenaviruses/Data/Output/iterations/O_flavescens/ssp5/foi_ssp5.tif\")\n",
    "\n",
    "delta_ssp2_ofl <- ofl_foi_ssp2 - ofl_foi\n",
    "delta_ssp5_ofl <- ofl_foi_ssp5 - ofl_foi\n",
    "\n",
    "mat_delta_ssp2_ofl <- as.data.frame(as.matrix(delta_ssp2_ofl))\n",
    "mat_delta_ssp5_ofl <- as.data.frame(as.matrix(delta_ssp5_ofl))\n",
    "\n",
    "write.csv(mat_delta_ssp2_ofl,\"./Input/Processed/Projected/junin/delta_SSP2/ofl_foi.csv\", row.names = F)\n",
    "write.csv(mat_delta_ssp5_ofl,\"./Input/Processed/Projected/junin/delta_SSP5/ofl_foi.csv\", row.names = F)"
   ]
  },
  {
   "cell_type": "code",
   "execution_count": 8,
   "id": "aac995bf",
   "metadata": {},
   "outputs": [
    {
     "data": {
      "text/plain": [
       "\n",
       " FALSE   TRUE \n",
       "305889 290514 "
      ]
     },
     "metadata": {},
     "output_type": "display_data"
    }
   ],
   "source": [
    "table(is.na(mat_delta_ssp2_ofl))"
   ]
  },
  {
   "cell_type": "code",
   "execution_count": 9,
   "id": "91dcf8fb",
   "metadata": {},
   "outputs": [],
   "source": [
    "rm(list = ls(all = T))"
   ]
  },
  {
   "cell_type": "code",
   "execution_count": 10,
   "id": "0ff2c5ca",
   "metadata": {},
   "outputs": [],
   "source": [
    "ssp2_rast <- read.csv(\"./Input/Processed/Projected/junin/delta_SSP2/delta_ssp2_matrix.csv\")\n",
    "ssp5_rast <- read.csv(\"./Input/Processed/Projected/junin/delta_SSP5/delta_ssp5_matrix.csv\")\n",
    "\n",
    "ssp2_ofl_rast <- read.csv(\"./Input/Processed/Projected/junin/delta_SSP2/ofl_foi.csv\")\n",
    "ssp5_ofl_rast <- read.csv(\"./Input/Processed/Projected/junin/delta_SSP5/ofl_foi.csv\")\n"
   ]
  },
  {
   "cell_type": "code",
   "execution_count": 11,
   "id": "f2ff8bcf",
   "metadata": {},
   "outputs": [
    {
     "data": {
      "text/html": [
       "<style>\n",
       ".list-inline {list-style: none; margin:0; padding: 0}\n",
       ".list-inline>li {display: inline-block}\n",
       ".list-inline>li:not(:last-child)::after {content: \"\\00b7\"; padding: 0 .5ex}\n",
       "</style>\n",
       "<ol class=list-inline><li>596403</li><li>24</li></ol>\n"
      ],
      "text/latex": [
       "\\begin{enumerate*}\n",
       "\\item 596403\n",
       "\\item 24\n",
       "\\end{enumerate*}\n"
      ],
      "text/markdown": [
       "1. 596403\n",
       "2. 24\n",
       "\n",
       "\n"
      ],
      "text/plain": [
       "[1] 596403     24"
      ]
     },
     "metadata": {},
     "output_type": "display_data"
    }
   ],
   "source": [
    "dim(ssp2_rast)"
   ]
  },
  {
   "cell_type": "code",
   "execution_count": 12,
   "id": "2f1d5214",
   "metadata": {},
   "outputs": [],
   "source": [
    "comb_ssp2_ofl_rast <- ssp2_rast %>%  mutate(foi = ssp2_ofl_rast$gpw_v4_2000) %>% drop_na(.)\n",
    "comb_ssp5_ofl_rast <- ssp5_rast %>%  mutate(foi = ssp5_ofl_rast$gpw_v4_2000) %>% drop_na(.)\n",
    "\n",
    "write.csv(comb_ssp2_ofl_rast,\"./Input/Processed/Projected/junin/delta_SSP2/delta_ssp2_matrix_ofl.csv\", row.names = F)\n",
    "write.csv(comb_ssp5_ofl_rast,\"./Input/Processed/Projected/junin/delta_SSP5/delta_ssp5_matrix_ofl.csv\", row.names = F)\n"
   ]
  }
 ],
 "metadata": {
  "kernelspec": {
   "display_name": "R-native",
   "language": "R",
   "name": "ir_native"
  },
  "language_info": {
   "codemirror_mode": "r",
   "file_extension": ".r",
   "mimetype": "text/x-r-source",
   "name": "R",
   "pygments_lexer": "r",
   "version": "4.4.0"
  }
 },
 "nbformat": 4,
 "nbformat_minor": 5
}
