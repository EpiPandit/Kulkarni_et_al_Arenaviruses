{
 "cells": [
  {
   "cell_type": "code",
   "execution_count": 9,
   "id": "6c20fada",
   "metadata": {},
   "outputs": [],
   "source": [
    "setwd(\"/Users/pranavkulkarni/SDM/Climate_Models_Arenaviruses\")\n",
    "library(raster)\n",
    "library(terra)\n",
    "library(ggplot2)"
   ]
  },
  {
   "cell_type": "code",
   "execution_count": 3,
   "id": "7d621e79",
   "metadata": {},
   "outputs": [],
   "source": [
    "pers_vs_new <- function(species, quantiles = 10) {\n",
    "  curr <- rast(paste0(\"./Data/Output/iterations/\", species, \"/current/foi_0.02.tif\"))\n",
    "  ssp2 <- rast(paste0(\"./Data/Output/iterations/\", species, \"/ssp2/foi_0.02.tif\"))\n",
    "  ssp5 <- rast(paste0(\"./Data/Output/iterations/\", species, \"/ssp5/foi_0.02.tif\"))\n",
    "  \n",
    "  reclas <- function(foi, quantiles = 10) {\n",
    "    hot_values <- values(foi)\n",
    "    breaks = seq(min(hot_values, na.rm = TRUE), max(hot_values, na.rm = TRUE), length.out = quantiles+1)\n",
    "    reclass_matrix <- cbind(\n",
    "      breaks[-length(breaks)],  \n",
    "      breaks[-1],               \n",
    "      1:quantiles\n",
    "    )\n",
    "    hot <- classify(foi, reclass_matrix)\n",
    "  }\n",
    "  hot_curr <- reclas(curr)\n",
    "  hot_ssp2 <- reclas(ssp2)\n",
    "  hot_ssp5 <- reclas(ssp5)\n",
    "  hot_pers_ssp2 <- ifel(hot_curr == 10 & hot_ssp2 == 10, 1,\n",
    "                      ifel(hot_curr < 10 & hot_ssp2 == 10, 0, NA))\n",
    "  hot_pers_ssp5 <- ifel(hot_curr == 10 & hot_ssp5 == 10, 1,\n",
    "                        ifel(hot_curr < 10 & hot_ssp5 == 10, 0, NA))\n",
    "  spot_pers_ssp2 <- as.points(hot_pers_ssp2)\n",
    "  spot_pers_ssp5 <- as.points(hot_pers_ssp5)\n",
    "  \n",
    "  return(list(ssp2 = spot_pers_ssp2, ssp5 = spot_pers_ssp5))\n",
    "  \n",
    "}"
   ]
  },
  {
   "cell_type": "code",
   "execution_count": 4,
   "id": "798b5b73",
   "metadata": {},
   "outputs": [],
   "source": [
    "zyg_list <- pers_vs_new(\"Z_brevicauda\")\n",
    "sig_list <- pers_vs_new(\"S_alstoni\")\n",
    "ccal_list <- pers_vs_new(\"C_callosus\")\n",
    "cmus_list <- pers_vs_new(\"C_musculinus\")\n",
    "cla_list <- pers_vs_new(\"C_laucha\")\n",
    "ofl_list <- pers_vs_new(\"O_flavescens\")"
   ]
  },
  {
   "cell_type": "code",
   "execution_count": 11,
   "id": "75db548c",
   "metadata": {},
   "outputs": [],
   "source": [
    "ssp2 <- do.call(\"rbind\", list(zyg_list[[\"ssp2\"]],\n",
    "                             sig_list[[\"ssp2\"]],\n",
    "                             ccal_list[[\"ssp2\"]],\n",
    "                             cmus_list[[\"ssp2\"]],\n",
    "                             cla_list[[\"ssp2\"]],\n",
    "                             ofl_list[[\"ssp2\"]]))"
   ]
  },
  {
   "cell_type": "code",
   "execution_count": 12,
   "id": "cdc77f53",
   "metadata": {},
   "outputs": [],
   "source": [
    "ssp5 <- do.call(\"rbind\", list(zyg_list[[\"ssp5\"]],\n",
    "                             sig_list[[\"ssp5\"]],\n",
    "                             ccal_list[[\"ssp5\"]],\n",
    "                             cmus_list[[\"ssp5\"]],\n",
    "                             cla_list[[\"ssp5\"]],\n",
    "                             ofl_list[[\"ssp5\"]]))"
   ]
  },
  {
   "cell_type": "code",
   "execution_count": 15,
   "id": "28b5a724",
   "metadata": {},
   "outputs": [],
   "source": [
    "writeVector(ssp2, './Data/Output/Hotspots/point_shapefiles/ssp2_persistent_vs_new.shp', overwrite = T)\n",
    "writeVector(ssp5, './Data/Output/Hotspots/point_shapefiles/ssp5_persistent_vs_new.shp', overwrite = T)\n"
   ]
  }
 ],
 "metadata": {
  "kernelspec": {
   "display_name": "R-native",
   "language": "R",
   "name": "ir_native"
  },
  "language_info": {
   "codemirror_mode": "r",
   "file_extension": ".r",
   "mimetype": "text/x-r-source",
   "name": "R",
   "pygments_lexer": "r",
   "version": "4.4.0"
  }
 },
 "nbformat": 4,
 "nbformat_minor": 5
}
